{
 "cells": [
  {
   "cell_type": "code",
   "execution_count": 1,
   "id": "ab7618f4",
   "metadata": {
    "_cell_guid": "b1076dfc-b9ad-4769-8c92-a6c4dae69d19",
    "_uuid": "8f2839f25d086af736a60e9eeb907d3b93b6e0e5",
    "execution": {
     "iopub.execute_input": "2025-05-13T10:38:45.455995Z",
     "iopub.status.busy": "2025-05-13T10:38:45.455593Z",
     "iopub.status.idle": "2025-05-13T10:38:50.717307Z",
     "shell.execute_reply": "2025-05-13T10:38:50.716065Z"
    },
    "papermill": {
     "duration": 5.268705,
     "end_time": "2025-05-13T10:38:50.719906",
     "exception": false,
     "start_time": "2025-05-13T10:38:45.451201",
     "status": "completed"
    },
    "tags": []
   },
   "outputs": [
    {
     "name": "stdout",
     "output_type": "stream",
     "text": [
      "Requirement already satisfied: google-generativeai in /usr/local/lib/python3.11/dist-packages (0.8.4)\r\n",
      "Requirement already satisfied: Pillow in /usr/local/lib/python3.11/dist-packages (11.1.0)\r\n",
      "Requirement already satisfied: google-ai-generativelanguage==0.6.15 in /usr/local/lib/python3.11/dist-packages (from google-generativeai) (0.6.15)\r\n",
      "Requirement already satisfied: google-api-core in /usr/local/lib/python3.11/dist-packages (from google-generativeai) (1.34.1)\r\n",
      "Requirement already satisfied: google-api-python-client in /usr/local/lib/python3.11/dist-packages (from google-generativeai) (2.160.0)\r\n",
      "Requirement already satisfied: google-auth>=2.15.0 in /usr/local/lib/python3.11/dist-packages (from google-generativeai) (2.27.0)\r\n",
      "Requirement already satisfied: protobuf in /usr/local/lib/python3.11/dist-packages (from google-generativeai) (3.20.3)\r\n",
      "Requirement already satisfied: pydantic in /usr/local/lib/python3.11/dist-packages (from google-generativeai) (2.11.3)\r\n",
      "Requirement already satisfied: tqdm in /usr/local/lib/python3.11/dist-packages (from google-generativeai) (4.67.1)\r\n",
      "Requirement already satisfied: typing-extensions in /usr/local/lib/python3.11/dist-packages (from google-generativeai) (4.13.1)\r\n",
      "Requirement already satisfied: proto-plus<2.0.0dev,>=1.22.3 in /usr/local/lib/python3.11/dist-packages (from google-ai-generativelanguage==0.6.15->google-generativeai) (1.26.0)\r\n",
      "Requirement already satisfied: googleapis-common-protos<2.0dev,>=1.56.2 in /usr/local/lib/python3.11/dist-packages (from google-api-core->google-generativeai) (1.67.0)\r\n",
      "Requirement already satisfied: requests<3.0.0dev,>=2.18.0 in /usr/local/lib/python3.11/dist-packages (from google-api-core->google-generativeai) (2.32.3)\r\n",
      "Requirement already satisfied: cachetools<6.0,>=2.0.0 in /usr/local/lib/python3.11/dist-packages (from google-auth>=2.15.0->google-generativeai) (5.5.2)\r\n",
      "Requirement already satisfied: pyasn1-modules>=0.2.1 in /usr/local/lib/python3.11/dist-packages (from google-auth>=2.15.0->google-generativeai) (0.4.1)\r\n",
      "Requirement already satisfied: rsa<5,>=3.1.4 in /usr/local/lib/python3.11/dist-packages (from google-auth>=2.15.0->google-generativeai) (4.9)\r\n",
      "Requirement already satisfied: httplib2<1.dev0,>=0.19.0 in /usr/local/lib/python3.11/dist-packages (from google-api-python-client->google-generativeai) (0.22.0)\r\n",
      "Requirement already satisfied: google-auth-httplib2<1.0.0,>=0.2.0 in /usr/local/lib/python3.11/dist-packages (from google-api-python-client->google-generativeai) (0.2.0)\r\n",
      "Requirement already satisfied: uritemplate<5,>=3.0.1 in /usr/local/lib/python3.11/dist-packages (from google-api-python-client->google-generativeai) (4.1.1)\r\n",
      "Requirement already satisfied: annotated-types>=0.6.0 in /usr/local/lib/python3.11/dist-packages (from pydantic->google-generativeai) (0.7.0)\r\n",
      "Requirement already satisfied: pydantic-core==2.33.1 in /usr/local/lib/python3.11/dist-packages (from pydantic->google-generativeai) (2.33.1)\r\n",
      "Requirement already satisfied: typing-inspection>=0.4.0 in /usr/local/lib/python3.11/dist-packages (from pydantic->google-generativeai) (0.4.0)\r\n",
      "Requirement already satisfied: grpcio<2.0dev,>=1.33.2 in /usr/local/lib/python3.11/dist-packages (from google-api-core[grpc]!=2.0.*,!=2.1.*,!=2.10.*,!=2.2.*,!=2.3.*,!=2.4.*,!=2.5.*,!=2.6.*,!=2.7.*,!=2.8.*,!=2.9.*,<3.0.0dev,>=1.34.1->google-ai-generativelanguage==0.6.15->google-generativeai) (1.70.0)\r\n",
      "Requirement already satisfied: grpcio-status<2.0dev,>=1.33.2 in /usr/local/lib/python3.11/dist-packages (from google-api-core[grpc]!=2.0.*,!=2.1.*,!=2.10.*,!=2.2.*,!=2.3.*,!=2.4.*,!=2.5.*,!=2.6.*,!=2.7.*,!=2.8.*,!=2.9.*,<3.0.0dev,>=1.34.1->google-ai-generativelanguage==0.6.15->google-generativeai) (1.48.2)\r\n",
      "Requirement already satisfied: pyparsing!=3.0.0,!=3.0.1,!=3.0.2,!=3.0.3,<4,>=2.4.2 in /usr/local/lib/python3.11/dist-packages (from httplib2<1.dev0,>=0.19.0->google-api-python-client->google-generativeai) (3.2.1)\r\n",
      "Requirement already satisfied: pyasn1<0.7.0,>=0.4.6 in /usr/local/lib/python3.11/dist-packages (from pyasn1-modules>=0.2.1->google-auth>=2.15.0->google-generativeai) (0.6.1)\r\n",
      "Requirement already satisfied: charset-normalizer<4,>=2 in /usr/local/lib/python3.11/dist-packages (from requests<3.0.0dev,>=2.18.0->google-api-core->google-generativeai) (3.4.1)\r\n",
      "Requirement already satisfied: idna<4,>=2.5 in /usr/local/lib/python3.11/dist-packages (from requests<3.0.0dev,>=2.18.0->google-api-core->google-generativeai) (3.10)\r\n",
      "Requirement already satisfied: urllib3<3,>=1.21.1 in /usr/local/lib/python3.11/dist-packages (from requests<3.0.0dev,>=2.18.0->google-api-core->google-generativeai) (2.3.0)\r\n",
      "Requirement already satisfied: certifi>=2017.4.17 in /usr/local/lib/python3.11/dist-packages (from requests<3.0.0dev,>=2.18.0->google-api-core->google-generativeai) (2025.1.31)\r\n"
     ]
    }
   ],
   "source": [
    "!pip install google-generativeai Pillow"
   ]
  },
  {
   "cell_type": "code",
   "execution_count": 2,
   "id": "437f5c92",
   "metadata": {
    "execution": {
     "iopub.execute_input": "2025-05-13T10:38:50.728138Z",
     "iopub.status.busy": "2025-05-13T10:38:50.727769Z",
     "iopub.status.idle": "2025-05-13T10:38:53.286801Z",
     "shell.execute_reply": "2025-05-13T10:38:53.285649Z"
    },
    "papermill": {
     "duration": 2.56516,
     "end_time": "2025-05-13T10:38:53.288573",
     "exception": false,
     "start_time": "2025-05-13T10:38:50.723413",
     "status": "completed"
    },
    "tags": []
   },
   "outputs": [],
   "source": [
    "import pandas as pd\n",
    "df = pd.read_csv('/kaggle/input/ids-without-oversampling1/ids_without_oversampling1.csv')"
   ]
  },
  {
   "cell_type": "code",
   "execution_count": 3,
   "id": "21df08c6",
   "metadata": {
    "execution": {
     "iopub.execute_input": "2025-05-13T10:38:53.296087Z",
     "iopub.status.busy": "2025-05-13T10:38:53.295757Z",
     "iopub.status.idle": "2025-05-13T10:38:53.302570Z",
     "shell.execute_reply": "2025-05-13T10:38:53.301519Z"
    },
    "papermill": {
     "duration": 0.012769,
     "end_time": "2025-05-13T10:38:53.304329",
     "exception": false,
     "start_time": "2025-05-13T10:38:53.291560",
     "status": "completed"
    },
    "tags": []
   },
   "outputs": [],
   "source": [
    "prompt = \"\"\"You are an expert in generating questions and answers for e-commerce product images. Your task is to create questions and one-word answers to train a Visual Question Answering (VQA) model specifically for online shopping scenarios. You will be provided with a single product image and its associated metadata.\n",
    "\n",
    "**Input:**\n",
    "\n",
    "With each prompt, you will receive:\n",
    "\n",
    "* A single e-commerce product image (which I cannot directly include in this text prompt, but assume it will be passed correctly to the API).\n",
    "* Accompanying metadata (which may be empty or contain product details). The metadata will be structured as a dictionary.  This metadata may include information like:\n",
    "    * Product name\n",
    "    * Category\n",
    "    * Color\n",
    "    * Material\n",
    "    * Price\n",
    "    * Brand\n",
    "    * Features\n",
    "\n",
    "**Task:**\n",
    "\n",
    "For the single product image provided with the prompt, generate 6 questions and their corresponding one-word answers. The questions should be designed to be answerable by a VQA model using only the visual content of the image, **without relying on the metadata** .\n",
    "\n",
    "* **Metadata-Driven Questions (Minimum 3):** If the metadata is present and relevant, formulate up to 3 questions that connect the image to the metadata.  These questions MUST be answerable by looking at the image ONLY even if the model doesn't have the metadata.  Examples:\n",
    "        * \"What is the color of the [product type from metadata]?\"\n",
    "        * \"What is the brand of this [product type]?\" (if brand is visible)\n",
    "        * \"What is the material of the [part of the product]?\" (if material is visually discernible)\n",
    "* **Image-Driven Questions (Minimum 3, up to 6):** Generate at least 3 questions based purely on the image content. These should focus on visual attributes of the product. If the metadata is insufficient or unsuitable, generate all 6 questions from the image.  Examples:\n",
    "        * \"What is the shape of the [product part]?\"\n",
    "        * \"Are there any patterns?\"\n",
    "        * \"What is this made of?\" (if discernible)\n",
    "* **Question Types:** Vary the question types to cover relevant e-commerce product attributes:\n",
    "    * Product Type: \"What is this?\"\n",
    "    * Color: \"What is the color?\"\n",
    "    * Material: \"What is it made of?\"\n",
    "    * Pattern: \"Is it striped?\"\n",
    "    * Shape: \"What is the shape?\"\n",
    "    * Parts: \"What part is this?\"\n",
    "    * Features: \"Does it have buttons?\"\n",
    "\n",
    "* **Binary (Yes/No) Questions (Highest Priority):**  \n",
    "  - If a question starts with **Is**, **Are**, **Does**, **Do**, **Has**, or **Have**, the answer **must** be exactly **Yes** or **No** .  \n",
    "  - **Do not** output any other word for these questions. \n",
    "* **One-Word Answers:**  \n",
    "  Every answer must be a single word. For binary questions, that word is either **Yes** or **No**. For all others, choose the most concise descriptive term.\n",
    "* **MATERIAL ABSTRACTION**  \n",
    "  - When asking **“What is the material…?”**, your answer must be one of these generic categories only:  \n",
    "  **metal, plastic, wood, glass, ceramic, fabric, leather, rubber, paper, cardboard**.  \n",
    "  - Never use subtypes (e.g. “copper”, “oak”), only the generic term.  \n",
    "* **Output Format:** Provide the output as a JSON array of objects with the following structure:\n",
    "\n",
    "    ```json\n",
    "    [\n",
    "        {\n",
    "            \"question\": \"Question 1 here\",\n",
    "            \"answer\": \"Answer1\"\n",
    "        },\n",
    "        {\n",
    "            \"question\": \"Question 2 here\",\n",
    "            \"answer\": \"Answer2\"\n",
    "        },\n",
    "        {\n",
    "            \"question\": \"Question 3 here\",\n",
    "            \"answer\": \"Answer3\"\n",
    "        },\n",
    "        {\n",
    "            \"question\": \"Question 4 here\",\n",
    "            \"answer\": \"Answer4\"\n",
    "        },\n",
    "        {\n",
    "            \"question\": \"Question 5 here\",\n",
    "            \"answer\": \"Answer5\"\n",
    "        },\n",
    "        {\n",
    "            \"question\": \"Question 6 here\",\n",
    "            \"answer\": \"Answer6\"\n",
    "        }\n",
    "    ]\n",
    "    ```\n",
    "\n",
    "**Constraints:**\n",
    "\n",
    "* Do not generate questions that require external knowledge or information not present in the image or metadata.\n",
    "* Focus on factual and directly observable information.\n",
    "* Prioritize the image content over the metadata, but use metadata to guide relevant questions.\n",
    "* Adhere strictly to the one-word answer constraint.\n",
    "* Ensure questions are relevant to typical e-commerce product attributes.\n",
    "\n",
    "Provide the output for ONLY the single image provided with this prompt. Each subsequent image will be provided in a new prompt, along with its metadata.\n",
    "\"\"\""
   ]
  },
  {
   "cell_type": "code",
   "execution_count": 4,
   "id": "d6977d56",
   "metadata": {
    "execution": {
     "iopub.execute_input": "2025-05-13T10:38:53.311355Z",
     "iopub.status.busy": "2025-05-13T10:38:53.311038Z",
     "iopub.status.idle": "2025-05-13T10:38:54.439467Z",
     "shell.execute_reply": "2025-05-13T10:38:54.438572Z"
    },
    "papermill": {
     "duration": 1.134271,
     "end_time": "2025-05-13T10:38:54.441445",
     "exception": false,
     "start_time": "2025-05-13T10:38:53.307174",
     "status": "completed"
    },
    "tags": []
   },
   "outputs": [
    {
     "name": "stderr",
     "output_type": "stream",
     "text": [
      "/usr/local/lib/python3.11/dist-packages/pydantic/_internal/_generate_schema.py:623: UserWarning: <built-in function any> is not a Python type (it may be an instance of an object), Pydantic will allow any object with no validation since we cannot even enforce that the input is an instance of the given type. To get rid of this error wrap the type with `pydantic.SkipValidation`.\n",
      "  warn(\n"
     ]
    }
   ],
   "source": [
    "from google import genai\n",
    "import json\n",
    "from pydantic import BaseModel, Field, ValidationError\n",
    "from typing import List, Dict\n",
    "from PIL import Image\n",
    "import io\n",
    "import os\n",
    "import time\n",
    "\n",
    "class QuestionAnswerPair(BaseModel):\n",
    "    question: str = Field(..., description=\"The question about the image\")\n",
    "    answer: str = Field(..., description=\"One-word answer to the question\")\n",
    "\n",
    "class QAGenerationOutput(BaseModel):\n",
    "    questions: List[QuestionAnswerPair] = Field(..., description=\"List of question-answer pairs\")\n",
    "\n",
    "def generate_qa_json_with_prompt_metadata(img, metadata, prompt: str) -> QAGenerationOutput:\n",
    "\n",
    "    try:\n",
    "        # Convert PIL Image to base64\n",
    "        # Incorporate metadata into the prompt\n",
    "        metadata_string = json.dumps(metadata)  # Convert metadata to a JSON string\n",
    "        full_prompt = f\"{prompt} Image Metadata: {metadata_string}  \"\n",
    "\n",
    "        response = client.models.generate_content(\n",
    "                model = 'gemini-2.0-flash',\n",
    "                contents=[img, full_prompt],\n",
    "                config={\n",
    "                    'response_mime_type': 'application/json',\n",
    "                    'response_schema': QAGenerationOutput,\n",
    "                }\n",
    "            )\n",
    "        response_text = response.text\n",
    "        # print(response_text)\n",
    "        # Attempt to parse the response as JSON\n",
    "        try:\n",
    "            json_output = json.loads(response_text)\n",
    "            # print(json_output)\n",
    "            # print(type(json_output))\n",
    "        except json.JSONDecodeError:\n",
    "            raise ValueError(\"Invalid JSON format in API response.\")\n",
    "\n",
    "        # Validate the JSON structure using Pydantic\n",
    "        try:\n",
    "            return QAGenerationOutput.model_validate_json(response_text)\n",
    "        except ValidationError as e:\n",
    "            raise ValueError(f\"JSON does not match expected schema: {e}\")\n",
    "\n",
    "    except Exception as e:\n",
    "        raise Exception(f\"Error generating or processing Q&A: {e}\")\n",
    "\n",
    "\n",
    "# try:\n",
    "#     img = Image.open(path)\n",
    "#     qa_output = generate_qa_json_with_prompt_metadata(img, metadata, prompt)\n",
    "\n",
    "#     print(\"Generated Q&A (Pydantic Object):\")\n",
    "#     for qa in qa_output.questions:\n",
    "#         print(f\"- Q: {qa.question}  A: {qa.answer}\")\n",
    "\n",
    "#     print(\"\\nGenerated Q&A (JSON String):\")\n",
    "#     print(qa_output.model_dump_json(indent=2))\n",
    "\n",
    "# except ValueError as e:\n",
    "#     print(f\"Error: {e}\")\n",
    "# except Exception as e:\n",
    "#     print(f\"An unexpected error occurred: {e}\")"
   ]
  },
  {
   "cell_type": "code",
   "execution_count": null,
   "id": "ce546f5d",
   "metadata": {
    "execution": {
     "iopub.execute_input": "2025-05-13T10:38:54.448540Z",
     "iopub.status.busy": "2025-05-13T10:38:54.448051Z",
     "iopub.status.idle": "2025-05-13T18:10:29.852856Z",
     "shell.execute_reply": "2025-05-13T18:10:29.851644Z"
    },
    "papermill": {
     "duration": 27095.410124,
     "end_time": "2025-05-13T18:10:29.854514",
     "exception": false,
     "start_time": "2025-05-13T10:38:54.444390",
     "status": "completed"
    },
    "tags": []
   },
   "outputs": [
    {
     "name": "stderr",
     "output_type": "stream",
     "text": [
      "Curating VQA:   3%|▎         | 294/11024 [11:31<7:00:13,  2.35s/img]"
     ]
    },
    {
     "name": "stdout",
     "output_type": "stream",
     "text": [
      " Error for 71kEsImLM+L (idx=294): Error generating or processing Q&A: 503 UNAVAILABLE. {'error': {'code': 503, 'message': 'The service is currently unavailable.', 'status': 'UNAVAILABLE'}}\n"
     ]
    },
    {
     "name": "stderr",
     "output_type": "stream",
     "text": [
      "Curating VQA:   8%|▊         | 872/11024 [33:59<6:50:17,  2.42s/img]"
     ]
    },
    {
     "name": "stdout",
     "output_type": "stream",
     "text": [
      " Error for 61Ol4LWtJ5L (idx=872): Error generating or processing Q&A: 503 UNAVAILABLE. {'error': {'code': 503, 'message': 'The service is currently unavailable.', 'status': 'UNAVAILABLE'}}\n"
     ]
    },
    {
     "name": "stderr",
     "output_type": "stream",
     "text": [
      "Curating VQA:   8%|▊         | 901/11024 [35:04<6:27:24,  2.30s/img]"
     ]
    },
    {
     "name": "stdout",
     "output_type": "stream",
     "text": [
      " Error for 71yiIfBdGmL (idx=901): Error generating or processing Q&A: 503 UNAVAILABLE. {'error': {'code': 503, 'message': 'The service is currently unavailable.', 'status': 'UNAVAILABLE'}}\n"
     ]
    },
    {
     "name": "stderr",
     "output_type": "stream",
     "text": [
      "Curating VQA:   8%|▊         | 929/11024 [36:07<6:25:51,  2.29s/img]"
     ]
    },
    {
     "name": "stdout",
     "output_type": "stream",
     "text": [
      " Error for 71j17AncjIL (idx=929): Error generating or processing Q&A: 503 UNAVAILABLE. {'error': {'code': 503, 'message': 'The service is currently unavailable.', 'status': 'UNAVAILABLE'}}\n"
     ]
    },
    {
     "name": "stderr",
     "output_type": "stream",
     "text": [
      "Curating VQA:  10%|▉         | 1050/11024 [41:09<6:12:36,  2.24s/img]"
     ]
    },
    {
     "name": "stdout",
     "output_type": "stream",
     "text": [
      " Error for 71aieU78o-L (idx=1050): Error generating or processing Q&A: 503 UNAVAILABLE. {'error': {'code': 503, 'message': 'The service is currently unavailable.', 'status': 'UNAVAILABLE'}}\n"
     ]
    },
    {
     "name": "stderr",
     "output_type": "stream",
     "text": [
      "Curating VQA:  10%|▉         | 1061/11024 [41:33<6:17:32,  2.27s/img]"
     ]
    },
    {
     "name": "stdout",
     "output_type": "stream",
     "text": [
      " Error for 91wUomFs2iL (idx=1061): Error generating or processing Q&A: 503 UNAVAILABLE. {'error': {'code': 503, 'message': 'The service is currently unavailable.', 'status': 'UNAVAILABLE'}}\n"
     ]
    },
    {
     "name": "stderr",
     "output_type": "stream",
     "text": [
      "Curating VQA:  11%|█         | 1187/11024 [46:26<6:29:32,  2.38s/img]"
     ]
    },
    {
     "name": "stdout",
     "output_type": "stream",
     "text": [
      " Error for 91qUoaaWhWL (idx=1187): Error generating or processing Q&A: 503 UNAVAILABLE. {'error': {'code': 503, 'message': 'The service is currently unavailable.', 'status': 'UNAVAILABLE'}}\n"
     ]
    },
    {
     "name": "stderr",
     "output_type": "stream",
     "text": [
      "Curating VQA:  11%|█         | 1206/11024 [47:08<6:02:22,  2.21s/img]"
     ]
    },
    {
     "name": "stdout",
     "output_type": "stream",
     "text": [
      " Error for A1lweV4e81L (idx=1206): Error generating or processing Q&A: 503 UNAVAILABLE. {'error': {'code': 503, 'message': 'The service is currently unavailable.', 'status': 'UNAVAILABLE'}}\n"
     ]
    },
    {
     "name": "stderr",
     "output_type": "stream",
     "text": [
      "Curating VQA:  11%|█         | 1209/11024 [47:13<5:42:15,  2.09s/img]"
     ]
    },
    {
     "name": "stdout",
     "output_type": "stream",
     "text": [
      " Error for 71QchPSBYsL (idx=1209): Error generating or processing Q&A: 503 UNAVAILABLE. {'error': {'code': 503, 'message': 'The service is currently unavailable.', 'status': 'UNAVAILABLE'}}\n"
     ]
    },
    {
     "name": "stderr",
     "output_type": "stream",
     "text": [
      "Curating VQA:  11%|█         | 1235/11024 [48:12<6:13:08,  2.29s/img]"
     ]
    },
    {
     "name": "stdout",
     "output_type": "stream",
     "text": [
      " Error for 61-jwWHLOHL (idx=1235): Error generating or processing Q&A: 503 UNAVAILABLE. {'error': {'code': 503, 'message': 'The service is currently unavailable.', 'status': 'UNAVAILABLE'}}\n"
     ]
    },
    {
     "name": "stderr",
     "output_type": "stream",
     "text": [
      "Curating VQA:  43%|████▎     | 4763/11024 [3:08:32<4:33:49,  2.62s/img]"
     ]
    },
    {
     "name": "stdout",
     "output_type": "stream",
     "text": [
      " Error for 61MaL41iqyL (idx=4763): Error generating or processing Q&A: 503 UNAVAILABLE. {'error': {'code': 503, 'message': 'The service is currently unavailable.', 'status': 'UNAVAILABLE'}}\n"
     ]
    },
    {
     "name": "stderr",
     "output_type": "stream",
     "text": [
      "Curating VQA:  43%|████▎     | 4780/11024 [3:09:13<4:11:45,  2.42s/img]"
     ]
    },
    {
     "name": "stdout",
     "output_type": "stream",
     "text": [
      " Error for 71ggeboAl6L (idx=4780): Error generating or processing Q&A: 503 UNAVAILABLE. {'error': {'code': 503, 'message': 'The service is currently unavailable.', 'status': 'UNAVAILABLE'}}\n"
     ]
    },
    {
     "name": "stderr",
     "output_type": "stream",
     "text": [
      "Curating VQA:  47%|████▋     | 5173/11024 [3:25:44<3:56:19,  2.42s/img]"
     ]
    },
    {
     "name": "stdout",
     "output_type": "stream",
     "text": [
      " Error for 71EN5kL9P+L (idx=5173): Error generating or processing Q&A: 503 UNAVAILABLE. {'error': {'code': 503, 'message': 'The model is overloaded. Please try again later.', 'status': 'UNAVAILABLE'}}\n"
     ]
    },
    {
     "name": "stderr",
     "output_type": "stream",
     "text": [
      "Curating VQA:  47%|████▋     | 5174/11024 [3:25:45<3:09:17,  1.94s/img]"
     ]
    },
    {
     "name": "stdout",
     "output_type": "stream",
     "text": [
      " Error for 71jpgvaQ+PL (idx=5174): Error generating or processing Q&A: 503 UNAVAILABLE. {'error': {'code': 503, 'message': 'The model is overloaded. Please try again later.', 'status': 'UNAVAILABLE'}}\n"
     ]
    },
    {
     "name": "stderr",
     "output_type": "stream",
     "text": [
      "Curating VQA:  47%|████▋     | 5175/11024 [3:25:45<2:36:09,  1.60s/img]"
     ]
    },
    {
     "name": "stdout",
     "output_type": "stream",
     "text": [
      " Error for 71TWQPYzysL (idx=5175): Error generating or processing Q&A: 503 UNAVAILABLE. {'error': {'code': 503, 'message': 'The model is overloaded. Please try again later.', 'status': 'UNAVAILABLE'}}\n"
     ]
    },
    {
     "name": "stderr",
     "output_type": "stream",
     "text": [
      "Curating VQA:  47%|████▋     | 5179/11024 [3:25:56<3:38:56,  2.25s/img]"
     ]
    },
    {
     "name": "stdout",
     "output_type": "stream",
     "text": [
      " Error for 916vQxBselL (idx=5179): Error generating or processing Q&A: 503 UNAVAILABLE. {'error': {'code': 503, 'message': 'The model is overloaded. Please try again later.', 'status': 'UNAVAILABLE'}}\n"
     ]
    },
    {
     "name": "stderr",
     "output_type": "stream",
     "text": [
      "Curating VQA:  47%|████▋     | 5180/11024 [3:25:57<2:56:22,  1.81s/img]"
     ]
    },
    {
     "name": "stdout",
     "output_type": "stream",
     "text": [
      " Error for 71DBva91N1L (idx=5180): Error generating or processing Q&A: 503 UNAVAILABLE. {'error': {'code': 503, 'message': 'The model is overloaded. Please try again later.', 'status': 'UNAVAILABLE'}}\n"
     ]
    },
    {
     "name": "stderr",
     "output_type": "stream",
     "text": [
      "Curating VQA:  47%|████▋     | 5181/11024 [3:25:57<2:26:08,  1.50s/img]"
     ]
    },
    {
     "name": "stdout",
     "output_type": "stream",
     "text": [
      " Error for 619CIAX3StL (idx=5181): Error generating or processing Q&A: 503 UNAVAILABLE. {'error': {'code': 503, 'message': 'The model is overloaded. Please try again later.', 'status': 'UNAVAILABLE'}}\n"
     ]
    },
    {
     "name": "stderr",
     "output_type": "stream",
     "text": [
      "Curating VQA:  47%|████▋     | 5183/11024 [3:26:00<2:36:02,  1.60s/img]"
     ]
    },
    {
     "name": "stdout",
     "output_type": "stream",
     "text": [
      " Error for 71ui1iUoOrL (idx=5183): Error generating or processing Q&A: 503 UNAVAILABLE. {'error': {'code': 503, 'message': 'The model is overloaded. Please try again later.', 'status': 'UNAVAILABLE'}}\n"
     ]
    },
    {
     "name": "stderr",
     "output_type": "stream",
     "text": [
      "Curating VQA:  47%|████▋     | 5184/11024 [3:26:01<2:11:44,  1.35s/img]"
     ]
    },
    {
     "name": "stdout",
     "output_type": "stream",
     "text": [
      " Error for 51ScnCwN9mL (idx=5184): Error generating or processing Q&A: 503 UNAVAILABLE. {'error': {'code': 503, 'message': 'The model is overloaded. Please try again later.', 'status': 'UNAVAILABLE'}}\n"
     ]
    },
    {
     "name": "stderr",
     "output_type": "stream",
     "text": [
      "Curating VQA:  47%|████▋     | 5207/11024 [3:26:56<4:00:16,  2.48s/img]"
     ]
    },
    {
     "name": "stdout",
     "output_type": "stream",
     "text": [
      " Error for 91ALGJ6oJUL (idx=5207): Error generating or processing Q&A: 503 UNAVAILABLE. {'error': {'code': 503, 'message': 'The model is overloaded. Please try again later.', 'status': 'UNAVAILABLE'}}\n"
     ]
    },
    {
     "name": "stderr",
     "output_type": "stream",
     "text": [
      "Curating VQA:  47%|████▋     | 5208/11024 [3:26:57<3:11:11,  1.97s/img]"
     ]
    },
    {
     "name": "stdout",
     "output_type": "stream",
     "text": [
      " Error for A1S3h8Ua87L (idx=5208): Error generating or processing Q&A: 503 UNAVAILABLE. {'error': {'code': 503, 'message': 'The model is overloaded. Please try again later.', 'status': 'UNAVAILABLE'}}\n"
     ]
    },
    {
     "name": "stderr",
     "output_type": "stream",
     "text": [
      "Curating VQA:  48%|████▊     | 5304/11024 [3:30:55<3:44:47,  2.36s/img]"
     ]
    },
    {
     "name": "stdout",
     "output_type": "stream",
     "text": [
      " Error for 71mwYetZo4L (idx=5304): Error generating or processing Q&A: 503 UNAVAILABLE. {'error': {'code': 503, 'message': 'The model is overloaded. Please try again later.', 'status': 'UNAVAILABLE'}}\n"
     ]
    },
    {
     "name": "stderr",
     "output_type": "stream",
     "text": [
      "Curating VQA:  48%|████▊     | 5305/11024 [3:30:56<2:59:25,  1.88s/img]"
     ]
    },
    {
     "name": "stdout",
     "output_type": "stream",
     "text": [
      " Error for 81lqT0tBOtL (idx=5305): Error generating or processing Q&A: 503 UNAVAILABLE. {'error': {'code': 503, 'message': 'The model is overloaded. Please try again later.', 'status': 'UNAVAILABLE'}}\n"
     ]
    },
    {
     "name": "stderr",
     "output_type": "stream",
     "text": [
      "Curating VQA:  48%|████▊     | 5330/11024 [3:31:57<4:11:10,  2.65s/img]"
     ]
    },
    {
     "name": "stdout",
     "output_type": "stream",
     "text": [
      " Error for 713e8uxJxeL (idx=5330): Error generating or processing Q&A: 503 UNAVAILABLE. {'error': {'code': 503, 'message': 'The model is overloaded. Please try again later.', 'status': 'UNAVAILABLE'}}\n"
     ]
    },
    {
     "name": "stderr",
     "output_type": "stream",
     "text": [
      "Curating VQA:  48%|████▊     | 5333/11024 [3:32:02<3:37:02,  2.29s/img]"
     ]
    },
    {
     "name": "stdout",
     "output_type": "stream",
     "text": [
      " Error for 816m3mL+xNL (idx=5333): Error generating or processing Q&A: 503 UNAVAILABLE. {'error': {'code': 503, 'message': 'The model is overloaded. Please try again later.', 'status': 'UNAVAILABLE'}}\n"
     ]
    },
    {
     "name": "stderr",
     "output_type": "stream",
     "text": [
      "Curating VQA:  50%|█████     | 5553/11024 [3:41:52<3:44:52,  2.47s/img]"
     ]
    },
    {
     "name": "stdout",
     "output_type": "stream",
     "text": [
      " Error for 31f4mRphAnL (idx=5553): Error generating or processing Q&A: 503 UNAVAILABLE. {'error': {'code': 503, 'message': 'The model is overloaded. Please try again later.', 'status': 'UNAVAILABLE'}}\n"
     ]
    },
    {
     "name": "stderr",
     "output_type": "stream",
     "text": [
      "Curating VQA:  50%|█████     | 5554/11024 [3:41:53<2:58:27,  1.96s/img]"
     ]
    },
    {
     "name": "stdout",
     "output_type": "stream",
     "text": [
      " Error for 81wSP6xPg7L (idx=5554): Error generating or processing Q&A: 503 UNAVAILABLE. {'error': {'code': 503, 'message': 'The model is overloaded. Please try again later.', 'status': 'UNAVAILABLE'}}\n"
     ]
    },
    {
     "name": "stderr",
     "output_type": "stream",
     "text": [
      "Curating VQA:  50%|█████     | 5555/11024 [3:41:53<2:25:37,  1.60s/img]"
     ]
    },
    {
     "name": "stdout",
     "output_type": "stream",
     "text": [
      " Error for 61Rj4-fD5JL (idx=5555): Error generating or processing Q&A: 503 UNAVAILABLE. {'error': {'code': 503, 'message': 'The model is overloaded. Please try again later.', 'status': 'UNAVAILABLE'}}\n"
     ]
    },
    {
     "name": "stderr",
     "output_type": "stream",
     "text": [
      "Curating VQA:  50%|█████     | 5556/11024 [3:41:54<2:03:26,  1.35s/img]"
     ]
    },
    {
     "name": "stdout",
     "output_type": "stream",
     "text": [
      " Error for 91L2g6UStnL (idx=5556): Error generating or processing Q&A: 503 UNAVAILABLE. {'error': {'code': 503, 'message': 'The model is overloaded. Please try again later.', 'status': 'UNAVAILABLE'}}\n"
     ]
    },
    {
     "name": "stderr",
     "output_type": "stream",
     "text": [
      "Curating VQA:  50%|█████     | 5558/11024 [3:41:57<2:16:59,  1.50s/img]"
     ]
    },
    {
     "name": "stdout",
     "output_type": "stream",
     "text": [
      " Error for 61VR0hujLJL (idx=5558): Error generating or processing Q&A: 503 UNAVAILABLE. {'error': {'code': 503, 'message': 'The model is overloaded. Please try again later.', 'status': 'UNAVAILABLE'}}\n"
     ]
    },
    {
     "name": "stderr",
     "output_type": "stream",
     "text": [
      "Curating VQA:  50%|█████     | 5559/11024 [3:41:58<1:56:26,  1.28s/img]"
     ]
    },
    {
     "name": "stdout",
     "output_type": "stream",
     "text": [
      " Error for 717OoSRkL1L (idx=5559): Error generating or processing Q&A: 503 UNAVAILABLE. {'error': {'code': 503, 'message': 'The model is overloaded. Please try again later.', 'status': 'UNAVAILABLE'}}\n"
     ]
    },
    {
     "name": "stderr",
     "output_type": "stream",
     "text": [
      "Curating VQA:  52%|█████▏    | 5777/11024 [3:50:54<3:35:18,  2.46s/img]"
     ]
    },
    {
     "name": "stdout",
     "output_type": "stream",
     "text": [
      " Error for 51zdFSNW-xL (idx=5777): Error generating or processing Q&A: 503 UNAVAILABLE. {'error': {'code': 503, 'message': 'The model is overloaded. Please try again later.', 'status': 'UNAVAILABLE'}}\n"
     ]
    },
    {
     "name": "stderr",
     "output_type": "stream",
     "text": [
      "Curating VQA:  52%|█████▏    | 5778/11024 [3:50:55<2:56:28,  2.02s/img]"
     ]
    },
    {
     "name": "stdout",
     "output_type": "stream",
     "text": [
      " Error for 71KjsVv80mL (idx=5778): Error generating or processing Q&A: 503 UNAVAILABLE. {'error': {'code': 503, 'message': 'The model is overloaded. Please try again later.', 'status': 'UNAVAILABLE'}}\n"
     ]
    },
    {
     "name": "stderr",
     "output_type": "stream",
     "text": [
      "Curating VQA:  52%|█████▏    | 5780/11024 [3:50:58<2:37:55,  1.81s/img]"
     ]
    },
    {
     "name": "stdout",
     "output_type": "stream",
     "text": [
      " Error for 91SHXE16QcL (idx=5780): Error generating or processing Q&A: 503 UNAVAILABLE. {'error': {'code': 503, 'message': 'The model is overloaded. Please try again later.', 'status': 'UNAVAILABLE'}}\n"
     ]
    },
    {
     "name": "stderr",
     "output_type": "stream",
     "text": [
      "Curating VQA:  53%|█████▎    | 5826/11024 [3:52:55<3:35:59,  2.49s/img]"
     ]
    },
    {
     "name": "stdout",
     "output_type": "stream",
     "text": [
      " Error for 71pZeQV3XvL (idx=5826): Error generating or processing Q&A: 503 UNAVAILABLE. {'error': {'code': 503, 'message': 'The model is overloaded. Please try again later.', 'status': 'UNAVAILABLE'}}\n"
     ]
    },
    {
     "name": "stderr",
     "output_type": "stream",
     "text": [
      "Curating VQA:  53%|█████▎    | 5875/11024 [3:54:52<3:29:16,  2.44s/img]"
     ]
    },
    {
     "name": "stdout",
     "output_type": "stream",
     "text": [
      " Error for 51qR0Sd4RtL (idx=5875): Error generating or processing Q&A: 503 UNAVAILABLE. {'error': {'code': 503, 'message': 'The model is overloaded. Please try again later.', 'status': 'UNAVAILABLE'}}\n"
     ]
    },
    {
     "name": "stderr",
     "output_type": "stream",
     "text": [
      "Curating VQA:  53%|█████▎    | 5876/11024 [3:54:52<2:46:45,  1.94s/img]"
     ]
    },
    {
     "name": "stdout",
     "output_type": "stream",
     "text": [
      " Error for 71HlazU9GDL (idx=5876): Error generating or processing Q&A: 503 UNAVAILABLE. {'error': {'code': 503, 'message': 'The model is overloaded. Please try again later.', 'status': 'UNAVAILABLE'}}\n"
     ]
    },
    {
     "name": "stderr",
     "output_type": "stream",
     "text": [
      "Curating VQA:  53%|█████▎    | 5879/11024 [3:54:58<2:45:34,  1.93s/img]"
     ]
    },
    {
     "name": "stdout",
     "output_type": "stream",
     "text": [
      " Error for 51m+G3ES0fL (idx=5879): Error generating or processing Q&A: 503 UNAVAILABLE. {'error': {'code': 503, 'message': 'The model is overloaded. Please try again later.', 'status': 'UNAVAILABLE'}}\n"
     ]
    },
    {
     "name": "stderr",
     "output_type": "stream",
     "text": [
      "Curating VQA:  54%|█████▍    | 6001/11024 [4:00:01<3:17:13,  2.36s/img]"
     ]
    },
    {
     "name": "stdout",
     "output_type": "stream",
     "text": [
      " Error for 711sbjztlzL (idx=6001): Error generating or processing Q&A: 503 UNAVAILABLE. {'error': {'code': 503, 'message': 'The model is overloaded. Please try again later.', 'status': 'UNAVAILABLE'}}\n"
     ]
    },
    {
     "name": "stderr",
     "output_type": "stream",
     "text": [
      "Curating VQA:  54%|█████▍    | 6002/11024 [4:00:01<2:38:00,  1.89s/img]"
     ]
    },
    {
     "name": "stdout",
     "output_type": "stream",
     "text": [
      " Error for 71kuvlYAI7L (idx=6002): Error generating or processing Q&A: 503 UNAVAILABLE. {'error': {'code': 503, 'message': 'The model is overloaded. Please try again later.', 'status': 'UNAVAILABLE'}}\n"
     ]
    },
    {
     "name": "stderr",
     "output_type": "stream",
     "text": [
      "Curating VQA:  55%|█████▍    | 6053/11024 [4:02:03<3:23:13,  2.45s/img]"
     ]
    },
    {
     "name": "stdout",
     "output_type": "stream",
     "text": [
      " Error for 71ZWL1PQmFL (idx=6053): Error generating or processing Q&A: 503 UNAVAILABLE. {'error': {'code': 503, 'message': 'The model is overloaded. Please try again later.', 'status': 'UNAVAILABLE'}}\n"
     ]
    },
    {
     "name": "stderr",
     "output_type": "stream",
     "text": [
      "Curating VQA:  56%|█████▌    | 6127/11024 [4:05:15<3:22:29,  2.48s/img]"
     ]
    },
    {
     "name": "stdout",
     "output_type": "stream",
     "text": [
      " Error for 61vD5o+eCvL (idx=6127): Error generating or processing Q&A: 503 UNAVAILABLE. {'error': {'code': 503, 'message': 'The model is overloaded. Please try again later.', 'status': 'UNAVAILABLE'}}\n"
     ]
    },
    {
     "name": "stderr",
     "output_type": "stream",
     "text": [
      "Curating VQA:  57%|█████▋    | 6242/11024 [4:09:57<3:06:17,  2.34s/img]"
     ]
    },
    {
     "name": "stdout",
     "output_type": "stream",
     "text": [
      " Error for 71QtoR0h1VL (idx=6242): Error generating or processing Q&A: 503 UNAVAILABLE. {'error': {'code': 503, 'message': 'The model is overloaded. Please try again later.', 'status': 'UNAVAILABLE'}}\n"
     ]
    },
    {
     "name": "stderr",
     "output_type": "stream",
     "text": [
      "Curating VQA:  57%|█████▋    | 6246/11024 [4:10:05<2:47:48,  2.11s/img]"
     ]
    },
    {
     "name": "stdout",
     "output_type": "stream",
     "text": [
      " Error for 61opCmKiaTL (idx=6246): Error generating or processing Q&A: 503 UNAVAILABLE. {'error': {'code': 503, 'message': 'The model is overloaded. Please try again later.', 'status': 'UNAVAILABLE'}}\n"
     ]
    },
    {
     "name": "stderr",
     "output_type": "stream",
     "text": [
      "Curating VQA:  57%|█████▋    | 6294/11024 [4:11:57<3:10:34,  2.42s/img]"
     ]
    },
    {
     "name": "stdout",
     "output_type": "stream",
     "text": [
      " Error for 51rLwhHgkbL (idx=6294): Error generating or processing Q&A: 503 UNAVAILABLE. {'error': {'code': 503, 'message': 'The model is overloaded. Please try again later.', 'status': 'UNAVAILABLE'}}\n"
     ]
    },
    {
     "name": "stderr",
     "output_type": "stream",
     "text": [
      "Curating VQA:  57%|█████▋    | 6295/11024 [4:11:58<2:32:13,  1.93s/img]"
     ]
    },
    {
     "name": "stdout",
     "output_type": "stream",
     "text": [
      " Error for 51iDxJukgXL (idx=6295): Error generating or processing Q&A: 503 UNAVAILABLE. {'error': {'code': 503, 'message': 'The model is overloaded. Please try again later.', 'status': 'UNAVAILABLE'}}\n"
     ]
    },
    {
     "name": "stderr",
     "output_type": "stream",
     "text": [
      "Curating VQA:  58%|█████▊    | 6344/11024 [4:13:55<3:03:40,  2.35s/img]"
     ]
    },
    {
     "name": "stdout",
     "output_type": "stream",
     "text": [
      " Error for 61KHSIPdDWL (idx=6344): Error generating or processing Q&A: 503 UNAVAILABLE. {'error': {'code': 503, 'message': 'The model is overloaded. Please try again later.', 'status': 'UNAVAILABLE'}}\n"
     ]
    },
    {
     "name": "stderr",
     "output_type": "stream",
     "text": [
      "Curating VQA:  58%|█████▊    | 6354/11024 [4:14:56<10:28:20,  8.07s/img]"
     ]
    },
    {
     "name": "stdout",
     "output_type": "stream",
     "text": [
      " Error for 611Eyua0hXL (idx=6354): Error generating or processing Q&A: 503 UNAVAILABLE. {'error': {'code': 503, 'message': 'The model is overloaded. Please try again later.', 'status': 'UNAVAILABLE'}}\n"
     ]
    },
    {
     "name": "stderr",
     "output_type": "stream",
     "text": [
      "Curating VQA:  58%|█████▊    | 6355/11024 [4:14:57<7:41:48,  5.93s/img] "
     ]
    },
    {
     "name": "stdout",
     "output_type": "stream",
     "text": [
      " Error for 71trB5VgB6L (idx=6355): Error generating or processing Q&A: 503 UNAVAILABLE. {'error': {'code': 503, 'message': 'The model is overloaded. Please try again later.', 'status': 'UNAVAILABLE'}}\n"
     ]
    },
    {
     "name": "stderr",
     "output_type": "stream",
     "text": [
      "Curating VQA:  58%|█████▊    | 6356/11024 [4:14:58<5:41:05,  4.38s/img]"
     ]
    },
    {
     "name": "stdout",
     "output_type": "stream",
     "text": [
      " Error for 61Rve9YOg8L (idx=6356): Error generating or processing Q&A: 503 UNAVAILABLE. {'error': {'code': 503, 'message': 'The model is overloaded. Please try again later.', 'status': 'UNAVAILABLE'}}\n"
     ]
    },
    {
     "name": "stderr",
     "output_type": "stream",
     "text": [
      "Curating VQA:  58%|█████▊    | 6380/11024 [4:15:54<3:01:57,  2.35s/img]"
     ]
    },
    {
     "name": "stdout",
     "output_type": "stream",
     "text": [
      " Error for 81o8KVTcccL (idx=6380): Error generating or processing Q&A: 503 UNAVAILABLE. {'error': {'code': 503, 'message': 'The model is overloaded. Please try again later.', 'status': 'UNAVAILABLE'}}\n"
     ]
    },
    {
     "name": "stderr",
     "output_type": "stream",
     "text": [
      "Curating VQA:  58%|█████▊    | 6381/11024 [4:15:55<2:25:33,  1.88s/img]"
     ]
    },
    {
     "name": "stdout",
     "output_type": "stream",
     "text": [
      " Error for 714b8p925nL (idx=6381): Error generating or processing Q&A: 503 UNAVAILABLE. {'error': {'code': 503, 'message': 'The model is overloaded. Please try again later.', 'status': 'UNAVAILABLE'}}\n"
     ]
    },
    {
     "name": "stderr",
     "output_type": "stream",
     "text": [
      "Curating VQA:  58%|█████▊    | 6382/11024 [4:15:56<1:59:20,  1.54s/img]"
     ]
    },
    {
     "name": "stdout",
     "output_type": "stream",
     "text": [
      " Error for 71bff6xbWSL (idx=6382): Error generating or processing Q&A: 503 UNAVAILABLE. {'error': {'code': 503, 'message': 'The model is overloaded. Please try again later.', 'status': 'UNAVAILABLE'}}\n"
     ]
    },
    {
     "name": "stderr",
     "output_type": "stream",
     "text": [
      "Curating VQA:  58%|█████▊    | 6383/11024 [4:15:57<1:41:40,  1.31s/img]"
     ]
    },
    {
     "name": "stdout",
     "output_type": "stream",
     "text": [
      " Error for 71bN4m3kZvL (idx=6383): Error generating or processing Q&A: 503 UNAVAILABLE. {'error': {'code': 503, 'message': 'The model is overloaded. Please try again later.', 'status': 'UNAVAILABLE'}}\n"
     ]
    },
    {
     "name": "stderr",
     "output_type": "stream",
     "text": [
      "Curating VQA:  59%|█████▉    | 6519/11024 [4:22:54<4:46:21,  3.81s/img]"
     ]
    },
    {
     "name": "stdout",
     "output_type": "stream",
     "text": [
      " Error for 71MUuaUsVQL (idx=6519): Error generating or processing Q&A: 503 UNAVAILABLE. {'error': {'code': 503, 'message': 'The model is overloaded. Please try again later.', 'status': 'UNAVAILABLE'}}\n"
     ]
    },
    {
     "name": "stderr",
     "output_type": "stream",
     "text": [
      "Curating VQA:  59%|█████▉    | 6520/11024 [4:22:55<3:42:12,  2.96s/img]"
     ]
    },
    {
     "name": "stdout",
     "output_type": "stream",
     "text": [
      " Error for 71-+vgpuxJL (idx=6520): Error generating or processing Q&A: 503 UNAVAILABLE. {'error': {'code': 503, 'message': 'The model is overloaded. Please try again later.', 'status': 'UNAVAILABLE'}}\n"
     ]
    },
    {
     "name": "stderr",
     "output_type": "stream",
     "text": [
      "Curating VQA:  59%|█████▉    | 6521/11024 [4:22:56<2:53:18,  2.31s/img]"
     ]
    },
    {
     "name": "stdout",
     "output_type": "stream",
     "text": [
      " Error for 71XWyAWig6L (idx=6521): Error generating or processing Q&A: 503 UNAVAILABLE. {'error': {'code': 503, 'message': 'The model is overloaded. Please try again later.', 'status': 'UNAVAILABLE'}}\n"
     ]
    },
    {
     "name": "stderr",
     "output_type": "stream",
     "text": [
      "Curating VQA:  59%|█████▉    | 6558/11024 [4:24:57<4:58:07,  4.01s/img]"
     ]
    },
    {
     "name": "stdout",
     "output_type": "stream",
     "text": [
      " Error for 810Syo6qunL (idx=6558): Error generating or processing Q&A: 503 UNAVAILABLE. {'error': {'code': 503, 'message': 'The model is overloaded. Please try again later.', 'status': 'UNAVAILABLE'}}\n"
     ]
    },
    {
     "name": "stderr",
     "output_type": "stream",
     "text": [
      "Curating VQA:  60%|█████▉    | 6561/11024 [4:25:04<3:49:10,  3.08s/img]"
     ]
    },
    {
     "name": "stdout",
     "output_type": "stream",
     "text": [
      " Error for 7156gUXRTxL (idx=6561): Error generating or processing Q&A: 503 UNAVAILABLE. {'error': {'code': 503, 'message': 'The model is overloaded. Please try again later.', 'status': 'UNAVAILABLE'}}\n"
     ]
    },
    {
     "name": "stderr",
     "output_type": "stream",
     "text": [
      "Curating VQA:  60%|█████▉    | 6580/11024 [4:25:55<3:03:03,  2.47s/img]"
     ]
    },
    {
     "name": "stdout",
     "output_type": "stream",
     "text": [
      " Error for 71iBFDJ9xEL (idx=6580): Error generating or processing Q&A: 503 UNAVAILABLE. {'error': {'code': 503, 'message': 'The model is overloaded. Please try again later.', 'status': 'UNAVAILABLE'}}\n"
     ]
    },
    {
     "name": "stderr",
     "output_type": "stream",
     "text": [
      "Curating VQA:  60%|█████▉    | 6581/11024 [4:25:55<2:24:59,  1.96s/img]"
     ]
    },
    {
     "name": "stdout",
     "output_type": "stream",
     "text": [
      " Error for 71IvJf5EIdL (idx=6581): Error generating or processing Q&A: 503 UNAVAILABLE. {'error': {'code': 503, 'message': 'The model is overloaded. Please try again later.', 'status': 'UNAVAILABLE'}}\n"
     ]
    },
    {
     "name": "stderr",
     "output_type": "stream",
     "text": [
      "Curating VQA:  60%|█████▉    | 6582/11024 [4:25:56<2:02:21,  1.65s/img]"
     ]
    },
    {
     "name": "stdout",
     "output_type": "stream",
     "text": [
      " Error for 71zp7ymIh3L (idx=6582): Error generating or processing Q&A: 503 UNAVAILABLE. {'error': {'code': 503, 'message': 'The model is overloaded. Please try again later.', 'status': 'UNAVAILABLE'}}\n"
     ]
    },
    {
     "name": "stderr",
     "output_type": "stream",
     "text": [
      "Curating VQA:  60%|█████▉    | 6583/11024 [4:25:57<1:44:17,  1.41s/img]"
     ]
    },
    {
     "name": "stdout",
     "output_type": "stream",
     "text": [
      " Error for 91UQgmFUAwL (idx=6583): Error generating or processing Q&A: 503 UNAVAILABLE. {'error': {'code': 503, 'message': 'The model is overloaded. Please try again later.', 'status': 'UNAVAILABLE'}}\n"
     ]
    },
    {
     "name": "stderr",
     "output_type": "stream",
     "text": [
      "Curating VQA:  60%|██████    | 6630/11024 [4:27:55<2:49:40,  2.32s/img]"
     ]
    },
    {
     "name": "stdout",
     "output_type": "stream",
     "text": [
      " Error for 51lWtGDvzWL (idx=6630): Error generating or processing Q&A: 503 UNAVAILABLE. {'error': {'code': 503, 'message': 'The model is overloaded. Please try again later.', 'status': 'UNAVAILABLE'}}\n"
     ]
    },
    {
     "name": "stderr",
     "output_type": "stream",
     "text": [
      "Curating VQA:  61%|██████    | 6680/11024 [4:29:53<2:49:46,  2.34s/img]"
     ]
    },
    {
     "name": "stdout",
     "output_type": "stream",
     "text": [
      " Error for 51cr-GQotHL (idx=6680): Error generating or processing Q&A: 503 UNAVAILABLE. {'error': {'code': 503, 'message': 'The model is overloaded. Please try again later.', 'status': 'UNAVAILABLE'}}\n"
     ]
    },
    {
     "name": "stderr",
     "output_type": "stream",
     "text": [
      "Curating VQA:  61%|██████    | 6682/11024 [4:29:56<2:23:40,  1.99s/img]"
     ]
    },
    {
     "name": "stdout",
     "output_type": "stream",
     "text": [
      " Error for 61jp08n1gdL (idx=6682): Error generating or processing Q&A: 503 UNAVAILABLE. {'error': {'code': 503, 'message': 'The model is overloaded. Please try again later.', 'status': 'UNAVAILABLE'}}\n"
     ]
    },
    {
     "name": "stderr",
     "output_type": "stream",
     "text": [
      "Curating VQA:  61%|██████    | 6683/11024 [4:29:56<1:57:35,  1.63s/img]"
     ]
    },
    {
     "name": "stdout",
     "output_type": "stream",
     "text": [
      " Error for 61u+iL-ZBzL (idx=6683): Error generating or processing Q&A: 503 UNAVAILABLE. {'error': {'code': 503, 'message': 'The model is overloaded. Please try again later.', 'status': 'UNAVAILABLE'}}\n"
     ]
    },
    {
     "name": "stderr",
     "output_type": "stream",
     "text": [
      "Curating VQA:  61%|██████    | 6684/11024 [4:29:57<1:38:45,  1.37s/img]"
     ]
    },
    {
     "name": "stdout",
     "output_type": "stream",
     "text": [
      " Error for 613DE2nb6xL (idx=6684): Error generating or processing Q&A: 503 UNAVAILABLE. {'error': {'code': 503, 'message': 'The model is overloaded. Please try again later.', 'status': 'UNAVAILABLE'}}\n"
     ]
    },
    {
     "name": "stderr",
     "output_type": "stream",
     "text": [
      "Curating VQA:  61%|██████    | 6687/11024 [4:30:02<2:06:44,  1.75s/img]"
     ]
    },
    {
     "name": "stdout",
     "output_type": "stream",
     "text": [
      " Error for 51c3r561MkL (idx=6687): Error generating or processing Q&A: 503 UNAVAILABLE. {'error': {'code': 503, 'message': 'The model is overloaded. Please try again later.', 'status': 'UNAVAILABLE'}}\n"
     ]
    },
    {
     "name": "stderr",
     "output_type": "stream",
     "text": [
      "Curating VQA:  61%|██████    | 6688/11024 [4:30:03<1:45:59,  1.47s/img]"
     ]
    },
    {
     "name": "stdout",
     "output_type": "stream",
     "text": [
      " Error for 61eO38kD3qL (idx=6688): Error generating or processing Q&A: 503 UNAVAILABLE. {'error': {'code': 503, 'message': 'The model is overloaded. Please try again later.', 'status': 'UNAVAILABLE'}}\n"
     ]
    },
    {
     "name": "stderr",
     "output_type": "stream",
     "text": [
      "Curating VQA:  61%|██████    | 6710/11024 [4:30:54<2:48:12,  2.34s/img]"
     ]
    },
    {
     "name": "stdout",
     "output_type": "stream",
     "text": [
      " Error for 71vcy2pkpuL (idx=6710): Error generating or processing Q&A: 503 UNAVAILABLE. {'error': {'code': 503, 'message': 'The model is overloaded. Please try again later.', 'status': 'UNAVAILABLE'}}\n"
     ]
    },
    {
     "name": "stderr",
     "output_type": "stream",
     "text": [
      "Curating VQA:  61%|██████    | 6711/11024 [4:30:55<2:14:35,  1.87s/img]"
     ]
    },
    {
     "name": "stdout",
     "output_type": "stream",
     "text": [
      " Error for 61bk41yWbWL (idx=6711): Error generating or processing Q&A: 503 UNAVAILABLE. {'error': {'code': 503, 'message': 'The model is overloaded. Please try again later.', 'status': 'UNAVAILABLE'}}\n"
     ]
    },
    {
     "name": "stderr",
     "output_type": "stream",
     "text": [
      "Curating VQA:  61%|██████    | 6712/11024 [4:30:56<1:50:53,  1.54s/img]"
     ]
    },
    {
     "name": "stdout",
     "output_type": "stream",
     "text": [
      " Error for 81WLYv36N7L (idx=6712): Error generating or processing Q&A: 503 UNAVAILABLE. {'error': {'code': 503, 'message': 'The model is overloaded. Please try again later.', 'status': 'UNAVAILABLE'}}\n"
     ]
    },
    {
     "name": "stderr",
     "output_type": "stream",
     "text": [
      "Curating VQA:  61%|██████    | 6713/11024 [4:30:57<1:35:19,  1.33s/img]"
     ]
    },
    {
     "name": "stdout",
     "output_type": "stream",
     "text": [
      " Error for 51r73+UHmwL (idx=6713): Error generating or processing Q&A: 503 UNAVAILABLE. {'error': {'code': 503, 'message': 'The model is overloaded. Please try again later.', 'status': 'UNAVAILABLE'}}\n"
     ]
    },
    {
     "name": "stderr",
     "output_type": "stream",
     "text": [
      "Curating VQA:  61%|██████    | 6737/11024 [4:31:54<2:51:27,  2.40s/img]"
     ]
    },
    {
     "name": "stdout",
     "output_type": "stream",
     "text": [
      " Error for 41O5WbuLBqL (idx=6737): Error generating or processing Q&A: 503 UNAVAILABLE. {'error': {'code': 503, 'message': 'The model is overloaded. Please try again later.', 'status': 'UNAVAILABLE'}}\n"
     ]
    },
    {
     "name": "stderr",
     "output_type": "stream",
     "text": [
      "Curating VQA:  61%|██████    | 6738/11024 [4:31:54<2:16:20,  1.91s/img]"
     ]
    },
    {
     "name": "stdout",
     "output_type": "stream",
     "text": [
      " Error for 51HI44vb7NL (idx=6738): Error generating or processing Q&A: 503 UNAVAILABLE. {'error': {'code': 503, 'message': 'The model is overloaded. Please try again later.', 'status': 'UNAVAILABLE'}}\n"
     ]
    },
    {
     "name": "stderr",
     "output_type": "stream",
     "text": [
      "Curating VQA:  61%|██████    | 6739/11024 [4:31:55<1:52:24,  1.57s/img]"
     ]
    },
    {
     "name": "stdout",
     "output_type": "stream",
     "text": [
      " Error for 71WkZV9TAOL (idx=6739): Error generating or processing Q&A: 503 UNAVAILABLE. {'error': {'code': 503, 'message': 'The model is overloaded. Please try again later.', 'status': 'UNAVAILABLE'}}\n"
     ]
    },
    {
     "name": "stderr",
     "output_type": "stream",
     "text": [
      "Curating VQA:  61%|██████    | 6740/11024 [4:31:56<1:36:32,  1.35s/img]"
     ]
    },
    {
     "name": "stdout",
     "output_type": "stream",
     "text": [
      " Error for 71ny-iGhFxL (idx=6740): Error generating or processing Q&A: 503 UNAVAILABLE. {'error': {'code': 503, 'message': 'The model is overloaded. Please try again later.', 'status': 'UNAVAILABLE'}}\n"
     ]
    },
    {
     "name": "stderr",
     "output_type": "stream",
     "text": [
      "Curating VQA:  61%|██████    | 6741/11024 [4:31:57<1:24:28,  1.18s/img]"
     ]
    },
    {
     "name": "stdout",
     "output_type": "stream",
     "text": [
      " Error for 31F-DhuD+cL (idx=6741): Error generating or processing Q&A: 503 UNAVAILABLE. {'error': {'code': 503, 'message': 'The model is overloaded. Please try again later.', 'status': 'UNAVAILABLE'}}\n"
     ]
    },
    {
     "name": "stderr",
     "output_type": "stream",
     "text": [
      "Curating VQA:  61%|██████    | 6743/11024 [4:32:00<1:38:15,  1.38s/img]"
     ]
    },
    {
     "name": "stdout",
     "output_type": "stream",
     "text": [
      " Error for 61mqNPZzt8L (idx=6743): Error generating or processing Q&A: 503 UNAVAILABLE. {'error': {'code': 503, 'message': 'The model is overloaded. Please try again later.', 'status': 'UNAVAILABLE'}}\n"
     ]
    },
    {
     "name": "stderr",
     "output_type": "stream",
     "text": [
      "Curating VQA:  62%|██████▏   | 6780/11024 [4:33:25<2:52:58,  2.45s/img]"
     ]
    },
    {
     "name": "stdout",
     "output_type": "stream",
     "text": [
      " Error for 71fXDCvVC9L (idx=6780): Error generating or processing Q&A: 502 Bad Gateway. {'message': '\\n<html><head>\\n<meta http-equiv=\"content-type\" content=\"text/html;charset=utf-8\">\\n<title>502 Server Error</title>\\n</head>\\n<body text=#000000 bgcolor=#ffffff>\\n<h1>Error: Server Error</h1>\\n<h2>The server encountered a temporary error and could not complete your request.<p>Please try again in 30 seconds.</h2>\\n<h2></h2>\\n</body></html>\\n', 'status': 'Bad Gateway'}\n"
     ]
    },
    {
     "name": "stderr",
     "output_type": "stream",
     "text": [
      "Curating VQA:  62%|██████▏   | 6863/11024 [4:36:50<2:50:00,  2.45s/img]"
     ]
    },
    {
     "name": "stdout",
     "output_type": "stream",
     "text": [
      " Error for 61z-gtwDqbL (idx=6863): Error generating or processing Q&A: 503 UNAVAILABLE. {'error': {'code': 503, 'message': 'The model is overloaded. Please try again later.', 'status': 'UNAVAILABLE'}}\n"
     ]
    },
    {
     "name": "stderr",
     "output_type": "stream",
     "text": [
      "Curating VQA:  62%|██████▏   | 6866/11024 [4:36:55<2:22:51,  2.06s/img]"
     ]
    },
    {
     "name": "stdout",
     "output_type": "stream",
     "text": [
      " Error for 81wp-f+ENjL (idx=6866): Error generating or processing Q&A: 503 UNAVAILABLE. {'error': {'code': 503, 'message': 'The model is overloaded. Please try again later.', 'status': 'UNAVAILABLE'}}\n"
     ]
    },
    {
     "name": "stderr",
     "output_type": "stream",
     "text": [
      "Curating VQA:  62%|██████▏   | 6868/11024 [4:37:00<2:52:12,  2.49s/img]"
     ]
    },
    {
     "name": "stdout",
     "output_type": "stream",
     "text": [
      " Error for 91QnT9kuOrL (idx=6868): Error generating or processing Q&A: 503 UNAVAILABLE. {'error': {'code': 503, 'message': 'The model is overloaded. Please try again later.', 'status': 'UNAVAILABLE'}}\n"
     ]
    },
    {
     "name": "stderr",
     "output_type": "stream",
     "text": [
      "Curating VQA:  63%|██████▎   | 6913/11024 [4:38:48<2:46:06,  2.42s/img]"
     ]
    },
    {
     "name": "stdout",
     "output_type": "stream",
     "text": [
      " Error for 71tKkTN9W6L (idx=6913): Error generating or processing Q&A: 503 UNAVAILABLE. {'error': {'code': 503, 'message': 'The model is overloaded. Please try again later.', 'status': 'UNAVAILABLE'}}\n"
     ]
    },
    {
     "name": "stderr",
     "output_type": "stream",
     "text": [
      "Curating VQA:  63%|██████▎   | 6915/11024 [4:38:51<2:24:33,  2.11s/img]"
     ]
    },
    {
     "name": "stdout",
     "output_type": "stream",
     "text": [
      " Error for 81DmMpUMUVL (idx=6915): Error generating or processing Q&A: 503 UNAVAILABLE. {'error': {'code': 503, 'message': 'The model is overloaded. Please try again later.', 'status': 'UNAVAILABLE'}}\n"
     ]
    },
    {
     "name": "stderr",
     "output_type": "stream",
     "text": [
      "Curating VQA:  63%|██████▎   | 6917/11024 [4:38:54<2:10:50,  1.91s/img]"
     ]
    },
    {
     "name": "stdout",
     "output_type": "stream",
     "text": [
      " Error for 719ACG+KaVL (idx=6917): Error generating or processing Q&A: 503 UNAVAILABLE. {'error': {'code': 503, 'message': 'The model is overloaded. Please try again later.', 'status': 'UNAVAILABLE'}}\n"
     ]
    },
    {
     "name": "stderr",
     "output_type": "stream",
     "text": [
      "Curating VQA:  63%|██████▎   | 6918/11024 [4:38:55<1:47:49,  1.58s/img]"
     ]
    },
    {
     "name": "stdout",
     "output_type": "stream",
     "text": [
      " Error for 81NAFYPZYvL (idx=6918): Error generating or processing Q&A: 503 UNAVAILABLE. {'error': {'code': 503, 'message': 'The model is overloaded. Please try again later.', 'status': 'UNAVAILABLE'}}\n"
     ]
    },
    {
     "name": "stderr",
     "output_type": "stream",
     "text": [
      "Curating VQA:  63%|██████▎   | 6919/11024 [4:38:56<1:31:57,  1.34s/img]"
     ]
    },
    {
     "name": "stdout",
     "output_type": "stream",
     "text": [
      " Error for 81mhETsAJBL (idx=6919): Error generating or processing Q&A: 503 UNAVAILABLE. {'error': {'code': 503, 'message': 'The model is overloaded. Please try again later.', 'status': 'UNAVAILABLE'}}\n"
     ]
    },
    {
     "name": "stderr",
     "output_type": "stream",
     "text": [
      "Curating VQA:  63%|██████▎   | 6920/11024 [4:38:57<1:20:40,  1.18s/img]"
     ]
    },
    {
     "name": "stdout",
     "output_type": "stream",
     "text": [
      " Error for 91lfTUlQ4gL (idx=6920): Error generating or processing Q&A: 503 UNAVAILABLE. {'error': {'code': 503, 'message': 'The model is overloaded. Please try again later.', 'status': 'UNAVAILABLE'}}\n"
     ]
    },
    {
     "name": "stderr",
     "output_type": "stream",
     "text": [
      "Curating VQA:  63%|██████▎   | 6946/11024 [4:39:57<2:37:49,  2.32s/img]"
     ]
    },
    {
     "name": "stdout",
     "output_type": "stream",
     "text": [
      " Error for 51C2GcYoD8L (idx=6946): Error generating or processing Q&A: 503 UNAVAILABLE. {'error': {'code': 503, 'message': 'The model is overloaded. Please try again later.', 'status': 'UNAVAILABLE'}}\n"
     ]
    },
    {
     "name": "stderr",
     "output_type": "stream",
     "text": [
      "Curating VQA:  63%|██████▎   | 6947/11024 [4:39:58<2:05:56,  1.85s/img]"
     ]
    },
    {
     "name": "stdout",
     "output_type": "stream",
     "text": [
      " Error for 71h8cq0rsTL (idx=6947): Error generating or processing Q&A: 503 UNAVAILABLE. {'error': {'code': 503, 'message': 'The model is overloaded. Please try again later.', 'status': 'UNAVAILABLE'}}\n"
     ]
    },
    {
     "name": "stderr",
     "output_type": "stream",
     "text": [
      "Curating VQA:  63%|██████▎   | 6948/11024 [4:39:58<1:43:45,  1.53s/img]"
     ]
    },
    {
     "name": "stdout",
     "output_type": "stream",
     "text": [
      " Error for 51PgHkQkOsL (idx=6948): Error generating or processing Q&A: 503 UNAVAILABLE. {'error': {'code': 503, 'message': 'The model is overloaded. Please try again later.', 'status': 'UNAVAILABLE'}}\n"
     ]
    },
    {
     "name": "stderr",
     "output_type": "stream",
     "text": [
      "Curating VQA:  63%|██████▎   | 6950/11024 [4:40:02<1:55:37,  1.70s/img]"
     ]
    },
    {
     "name": "stdout",
     "output_type": "stream",
     "text": [
      " Error for 71hJ3zuhwCL (idx=6950): Error generating or processing Q&A: 503 UNAVAILABLE. {'error': {'code': 503, 'message': 'The model is overloaded. Please try again later.', 'status': 'UNAVAILABLE'}}\n"
     ]
    },
    {
     "name": "stderr",
     "output_type": "stream",
     "text": [
      "Curating VQA:  63%|██████▎   | 6999/11024 [4:41:57<2:34:23,  2.30s/img]"
     ]
    },
    {
     "name": "stdout",
     "output_type": "stream",
     "text": [
      " Error for 51wMuOoNfOL (idx=6999): Error generating or processing Q&A: 503 UNAVAILABLE. {'error': {'code': 503, 'message': 'The model is overloaded. Please try again later.', 'status': 'UNAVAILABLE'}}\n"
     ]
    },
    {
     "name": "stderr",
     "output_type": "stream",
     "text": [
      "Curating VQA:  64%|██████▍   | 7052/11024 [4:43:58<2:30:21,  2.27s/img]"
     ]
    },
    {
     "name": "stdout",
     "output_type": "stream",
     "text": [
      " Error for 61WRKERNrbL (idx=7052): Error generating or processing Q&A: 503 UNAVAILABLE. {'error': {'code': 503, 'message': 'The model is overloaded. Please try again later.', 'status': 'UNAVAILABLE'}}\n"
     ]
    },
    {
     "name": "stderr",
     "output_type": "stream",
     "text": [
      "Curating VQA:  67%|██████▋   | 7441/11024 [5:01:14<2:25:04,  2.43s/img]"
     ]
    },
    {
     "name": "stdout",
     "output_type": "stream",
     "text": [
      " Error for 71qyjvRHBlL (idx=7441): Error generating or processing Q&A: 502 Bad Gateway. {'message': '\\n<html><head>\\n<meta http-equiv=\"content-type\" content=\"text/html;charset=utf-8\">\\n<title>502 Server Error</title>\\n</head>\\n<body text=#000000 bgcolor=#ffffff>\\n<h1>Error: Server Error</h1>\\n<h2>The server encountered a temporary error and could not complete your request.<p>Please try again in 30 seconds.</h2>\\n<h2></h2>\\n</body></html>\\n', 'status': 'Bad Gateway'}\n"
     ]
    },
    {
     "name": "stderr",
     "output_type": "stream",
     "text": [
      "Curating VQA:  68%|██████▊   | 7538/11024 [5:05:18<2:23:35,  2.47s/img]"
     ]
    },
    {
     "name": "stdout",
     "output_type": "stream",
     "text": [
      " Error for 614wRFJRSjL (idx=7538): Error generating or processing Q&A: 503 UNAVAILABLE. {'error': {'code': 503, 'message': 'The service is currently unavailable.', 'status': 'UNAVAILABLE'}}\n"
     ]
    },
    {
     "name": "stderr",
     "output_type": "stream",
     "text": [
      "Curating VQA:  69%|██████▊   | 7563/11024 [5:06:20<2:11:59,  2.29s/img]"
     ]
    },
    {
     "name": "stdout",
     "output_type": "stream",
     "text": [
      " Error for 71LWDahBe5L (idx=7563): Error generating or processing Q&A: 503 UNAVAILABLE. {'error': {'code': 503, 'message': 'The service is currently unavailable.', 'status': 'UNAVAILABLE'}}\n"
     ]
    },
    {
     "name": "stderr",
     "output_type": "stream",
     "text": [
      "Curating VQA: 100%|██████████| 11024/11024 [7:27:26<00:00,  2.44s/img]\n"
     ]
    },
    {
     "name": "stdout",
     "output_type": "stream",
     "text": [
      "\n",
      "Retrying 100 failures...\n",
      "\n"
     ]
    },
    {
     "name": "stderr",
     "output_type": "stream",
     "text": [
      "Curating VQA: 100%|██████████| 100/100 [04:08<00:00,  2.48s/img]\n"
     ]
    },
    {
     "name": "stdout",
     "output_type": "stream",
     "text": [
      "\n",
      "All done! CSV savaed to /kaggle/working/qa_dataset2.csv\n"
     ]
    }
   ],
   "source": [
    "from google import genai\n",
    "import tqdm \n",
    "\n",
    "GOOGLE_API_KEY = \"Key\"  # <— replace with your real key\n",
    "client = genai.Client(api_key = GOOGLE_API_KEY)\n",
    "\n",
    "import ast\n",
    "# df['metadata'] = df['metadata'].apply(ast.literal_eval)\n",
    "\n",
    "\n",
    "# where your images live on disk\n",
    "image_root = \"/kaggle/input/abo-small/images/small\"  # adjust to point at the folder that contains all your `path` subfolders\n",
    "\n",
    "results = []\n",
    "failures = df.index.tolist()\n",
    "\n",
    "# keep retrying until every index has succeeded\n",
    "while failures:\n",
    "    next_failures = []\n",
    "    for idx in tqdm.tqdm(failures, desc=\"Curating VQA\", unit=\"img\"):\n",
    "        row = df.loc[idx]\n",
    "        image_id    = row['image_id']\n",
    "        rel_path    = row['path']\n",
    "        product_type= row['product_type']\n",
    "        metadata    = row['metadata']\n",
    "\n",
    "        full_path = os.path.join(image_root, rel_path)\n",
    "        try:\n",
    "            img = Image.open(full_path)\n",
    "            qa_output = generate_qa_json_with_prompt_metadata(img, metadata, prompt)\n",
    "\n",
    "            # flatten each QA pair into its own row\n",
    "            for qa in qa_output.questions:\n",
    "                results.append({\n",
    "                    \"image_id\":     image_id,\n",
    "                    \"path\":         rel_path,\n",
    "                    \"product_type\": product_type,\n",
    "                    \"question\":     qa.question,\n",
    "                    \"answer\":       qa.answer\n",
    "                })\n",
    "\n",
    "            # print(f\" Success: {image_id}\")\n",
    "\n",
    "        except Exception as e:\n",
    "            print(f\" Error for {image_id} (idx={idx}): {e}\")\n",
    "            next_failures.append(idx)\n",
    "\n",
    "        # tiny pause to be gentle on rate limits\n",
    "        time.sleep(0.5)\n",
    "\n",
    "    if not next_failures:\n",
    "        break\n",
    "\n",
    "    print(f\"\\nRetrying {len(next_failures)} failures...\\n\")\n",
    "    failures = next_failures\n",
    "\n",
    "# once everything's in `results`, write to CSV\n",
    "out_df = pd.DataFrame(results)\n",
    "out_df.to_csv(\"/kaggle/working/qa_dataset2.csv\", index=False)\n",
    "print(\"\\nAll done! CSV savaed to /kaggle/working/qa_dataset2.csv\")\n"
   ]
  },
  {
   "cell_type": "code",
   "execution_count": 6,
   "id": "3eeb3273",
   "metadata": {
    "execution": {
     "iopub.execute_input": "2025-05-13T18:10:30.990818Z",
     "iopub.status.busy": "2025-05-13T18:10:30.990471Z",
     "iopub.status.idle": "2025-05-13T18:10:31.117677Z",
     "shell.execute_reply": "2025-05-13T18:10:31.116658Z"
    },
    "papermill": {
     "duration": 0.680935,
     "end_time": "2025-05-13T18:10:31.119453",
     "exception": false,
     "start_time": "2025-05-13T18:10:30.438518",
     "status": "completed"
    },
    "tags": []
   },
   "outputs": [
    {
     "data": {
      "text/html": [
       "<div>\n",
       "<style scoped>\n",
       "    .dataframe tbody tr th:only-of-type {\n",
       "        vertical-align: middle;\n",
       "    }\n",
       "\n",
       "    .dataframe tbody tr th {\n",
       "        vertical-align: top;\n",
       "    }\n",
       "\n",
       "    .dataframe thead th {\n",
       "        text-align: right;\n",
       "    }\n",
       "</style>\n",
       "<table border=\"1\" class=\"dataframe\">\n",
       "  <thead>\n",
       "    <tr style=\"text-align: right;\">\n",
       "      <th></th>\n",
       "      <th>image_id</th>\n",
       "      <th>path</th>\n",
       "      <th>product_type</th>\n",
       "      <th>question</th>\n",
       "      <th>answer</th>\n",
       "    </tr>\n",
       "  </thead>\n",
       "  <tbody>\n",
       "    <tr>\n",
       "      <th>0</th>\n",
       "      <td>61qykvI-McL</td>\n",
       "      <td>4c/4ce096e8.jpg</td>\n",
       "      <td>ABIS_BEAUTY</td>\n",
       "      <td>What is this?</td>\n",
       "      <td>Steamer</td>\n",
       "    </tr>\n",
       "    <tr>\n",
       "      <th>1</th>\n",
       "      <td>61qykvI-McL</td>\n",
       "      <td>4c/4ce096e8.jpg</td>\n",
       "      <td>ABIS_BEAUTY</td>\n",
       "      <td>What is the color?</td>\n",
       "      <td>White</td>\n",
       "    </tr>\n",
       "    <tr>\n",
       "      <th>2</th>\n",
       "      <td>61qykvI-McL</td>\n",
       "      <td>4c/4ce096e8.jpg</td>\n",
       "      <td>ABIS_BEAUTY</td>\n",
       "      <td>What is it made of?</td>\n",
       "      <td>Plastic</td>\n",
       "    </tr>\n",
       "    <tr>\n",
       "      <th>3</th>\n",
       "      <td>61qykvI-McL</td>\n",
       "      <td>4c/4ce096e8.jpg</td>\n",
       "      <td>ABIS_BEAUTY</td>\n",
       "      <td>What is shape button?</td>\n",
       "      <td>Round</td>\n",
       "    </tr>\n",
       "    <tr>\n",
       "      <th>4</th>\n",
       "      <td>61qykvI-McL</td>\n",
       "      <td>4c/4ce096e8.jpg</td>\n",
       "      <td>ABIS_BEAUTY</td>\n",
       "      <td>Is it striped?</td>\n",
       "      <td>No</td>\n",
       "    </tr>\n",
       "    <tr>\n",
       "      <th>...</th>\n",
       "      <td>...</td>\n",
       "      <td>...</td>\n",
       "      <td>...</td>\n",
       "      <td>...</td>\n",
       "      <td>...</td>\n",
       "    </tr>\n",
       "    <tr>\n",
       "      <th>66139</th>\n",
       "      <td>71LWDahBe5L</td>\n",
       "      <td>88/886f197d.jpg</td>\n",
       "      <td>FINENECKLACEBRACELETANKLET</td>\n",
       "      <td>What color is the gemstone?</td>\n",
       "      <td>Blue</td>\n",
       "    </tr>\n",
       "    <tr>\n",
       "      <th>66140</th>\n",
       "      <td>71LWDahBe5L</td>\n",
       "      <td>88/886f197d.jpg</td>\n",
       "      <td>FINENECKLACEBRACELETANKLET</td>\n",
       "      <td>What is the chain made of?</td>\n",
       "      <td>metal</td>\n",
       "    </tr>\n",
       "    <tr>\n",
       "      <th>66141</th>\n",
       "      <td>71LWDahBe5L</td>\n",
       "      <td>88/886f197d.jpg</td>\n",
       "      <td>FINENECKLACEBRACELETANKLET</td>\n",
       "      <td>Is it shiny?</td>\n",
       "      <td>Yes</td>\n",
       "    </tr>\n",
       "    <tr>\n",
       "      <th>66142</th>\n",
       "      <td>71LWDahBe5L</td>\n",
       "      <td>88/886f197d.jpg</td>\n",
       "      <td>FINENECKLACEBRACELETANKLET</td>\n",
       "      <td>What shape is the gemstone?</td>\n",
       "      <td>Round</td>\n",
       "    </tr>\n",
       "    <tr>\n",
       "      <th>66143</th>\n",
       "      <td>71LWDahBe5L</td>\n",
       "      <td>88/886f197d.jpg</td>\n",
       "      <td>FINENECKLACEBRACELETANKLET</td>\n",
       "      <td>Are there any patterns?</td>\n",
       "      <td>No</td>\n",
       "    </tr>\n",
       "  </tbody>\n",
       "</table>\n",
       "<p>66144 rows × 5 columns</p>\n",
       "</div>"
      ],
      "text/plain": [
       "          image_id             path                product_type  \\\n",
       "0      61qykvI-McL  4c/4ce096e8.jpg                 ABIS_BEAUTY   \n",
       "1      61qykvI-McL  4c/4ce096e8.jpg                 ABIS_BEAUTY   \n",
       "2      61qykvI-McL  4c/4ce096e8.jpg                 ABIS_BEAUTY   \n",
       "3      61qykvI-McL  4c/4ce096e8.jpg                 ABIS_BEAUTY   \n",
       "4      61qykvI-McL  4c/4ce096e8.jpg                 ABIS_BEAUTY   \n",
       "...            ...              ...                         ...   \n",
       "66139  71LWDahBe5L  88/886f197d.jpg  FINENECKLACEBRACELETANKLET   \n",
       "66140  71LWDahBe5L  88/886f197d.jpg  FINENECKLACEBRACELETANKLET   \n",
       "66141  71LWDahBe5L  88/886f197d.jpg  FINENECKLACEBRACELETANKLET   \n",
       "66142  71LWDahBe5L  88/886f197d.jpg  FINENECKLACEBRACELETANKLET   \n",
       "66143  71LWDahBe5L  88/886f197d.jpg  FINENECKLACEBRACELETANKLET   \n",
       "\n",
       "                          question   answer  \n",
       "0                    What is this?  Steamer  \n",
       "1               What is the color?    White  \n",
       "2              What is it made of?  Plastic  \n",
       "3            What is shape button?    Round  \n",
       "4                   Is it striped?       No  \n",
       "...                            ...      ...  \n",
       "66139  What color is the gemstone?     Blue  \n",
       "66140   What is the chain made of?    metal  \n",
       "66141                 Is it shiny?      Yes  \n",
       "66142  What shape is the gemstone?    Round  \n",
       "66143      Are there any patterns?       No  \n",
       "\n",
       "[66144 rows x 5 columns]"
      ]
     },
     "execution_count": 6,
     "metadata": {},
     "output_type": "execute_result"
    }
   ],
   "source": [
    "results = pd.read_csv('/kaggle/working/qa_dataset2.csv')\n",
    "results"
   ]
  },
  {
   "cell_type": "code",
   "execution_count": null,
   "id": "fe39a8bd",
   "metadata": {
    "papermill": {
     "duration": 0.680654,
     "end_time": "2025-05-13T18:10:32.374204",
     "exception": false,
     "start_time": "2025-05-13T18:10:31.693550",
     "status": "completed"
    },
    "tags": []
   },
   "outputs": [],
   "source": []
  }
 ],
 "metadata": {
  "kaggle": {
   "accelerator": "none",
   "dataSources": [
    {
     "datasetId": 7233922,
     "sourceId": 11533708,
     "sourceType": "datasetVersion"
    },
    {
     "datasetId": 7241605,
     "sourceId": 11547504,
     "sourceType": "datasetVersion"
    },
    {
     "datasetId": 7261304,
     "sourceId": 11580854,
     "sourceType": "datasetVersion"
    },
    {
     "datasetId": 7261307,
     "sourceId": 11580857,
     "sourceType": "datasetVersion"
    }
   ],
   "dockerImageVersionId": 31012,
   "isGpuEnabled": false,
   "isInternetEnabled": true,
   "language": "python",
   "sourceType": "notebook"
  },
  "kernelspec": {
   "display_name": "Python 3",
   "language": "python",
   "name": "python3"
  },
  "language_info": {
   "codemirror_mode": {
    "name": "ipython",
    "version": 3
   },
   "file_extension": ".py",
   "mimetype": "text/x-python",
   "name": "python",
   "nbconvert_exporter": "python",
   "pygments_lexer": "ipython3",
   "version": "3.11.11"
  },
  "papermill": {
   "default_parameters": {},
   "duration": 27114.216449,
   "end_time": "2025-05-13T18:10:33.673779",
   "environment_variables": {},
   "exception": null,
   "input_path": "__notebook__.ipynb",
   "output_path": "__notebook__.ipynb",
   "parameters": {},
   "start_time": "2025-05-13T10:38:39.457330",
   "version": "2.6.0"
  }
 },
 "nbformat": 4,
 "nbformat_minor": 5
}
