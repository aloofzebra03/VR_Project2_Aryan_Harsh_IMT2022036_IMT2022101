{
 "cells": [
  {
   "cell_type": "code",
   "execution_count": 1,
   "id": "06d99b36",
   "metadata": {
    "_cell_guid": "b1076dfc-b9ad-4769-8c92-a6c4dae69d19",
    "_uuid": "8f2839f25d086af736a60e9eeb907d3b93b6e0e5",
    "execution": {
     "iopub.execute_input": "2025-05-13T01:31:27.404442Z",
     "iopub.status.busy": "2025-05-13T01:31:27.403432Z",
     "iopub.status.idle": "2025-05-13T01:31:32.434862Z",
     "shell.execute_reply": "2025-05-13T01:31:32.433720Z"
    },
    "papermill": {
     "duration": 5.038731,
     "end_time": "2025-05-13T01:31:32.437486",
     "exception": false,
     "start_time": "2025-05-13T01:31:27.398755",
     "status": "completed"
    },
    "tags": []
   },
   "outputs": [
    {
     "name": "stdout",
     "output_type": "stream",
     "text": [
      "Requirement already satisfied: google-generativeai in /usr/local/lib/python3.11/dist-packages (0.8.4)\r\n",
      "Requirement already satisfied: Pillow in /usr/local/lib/python3.11/dist-packages (11.1.0)\r\n",
      "Requirement already satisfied: google-ai-generativelanguage==0.6.15 in /usr/local/lib/python3.11/dist-packages (from google-generativeai) (0.6.15)\r\n",
      "Requirement already satisfied: google-api-core in /usr/local/lib/python3.11/dist-packages (from google-generativeai) (1.34.1)\r\n",
      "Requirement already satisfied: google-api-python-client in /usr/local/lib/python3.11/dist-packages (from google-generativeai) (2.160.0)\r\n",
      "Requirement already satisfied: google-auth>=2.15.0 in /usr/local/lib/python3.11/dist-packages (from google-generativeai) (2.27.0)\r\n",
      "Requirement already satisfied: protobuf in /usr/local/lib/python3.11/dist-packages (from google-generativeai) (3.20.3)\r\n",
      "Requirement already satisfied: pydantic in /usr/local/lib/python3.11/dist-packages (from google-generativeai) (2.11.3)\r\n",
      "Requirement already satisfied: tqdm in /usr/local/lib/python3.11/dist-packages (from google-generativeai) (4.67.1)\r\n",
      "Requirement already satisfied: typing-extensions in /usr/local/lib/python3.11/dist-packages (from google-generativeai) (4.13.1)\r\n",
      "Requirement already satisfied: proto-plus<2.0.0dev,>=1.22.3 in /usr/local/lib/python3.11/dist-packages (from google-ai-generativelanguage==0.6.15->google-generativeai) (1.26.0)\r\n",
      "Requirement already satisfied: googleapis-common-protos<2.0dev,>=1.56.2 in /usr/local/lib/python3.11/dist-packages (from google-api-core->google-generativeai) (1.67.0)\r\n",
      "Requirement already satisfied: requests<3.0.0dev,>=2.18.0 in /usr/local/lib/python3.11/dist-packages (from google-api-core->google-generativeai) (2.32.3)\r\n",
      "Requirement already satisfied: cachetools<6.0,>=2.0.0 in /usr/local/lib/python3.11/dist-packages (from google-auth>=2.15.0->google-generativeai) (5.5.2)\r\n",
      "Requirement already satisfied: pyasn1-modules>=0.2.1 in /usr/local/lib/python3.11/dist-packages (from google-auth>=2.15.0->google-generativeai) (0.4.1)\r\n",
      "Requirement already satisfied: rsa<5,>=3.1.4 in /usr/local/lib/python3.11/dist-packages (from google-auth>=2.15.0->google-generativeai) (4.9)\r\n",
      "Requirement already satisfied: httplib2<1.dev0,>=0.19.0 in /usr/local/lib/python3.11/dist-packages (from google-api-python-client->google-generativeai) (0.22.0)\r\n",
      "Requirement already satisfied: google-auth-httplib2<1.0.0,>=0.2.0 in /usr/local/lib/python3.11/dist-packages (from google-api-python-client->google-generativeai) (0.2.0)\r\n",
      "Requirement already satisfied: uritemplate<5,>=3.0.1 in /usr/local/lib/python3.11/dist-packages (from google-api-python-client->google-generativeai) (4.1.1)\r\n",
      "Requirement already satisfied: annotated-types>=0.6.0 in /usr/local/lib/python3.11/dist-packages (from pydantic->google-generativeai) (0.7.0)\r\n",
      "Requirement already satisfied: pydantic-core==2.33.1 in /usr/local/lib/python3.11/dist-packages (from pydantic->google-generativeai) (2.33.1)\r\n",
      "Requirement already satisfied: typing-inspection>=0.4.0 in /usr/local/lib/python3.11/dist-packages (from pydantic->google-generativeai) (0.4.0)\r\n",
      "Requirement already satisfied: grpcio<2.0dev,>=1.33.2 in /usr/local/lib/python3.11/dist-packages (from google-api-core[grpc]!=2.0.*,!=2.1.*,!=2.10.*,!=2.2.*,!=2.3.*,!=2.4.*,!=2.5.*,!=2.6.*,!=2.7.*,!=2.8.*,!=2.9.*,<3.0.0dev,>=1.34.1->google-ai-generativelanguage==0.6.15->google-generativeai) (1.70.0)\r\n",
      "Requirement already satisfied: grpcio-status<2.0dev,>=1.33.2 in /usr/local/lib/python3.11/dist-packages (from google-api-core[grpc]!=2.0.*,!=2.1.*,!=2.10.*,!=2.2.*,!=2.3.*,!=2.4.*,!=2.5.*,!=2.6.*,!=2.7.*,!=2.8.*,!=2.9.*,<3.0.0dev,>=1.34.1->google-ai-generativelanguage==0.6.15->google-generativeai) (1.48.2)\r\n",
      "Requirement already satisfied: pyparsing!=3.0.0,!=3.0.1,!=3.0.2,!=3.0.3,<4,>=2.4.2 in /usr/local/lib/python3.11/dist-packages (from httplib2<1.dev0,>=0.19.0->google-api-python-client->google-generativeai) (3.2.1)\r\n",
      "Requirement already satisfied: pyasn1<0.7.0,>=0.4.6 in /usr/local/lib/python3.11/dist-packages (from pyasn1-modules>=0.2.1->google-auth>=2.15.0->google-generativeai) (0.6.1)\r\n",
      "Requirement already satisfied: charset-normalizer<4,>=2 in /usr/local/lib/python3.11/dist-packages (from requests<3.0.0dev,>=2.18.0->google-api-core->google-generativeai) (3.4.1)\r\n",
      "Requirement already satisfied: idna<4,>=2.5 in /usr/local/lib/python3.11/dist-packages (from requests<3.0.0dev,>=2.18.0->google-api-core->google-generativeai) (3.10)\r\n",
      "Requirement already satisfied: urllib3<3,>=1.21.1 in /usr/local/lib/python3.11/dist-packages (from requests<3.0.0dev,>=2.18.0->google-api-core->google-generativeai) (2.3.0)\r\n",
      "Requirement already satisfied: certifi>=2017.4.17 in /usr/local/lib/python3.11/dist-packages (from requests<3.0.0dev,>=2.18.0->google-api-core->google-generativeai) (2025.1.31)\r\n"
     ]
    }
   ],
   "source": [
    "!pip install google-generativeai Pillow"
   ]
  },
  {
   "cell_type": "code",
   "execution_count": 2,
   "id": "6e41b782",
   "metadata": {
    "execution": {
     "iopub.execute_input": "2025-05-13T01:31:32.445319Z",
     "iopub.status.busy": "2025-05-13T01:31:32.444984Z",
     "iopub.status.idle": "2025-05-13T01:31:34.902840Z",
     "shell.execute_reply": "2025-05-13T01:31:34.901817Z"
    },
    "papermill": {
     "duration": 2.463661,
     "end_time": "2025-05-13T01:31:34.904631",
     "exception": false,
     "start_time": "2025-05-13T01:31:32.440970",
     "status": "completed"
    },
    "tags": []
   },
   "outputs": [],
   "source": [
    "import pandas as pd\n",
    "df = pd.read_csv('/kaggle/input/ids-without-oversampling2/ids_without_oversampling2.csv')"
   ]
  },
  {
   "cell_type": "code",
   "execution_count": 3,
   "id": "c983e39e",
   "metadata": {
    "execution": {
     "iopub.execute_input": "2025-05-13T01:31:34.911930Z",
     "iopub.status.busy": "2025-05-13T01:31:34.911565Z",
     "iopub.status.idle": "2025-05-13T01:31:34.917818Z",
     "shell.execute_reply": "2025-05-13T01:31:34.916784Z"
    },
    "papermill": {
     "duration": 0.011859,
     "end_time": "2025-05-13T01:31:34.919301",
     "exception": false,
     "start_time": "2025-05-13T01:31:34.907442",
     "status": "completed"
    },
    "tags": []
   },
   "outputs": [],
   "source": [
    "prompt = \"\"\"You are an expert in generating questions and answers for e-commerce product images. Your task is to create questions and one-word answers to train a Visual Question Answering (VQA) model specifically for online shopping scenarios. You will be provided with a single product image and its associated metadata.\n",
    "\n",
    "**Input:**\n",
    "\n",
    "With each prompt, you will receive:\n",
    "\n",
    "* A single e-commerce product image (which I cannot directly include in this text prompt, but assume it will be passed correctly to the API).\n",
    "* Accompanying metadata (which may be empty or contain product details). The metadata will be structured as a dictionary.  This metadata may include information like:\n",
    "    * Product name\n",
    "    * Category\n",
    "    * Color\n",
    "    * Material\n",
    "    * Price\n",
    "    * Brand\n",
    "    * Features\n",
    "\n",
    "**Task:**\n",
    "\n",
    "For the single product image provided with the prompt, generate 6 questions and their corresponding one-word answers. The questions should be designed to be answerable by a VQA model using only the visual content of the image, **without relying on the metadata** .\n",
    "\n",
    "* **Metadata-Driven Questions (Minimum 3):** If the metadata is present and relevant, formulate up to 3 questions that connect the image to the metadata.  These questions MUST be answerable by looking at the image ONLY even if the model doesn't have the metadata.  Examples:\n",
    "        * \"What is the color of the [product type from metadata]?\"\n",
    "        * \"What is the brand of this [product type]?\" (if brand is visible)\n",
    "        * \"What is the material of the [part of the product]?\" (if material is visually discernible)\n",
    "* **Image-Driven Questions (Minimum 3, up to 6):** Generate at least 3 questions based purely on the image content. These should focus on visual attributes of the product. If the metadata is insufficient or unsuitable, generate all 6 questions from the image.  Examples:\n",
    "        * \"What is the shape of the [product part]?\"\n",
    "        * \"Are there any patterns?\"\n",
    "        * \"What is this made of?\" (if discernible)\n",
    "* **Question Types:** Vary the question types to cover relevant e-commerce product attributes:\n",
    "    * Product Type: \"What is this?\"\n",
    "    * Color: \"What is the color?\"\n",
    "    * Material: \"What is it made of?\"\n",
    "    * Pattern: \"Is it striped?\"\n",
    "    * Shape: \"What is the shape?\"\n",
    "    * Parts: \"What part is this?\"\n",
    "    * Features: \"Does it have buttons?\"\n",
    "\n",
    "* **Binary (Yes/No) Questions (Highest Priority):**  \n",
    "  - If a question starts with **Is**, **Are**, **Does**, **Do**, **Has**, or **Have**, the answer **must** be exactly **Yes** or **No** .  \n",
    "  - **Do not** output any other word for these questions. \n",
    "* **One-Word Answers:**  \n",
    "  Every answer must be a single word. For binary questions, that word is either **Yes** or **No**. For all others, choose the most concise descriptive term.\n",
    "* **MATERIAL ABSTRACTION**  \n",
    "  - When asking **“What is the material…?”**, your answer must be one of these generic categories only:  \n",
    "  **metal, plastic, wood, glass, ceramic, fabric, leather, rubber, paper, cardboard**.  \n",
    "  - Never use subtypes (e.g. “copper”, “oak”), only the generic term.  \n",
    "* **Output Format:** Provide the output as a JSON array of objects with the following structure:\n",
    "\n",
    "    ```json\n",
    "    [\n",
    "        {\n",
    "            \"question\": \"Question 1 here\",\n",
    "            \"answer\": \"Answer1\"\n",
    "        },\n",
    "        {\n",
    "            \"question\": \"Question 2 here\",\n",
    "            \"answer\": \"Answer2\"\n",
    "        },\n",
    "        {\n",
    "            \"question\": \"Question 3 here\",\n",
    "            \"answer\": \"Answer3\"\n",
    "        },\n",
    "        {\n",
    "            \"question\": \"Question 4 here\",\n",
    "            \"answer\": \"Answer4\"\n",
    "        },\n",
    "        {\n",
    "            \"question\": \"Question 5 here\",\n",
    "            \"answer\": \"Answer5\"\n",
    "        },\n",
    "        {\n",
    "            \"question\": \"Question 6 here\",\n",
    "            \"answer\": \"Answer6\"\n",
    "        }\n",
    "    ]\n",
    "    ```\n",
    "\n",
    "**Constraints:**\n",
    "\n",
    "* Do not generate questions that require external knowledge or information not present in the image or metadata.\n",
    "* Focus on factual and directly observable information.\n",
    "* Prioritize the image content over the metadata, but use metadata to guide relevant questions.\n",
    "* Adhere strictly to the one-word answer constraint.\n",
    "* Ensure questions are relevant to typical e-commerce product attributes.\n",
    "\n",
    "Provide the output for ONLY the single image provided with this prompt. Each subsequent image will be provided in a new prompt, along with its metadata.\n",
    "\"\"\""
   ]
  },
  {
   "cell_type": "code",
   "execution_count": 4,
   "id": "34d2bb14",
   "metadata": {
    "execution": {
     "iopub.execute_input": "2025-05-13T01:31:34.926701Z",
     "iopub.status.busy": "2025-05-13T01:31:34.926267Z",
     "iopub.status.idle": "2025-05-13T01:31:36.021572Z",
     "shell.execute_reply": "2025-05-13T01:31:36.020553Z"
    },
    "papermill": {
     "duration": 1.101567,
     "end_time": "2025-05-13T01:31:36.023679",
     "exception": false,
     "start_time": "2025-05-13T01:31:34.922112",
     "status": "completed"
    },
    "tags": []
   },
   "outputs": [
    {
     "name": "stderr",
     "output_type": "stream",
     "text": [
      "/usr/local/lib/python3.11/dist-packages/pydantic/_internal/_generate_schema.py:623: UserWarning: <built-in function any> is not a Python type (it may be an instance of an object), Pydantic will allow any object with no validation since we cannot even enforce that the input is an instance of the given type. To get rid of this error wrap the type with `pydantic.SkipValidation`.\n",
      "  warn(\n"
     ]
    }
   ],
   "source": [
    "from google import genai\n",
    "import json\n",
    "from pydantic import BaseModel, Field, ValidationError\n",
    "from typing import List, Dict\n",
    "from PIL import Image\n",
    "import io\n",
    "import os\n",
    "import time\n",
    "\n",
    "class QuestionAnswerPair(BaseModel):\n",
    "    question: str = Field(..., description=\"The question about the image\")\n",
    "    answer: str = Field(..., description=\"One-word answer to the question\")\n",
    "\n",
    "class QAGenerationOutput(BaseModel):\n",
    "    questions: List[QuestionAnswerPair] = Field(..., description=\"List of question-answer pairs\")\n",
    "\n",
    "def generate_qa_json_with_prompt_metadata(img, metadata, prompt: str) -> QAGenerationOutput:\n",
    "\n",
    "    try:\n",
    "        # Convert PIL Image to base64\n",
    "        # Incorporate metadata into the prompt\n",
    "        metadata_string = json.dumps(metadata)  # Convert metadata to a JSON string\n",
    "        full_prompt = f\"{prompt} Image Metadata: {metadata_string}  \"\n",
    "\n",
    "        response = client.models.generate_content(\n",
    "                model = 'gemini-2.0-flash',\n",
    "                contents=[img, full_prompt],\n",
    "                config={\n",
    "                    'response_mime_type': 'application/json',\n",
    "                    'response_schema': QAGenerationOutput,\n",
    "                }\n",
    "            )\n",
    "        response_text = response.text\n",
    "        # print(response_text)\n",
    "        # Attempt to parse the response as JSON\n",
    "        try:\n",
    "            json_output = json.loads(response_text)\n",
    "            # print(json_output)\n",
    "            # print(type(json_output))\n",
    "        except json.JSONDecodeError:\n",
    "            raise ValueError(\"Invalid JSON format in API response.\")\n",
    "\n",
    "        # Validate the JSON structure using Pydantic\n",
    "        try:\n",
    "            return QAGenerationOutput.model_validate_json(response_text)\n",
    "        except ValidationError as e:\n",
    "            raise ValueError(f\"JSON does not match expected schema: {e}\")\n",
    "\n",
    "    except Exception as e:\n",
    "        raise Exception(f\"Error generating or processing Q&A: {e}\")\n",
    "\n",
    "\n",
    "# try:\n",
    "#     img = Image.open(path)\n",
    "#     qa_output = generate_qa_json_with_prompt_metadata(img, metadata, prompt)\n",
    "\n",
    "#     print(\"Generated Q&A (Pydantic Object):\")\n",
    "#     for qa in qa_output.questions:\n",
    "#         print(f\"- Q: {qa.question}  A: {qa.answer}\")\n",
    "\n",
    "#     print(\"\\nGenerated Q&A (JSON String):\")\n",
    "#     print(qa_output.model_dump_json(indent=2))\n",
    "\n",
    "# except ValueError as e:\n",
    "#     print(f\"Error: {e}\")\n",
    "# except Exception as e:\n",
    "#     print(f\"An unexpected error occurred: {e}\")"
   ]
  },
  {
   "cell_type": "code",
   "execution_count": null,
   "id": "13054394",
   "metadata": {
    "execution": {
     "iopub.execute_input": "2025-05-13T01:31:36.034635Z",
     "iopub.status.busy": "2025-05-13T01:31:36.033362Z",
     "iopub.status.idle": "2025-05-13T08:37:24.459109Z",
     "shell.execute_reply": "2025-05-13T08:37:24.457897Z"
    },
    "papermill": {
     "duration": 25548.432782,
     "end_time": "2025-05-13T08:37:24.460988",
     "exception": false,
     "start_time": "2025-05-13T01:31:36.028206",
     "status": "completed"
    },
    "tags": []
   },
   "outputs": [
    {
     "name": "stderr",
     "output_type": "stream",
     "text": [
      "Curating VQA:   0%|          | 39/11024 [01:18<5:49:16,  1.91s/img]"
     ]
    },
    {
     "name": "stdout",
     "output_type": "stream",
     "text": [
      " Error for 51AJ8W0Y0lL (idx=39): Error generating or processing Q&A: 408 Request Timeout. {'message': 'Request Timeout', 'status': 'Request Timeout'}\n"
     ]
    },
    {
     "name": "stderr",
     "output_type": "stream",
     "text": [
      "Curating VQA:  37%|███▋      | 4064/11024 [2:35:20<4:28:50,  2.32s/img]"
     ]
    },
    {
     "name": "stdout",
     "output_type": "stream",
     "text": [
      " Error for 81Qgaop9XDL (idx=4064): Error generating or processing Q&A: 503 UNAVAILABLE. {'error': {'code': 503, 'message': 'The model is overloaded. Please try again later.', 'status': 'UNAVAILABLE'}}\n"
     ]
    },
    {
     "name": "stderr",
     "output_type": "stream",
     "text": [
      "Curating VQA:  38%|███▊      | 4167/11024 [2:39:15<4:27:58,  2.34s/img]"
     ]
    },
    {
     "name": "stdout",
     "output_type": "stream",
     "text": [
      " Error for 61gCIx+yq9L (idx=4167): Error generating or processing Q&A: 503 UNAVAILABLE. {'error': {'code': 503, 'message': 'The model is overloaded. Please try again later.', 'status': 'UNAVAILABLE'}}\n"
     ]
    },
    {
     "name": "stderr",
     "output_type": "stream",
     "text": [
      "Curating VQA:  38%|███▊      | 4168/11024 [2:39:15<3:34:36,  1.88s/img]"
     ]
    },
    {
     "name": "stdout",
     "output_type": "stream",
     "text": [
      " Error for 71c02VBk3TL (idx=4168): Error generating or processing Q&A: 503 UNAVAILABLE. {'error': {'code': 503, 'message': 'The model is overloaded. Please try again later.', 'status': 'UNAVAILABLE'}}\n"
     ]
    },
    {
     "name": "stderr",
     "output_type": "stream",
     "text": [
      "Curating VQA:  44%|████▍     | 4843/11024 [3:05:48<3:59:53,  2.33s/img]"
     ]
    },
    {
     "name": "stdout",
     "output_type": "stream",
     "text": [
      " Error for 81jluLCyndL (idx=4843): Error generating or processing Q&A: 503 UNAVAILABLE. {'error': {'code': 503, 'message': 'The service is currently unavailable.', 'status': 'UNAVAILABLE'}}\n"
     ]
    },
    {
     "name": "stderr",
     "output_type": "stream",
     "text": [
      "Curating VQA:  44%|████▍     | 4844/11024 [3:05:49<3:06:28,  1.81s/img]"
     ]
    },
    {
     "name": "stdout",
     "output_type": "stream",
     "text": [
      " Error for 71irBLLTUzL (idx=4844): Error generating or processing Q&A: 503 UNAVAILABLE. {'error': {'code': 503, 'message': 'The service is currently unavailable.', 'status': 'UNAVAILABLE'}}\n"
     ]
    },
    {
     "name": "stderr",
     "output_type": "stream",
     "text": [
      "Curating VQA:  46%|████▌     | 5029/11024 [3:13:07<3:58:13,  2.38s/img]"
     ]
    },
    {
     "name": "stdout",
     "output_type": "stream",
     "text": [
      " Error for 61OjwHQlGfL (idx=5029): Error generating or processing Q&A: 503 UNAVAILABLE. {'error': {'code': 503, 'message': 'The service is currently unavailable.', 'status': 'UNAVAILABLE'}}\n"
     ]
    },
    {
     "name": "stderr",
     "output_type": "stream",
     "text": [
      "Curating VQA:  46%|████▌     | 5053/11024 [3:14:02<4:03:10,  2.44s/img]"
     ]
    },
    {
     "name": "stdout",
     "output_type": "stream",
     "text": [
      " Error for 71OPuZPOBuL (idx=5053): Error generating or processing Q&A: 503 UNAVAILABLE. {'error': {'code': 503, 'message': 'The service is currently unavailable.', 'status': 'UNAVAILABLE'}}\n"
     ]
    },
    {
     "name": "stderr",
     "output_type": "stream",
     "text": [
      "Curating VQA:  46%|████▌     | 5063/11024 [3:14:25<3:56:44,  2.38s/img]"
     ]
    },
    {
     "name": "stdout",
     "output_type": "stream",
     "text": [
      " Error for 714g4DVvsEL (idx=5063): Error generating or processing Q&A: 503 UNAVAILABLE. {'error': {'code': 503, 'message': 'The service is currently unavailable.', 'status': 'UNAVAILABLE'}}\n"
     ]
    },
    {
     "name": "stderr",
     "output_type": "stream",
     "text": [
      "Curating VQA:  65%|██████▌   | 7195/11024 [4:37:03<2:28:07,  2.32s/img]"
     ]
    },
    {
     "name": "stdout",
     "output_type": "stream",
     "text": [
      " Error for 61+VkBeIwpL (idx=7195): Error generating or processing Q&A: 503 UNAVAILABLE. {'error': {'code': 503, 'message': 'The service is currently unavailable.', 'status': 'UNAVAILABLE'}}\n"
     ]
    },
    {
     "name": "stderr",
     "output_type": "stream",
     "text": [
      "Curating VQA:  82%|████████▏ | 9068/11024 [5:49:24<1:17:35,  2.38s/img]"
     ]
    },
    {
     "name": "stdout",
     "output_type": "stream",
     "text": [
      " Error for 910HtoepACL (idx=9068): Error generating or processing Q&A: 503 UNAVAILABLE. {'error': {'code': 503, 'message': 'The service is currently unavailable.', 'status': 'UNAVAILABLE'}}\n"
     ]
    },
    {
     "name": "stderr",
     "output_type": "stream",
     "text": [
      "Curating VQA:  85%|████████▍ | 9352/11024 [6:00:20<1:04:40,  2.32s/img]"
     ]
    },
    {
     "name": "stdout",
     "output_type": "stream",
     "text": [
      " Error for 81fKNazYf7L (idx=9352): Error generating or processing Q&A: 503 UNAVAILABLE. {'error': {'code': 503, 'message': 'The service is currently unavailable.', 'status': 'UNAVAILABLE'}}\n"
     ]
    },
    {
     "name": "stderr",
     "output_type": "stream",
     "text": [
      "Curating VQA:  85%|████████▌ | 9372/11024 [6:01:03<58:57,  2.14s/img]  "
     ]
    },
    {
     "name": "stdout",
     "output_type": "stream",
     "text": [
      " Error for 51JviDRFXnL (idx=9372): Error generating or processing Q&A: 503 UNAVAILABLE. {'error': {'code': 503, 'message': 'The service is currently unavailable.', 'status': 'UNAVAILABLE'}}\n"
     ]
    },
    {
     "name": "stderr",
     "output_type": "stream",
     "text": [
      "Curating VQA:  86%|████████▋ | 9512/11024 [6:06:22<54:16,  2.15s/img]"
     ]
    },
    {
     "name": "stdout",
     "output_type": "stream",
     "text": [
      " Error for 51YcLi8PcYL (idx=9512): Error generating or processing Q&A: 503 UNAVAILABLE. {'error': {'code': 503, 'message': 'The service is currently unavailable.', 'status': 'UNAVAILABLE'}}\n"
     ]
    },
    {
     "name": "stderr",
     "output_type": "stream",
     "text": [
      "Curating VQA:  98%|█████████▊| 10787/11024 [6:55:47<09:37,  2.44s/img]"
     ]
    },
    {
     "name": "stdout",
     "output_type": "stream",
     "text": [
      " Error for 51PywSx5qRL (idx=10787): Error generating or processing Q&A: 500 Internal Server Error. {'message': 'Reading the request body timed out due to data arriving too slowly. See MinRequestBodyDataRate.\\n', 'status': 'Internal Server Error'}\n"
     ]
    },
    {
     "name": "stderr",
     "output_type": "stream",
     "text": [
      "Curating VQA:  98%|█████████▊| 10800/11024 [6:56:21<08:34,  2.30s/img]"
     ]
    },
    {
     "name": "stdout",
     "output_type": "stream",
     "text": [
      " Error for 81FFxiDh0kL (idx=10800): Error generating or processing Q&A: 503 UNAVAILABLE. {'error': {'code': 503, 'message': 'The service is currently unavailable.', 'status': 'UNAVAILABLE'}}\n"
     ]
    },
    {
     "name": "stderr",
     "output_type": "stream",
     "text": [
      "Curating VQA:  98%|█████████▊| 10802/11024 [6:56:24<07:14,  1.96s/img]"
     ]
    },
    {
     "name": "stdout",
     "output_type": "stream",
     "text": [
      " Error for 715qirjyOFL (idx=10802): Error generating or processing Q&A: 503 UNAVAILABLE. {'error': {'code': 503, 'message': 'The service is currently unavailable.', 'status': 'UNAVAILABLE'}}\n"
     ]
    },
    {
     "name": "stderr",
     "output_type": "stream",
     "text": [
      "Curating VQA:  99%|█████████▉| 10897/11024 [7:00:08<04:56,  2.33s/img]"
     ]
    },
    {
     "name": "stdout",
     "output_type": "stream",
     "text": [
      " Error for 81P7HUPyLRL (idx=10897): Error generating or processing Q&A: 503 UNAVAILABLE. {'error': {'code': 503, 'message': 'The service is currently unavailable.', 'status': 'UNAVAILABLE'}}\n"
     ]
    },
    {
     "name": "stderr",
     "output_type": "stream",
     "text": [
      "Curating VQA: 100%|██████████| 11024/11024 [7:05:05<00:00,  2.31s/img]\n"
     ]
    },
    {
     "name": "stdout",
     "output_type": "stream",
     "text": [
      "\n",
      "Retrying 18 failures...\n",
      "\n"
     ]
    },
    {
     "name": "stderr",
     "output_type": "stream",
     "text": [
      "Curating VQA: 100%|██████████| 18/18 [00:42<00:00,  2.35s/img]\n"
     ]
    },
    {
     "name": "stdout",
     "output_type": "stream",
     "text": [
      "\n",
      "All done! CSV savaed to /kaggle/working/qa_dataset2.csv\n"
     ]
    }
   ],
   "source": [
    "from google import genai\n",
    "import tqdm \n",
    "\n",
    "GOOGLE_API_KEY = \"Key\"  # <— replace with your real key\n",
    "client = genai.Client(api_key = GOOGLE_API_KEY)\n",
    "\n",
    "import ast\n",
    "# df['metadata'] = df['metadata'].apply(ast.literal_eval)\n",
    "\n",
    "\n",
    "# where your images live on disk\n",
    "image_root = \"/kaggle/input/abo-small/images/small\"  # adjust to point at the folder that contains all your `path` subfolders\n",
    "\n",
    "results = []\n",
    "failures = df.index.tolist()\n",
    "\n",
    "# keep retrying until every index has succeeded\n",
    "while failures:\n",
    "    next_failures = []\n",
    "    for idx in tqdm.tqdm(failures, desc=\"Curating VQA\", unit=\"img\"):\n",
    "        row = df.loc[idx]\n",
    "        image_id    = row['image_id']\n",
    "        rel_path    = row['path']\n",
    "        product_type= row['product_type']\n",
    "        metadata    = row['metadata']\n",
    "\n",
    "        full_path = os.path.join(image_root, rel_path)\n",
    "        try:\n",
    "            img = Image.open(full_path)\n",
    "            qa_output = generate_qa_json_with_prompt_metadata(img, metadata, prompt)\n",
    "\n",
    "            # flatten each QA pair into its own row\n",
    "            for qa in qa_output.questions:\n",
    "                results.append({\n",
    "                    \"image_id\":     image_id,\n",
    "                    \"path\":         rel_path,\n",
    "                    \"product_type\": product_type,\n",
    "                    \"question\":     qa.question,\n",
    "                    \"answer\":       qa.answer\n",
    "                })\n",
    "\n",
    "            # print(f\" Success: {image_id}\")\n",
    "\n",
    "        except Exception as e:\n",
    "            print(f\" Error for {image_id} (idx={idx}): {e}\")\n",
    "            next_failures.append(idx)\n",
    "\n",
    "        # tiny pause to be gentle on rate limits\n",
    "        time.sleep(0.5)\n",
    "\n",
    "    if not next_failures:\n",
    "        break\n",
    "\n",
    "    print(f\"\\nRetrying {len(next_failures)} failures...\\n\")\n",
    "    failures = next_failures\n",
    "\n",
    "# once everything's in `results`, write to CSV\n",
    "out_df = pd.DataFrame(results)\n",
    "out_df.to_csv(\"/kaggle/working/qa_dataset2.csv\", index=False)\n",
    "print(\"\\nAll done! CSV savaed to /kaggle/working/qa_dataset2.csv\")\n"
   ]
  },
  {
   "cell_type": "code",
   "execution_count": 6,
   "id": "ac103b3e",
   "metadata": {
    "execution": {
     "iopub.execute_input": "2025-05-13T08:37:25.556021Z",
     "iopub.status.busy": "2025-05-13T08:37:25.555687Z",
     "iopub.status.idle": "2025-05-13T08:37:25.681823Z",
     "shell.execute_reply": "2025-05-13T08:37:25.680850Z"
    },
    "papermill": {
     "duration": 0.672814,
     "end_time": "2025-05-13T08:37:25.683597",
     "exception": false,
     "start_time": "2025-05-13T08:37:25.010783",
     "status": "completed"
    },
    "tags": []
   },
   "outputs": [
    {
     "data": {
      "text/html": [
       "<div>\n",
       "<style scoped>\n",
       "    .dataframe tbody tr th:only-of-type {\n",
       "        vertical-align: middle;\n",
       "    }\n",
       "\n",
       "    .dataframe tbody tr th {\n",
       "        vertical-align: top;\n",
       "    }\n",
       "\n",
       "    .dataframe thead th {\n",
       "        text-align: right;\n",
       "    }\n",
       "</style>\n",
       "<table border=\"1\" class=\"dataframe\">\n",
       "  <thead>\n",
       "    <tr style=\"text-align: right;\">\n",
       "      <th></th>\n",
       "      <th>image_id</th>\n",
       "      <th>path</th>\n",
       "      <th>product_type</th>\n",
       "      <th>question</th>\n",
       "      <th>answer</th>\n",
       "    </tr>\n",
       "  </thead>\n",
       "  <tbody>\n",
       "    <tr>\n",
       "      <th>0</th>\n",
       "      <td>61mlKTXPShL</td>\n",
       "      <td>97/97fbd49f.jpg</td>\n",
       "      <td>KITCHEN_KNIFE</td>\n",
       "      <td>What is this?</td>\n",
       "      <td>Cleaver</td>\n",
       "    </tr>\n",
       "    <tr>\n",
       "      <th>1</th>\n",
       "      <td>61mlKTXPShL</td>\n",
       "      <td>97/97fbd49f.jpg</td>\n",
       "      <td>KITCHEN_KNIFE</td>\n",
       "      <td>What color is the handle?</td>\n",
       "      <td>Black</td>\n",
       "    </tr>\n",
       "    <tr>\n",
       "      <th>2</th>\n",
       "      <td>61mlKTXPShL</td>\n",
       "      <td>97/97fbd49f.jpg</td>\n",
       "      <td>KITCHEN_KNIFE</td>\n",
       "      <td>What is the blade made of?</td>\n",
       "      <td>Metal</td>\n",
       "    </tr>\n",
       "    <tr>\n",
       "      <th>3</th>\n",
       "      <td>61mlKTXPShL</td>\n",
       "      <td>97/97fbd49f.jpg</td>\n",
       "      <td>KITCHEN_KNIFE</td>\n",
       "      <td>Does this have a handle?</td>\n",
       "      <td>Yes</td>\n",
       "    </tr>\n",
       "    <tr>\n",
       "      <th>4</th>\n",
       "      <td>61mlKTXPShL</td>\n",
       "      <td>97/97fbd49f.jpg</td>\n",
       "      <td>KITCHEN_KNIFE</td>\n",
       "      <td>What color is blade?</td>\n",
       "      <td>Silver</td>\n",
       "    </tr>\n",
       "    <tr>\n",
       "      <th>...</th>\n",
       "      <td>...</td>\n",
       "      <td>...</td>\n",
       "      <td>...</td>\n",
       "      <td>...</td>\n",
       "      <td>...</td>\n",
       "    </tr>\n",
       "    <tr>\n",
       "      <th>66139</th>\n",
       "      <td>81P7HUPyLRL</td>\n",
       "      <td>f9/f95942b3.jpg</td>\n",
       "      <td>WRENCH</td>\n",
       "      <td>What are they made of?</td>\n",
       "      <td>metal</td>\n",
       "    </tr>\n",
       "    <tr>\n",
       "      <th>66140</th>\n",
       "      <td>81P7HUPyLRL</td>\n",
       "      <td>f9/f95942b3.jpg</td>\n",
       "      <td>WRENCH</td>\n",
       "      <td>What is the color?</td>\n",
       "      <td>Black</td>\n",
       "    </tr>\n",
       "    <tr>\n",
       "      <th>66141</th>\n",
       "      <td>81P7HUPyLRL</td>\n",
       "      <td>f9/f95942b3.jpg</td>\n",
       "      <td>WRENCH</td>\n",
       "      <td>Are they long?</td>\n",
       "      <td>Yes</td>\n",
       "    </tr>\n",
       "    <tr>\n",
       "      <th>66142</th>\n",
       "      <td>81P7HUPyLRL</td>\n",
       "      <td>f9/f95942b3.jpg</td>\n",
       "      <td>WRENCH</td>\n",
       "      <td>What is the shape?</td>\n",
       "      <td>Hexagonal</td>\n",
       "    </tr>\n",
       "    <tr>\n",
       "      <th>66143</th>\n",
       "      <td>81P7HUPyLRL</td>\n",
       "      <td>f9/f95942b3.jpg</td>\n",
       "      <td>WRENCH</td>\n",
       "      <td>Are they fabric?</td>\n",
       "      <td>No</td>\n",
       "    </tr>\n",
       "  </tbody>\n",
       "</table>\n",
       "<p>66144 rows × 5 columns</p>\n",
       "</div>"
      ],
      "text/plain": [
       "          image_id             path   product_type  \\\n",
       "0      61mlKTXPShL  97/97fbd49f.jpg  KITCHEN_KNIFE   \n",
       "1      61mlKTXPShL  97/97fbd49f.jpg  KITCHEN_KNIFE   \n",
       "2      61mlKTXPShL  97/97fbd49f.jpg  KITCHEN_KNIFE   \n",
       "3      61mlKTXPShL  97/97fbd49f.jpg  KITCHEN_KNIFE   \n",
       "4      61mlKTXPShL  97/97fbd49f.jpg  KITCHEN_KNIFE   \n",
       "...            ...              ...            ...   \n",
       "66139  81P7HUPyLRL  f9/f95942b3.jpg         WRENCH   \n",
       "66140  81P7HUPyLRL  f9/f95942b3.jpg         WRENCH   \n",
       "66141  81P7HUPyLRL  f9/f95942b3.jpg         WRENCH   \n",
       "66142  81P7HUPyLRL  f9/f95942b3.jpg         WRENCH   \n",
       "66143  81P7HUPyLRL  f9/f95942b3.jpg         WRENCH   \n",
       "\n",
       "                         question     answer  \n",
       "0                   What is this?    Cleaver  \n",
       "1       What color is the handle?      Black  \n",
       "2      What is the blade made of?      Metal  \n",
       "3        Does this have a handle?        Yes  \n",
       "4            What color is blade?     Silver  \n",
       "...                           ...        ...  \n",
       "66139      What are they made of?      metal  \n",
       "66140          What is the color?      Black  \n",
       "66141              Are they long?        Yes  \n",
       "66142          What is the shape?  Hexagonal  \n",
       "66143            Are they fabric?         No  \n",
       "\n",
       "[66144 rows x 5 columns]"
      ]
     },
     "execution_count": 6,
     "metadata": {},
     "output_type": "execute_result"
    }
   ],
   "source": [
    "results = pd.read_csv('/kaggle/working/qa_dataset2.csv')\n",
    "results"
   ]
  },
  {
   "cell_type": "code",
   "execution_count": null,
   "id": "ceee99a5",
   "metadata": {
    "papermill": {
     "duration": 0.591054,
     "end_time": "2025-05-13T08:37:26.951379",
     "exception": false,
     "start_time": "2025-05-13T08:37:26.360325",
     "status": "completed"
    },
    "tags": []
   },
   "outputs": [],
   "source": []
  }
 ],
 "metadata": {
  "kaggle": {
   "accelerator": "none",
   "dataSources": [
    {
     "datasetId": 7233922,
     "sourceId": 11533708,
     "sourceType": "datasetVersion"
    },
    {
     "datasetId": 7241605,
     "sourceId": 11547504,
     "sourceType": "datasetVersion"
    },
    {
     "datasetId": 7261304,
     "sourceId": 11580854,
     "sourceType": "datasetVersion"
    },
    {
     "datasetId": 7261307,
     "sourceId": 11580857,
     "sourceType": "datasetVersion"
    }
   ],
   "dockerImageVersionId": 31012,
   "isGpuEnabled": false,
   "isInternetEnabled": true,
   "language": "python",
   "sourceType": "notebook"
  },
  "kernelspec": {
   "display_name": "Python 3",
   "language": "python",
   "name": "python3"
  },
  "language_info": {
   "codemirror_mode": {
    "name": "ipython",
    "version": 3
   },
   "file_extension": ".py",
   "mimetype": "text/x-python",
   "name": "python",
   "nbconvert_exporter": "python",
   "pygments_lexer": "ipython3",
   "version": "3.11.11"
  },
  "papermill": {
   "default_parameters": {},
   "duration": 25566.523815,
   "end_time": "2025-05-13T08:37:28.255106",
   "environment_variables": {},
   "exception": null,
   "input_path": "__notebook__.ipynb",
   "output_path": "__notebook__.ipynb",
   "parameters": {},
   "start_time": "2025-05-13T01:31:21.731291",
   "version": "2.6.0"
  }
 },
 "nbformat": 4,
 "nbformat_minor": 5
}
