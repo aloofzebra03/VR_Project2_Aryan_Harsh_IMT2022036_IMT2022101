{
 "cells": [
  {
   "cell_type": "code",
   "execution_count": 1,
   "id": "d5607a97",
   "metadata": {
    "execution": {
     "iopub.execute_input": "2025-04-26T22:38:29.439681Z",
     "iopub.status.busy": "2025-04-26T22:38:29.439302Z",
     "iopub.status.idle": "2025-04-26T22:38:32.484898Z",
     "shell.execute_reply": "2025-04-26T22:38:32.483961Z"
    },
    "papermill": {
     "duration": 3.057539,
     "end_time": "2025-04-26T22:38:32.486734",
     "exception": false,
     "start_time": "2025-04-26T22:38:29.429195",
     "status": "completed"
    },
    "tags": []
   },
   "outputs": [
    {
     "data": {
      "text/html": [
       "<div>\n",
       "<style scoped>\n",
       "    .dataframe tbody tr th:only-of-type {\n",
       "        vertical-align: middle;\n",
       "    }\n",
       "\n",
       "    .dataframe tbody tr th {\n",
       "        vertical-align: top;\n",
       "    }\n",
       "\n",
       "    .dataframe thead th {\n",
       "        text-align: right;\n",
       "    }\n",
       "</style>\n",
       "<table border=\"1\" class=\"dataframe\">\n",
       "  <thead>\n",
       "    <tr style=\"text-align: right;\">\n",
       "      <th></th>\n",
       "      <th>image_id</th>\n",
       "      <th>height</th>\n",
       "      <th>width</th>\n",
       "      <th>path</th>\n",
       "    </tr>\n",
       "  </thead>\n",
       "  <tbody>\n",
       "    <tr>\n",
       "      <th>0</th>\n",
       "      <td>010-mllS7JL</td>\n",
       "      <td>106</td>\n",
       "      <td>106</td>\n",
       "      <td>14/14fe8812.jpg</td>\n",
       "    </tr>\n",
       "    <tr>\n",
       "      <th>1</th>\n",
       "      <td>01dkn0Gyx0L</td>\n",
       "      <td>122</td>\n",
       "      <td>122</td>\n",
       "      <td>da/daab0cad.jpg</td>\n",
       "    </tr>\n",
       "    <tr>\n",
       "      <th>2</th>\n",
       "      <td>01sUPg0387L</td>\n",
       "      <td>111</td>\n",
       "      <td>111</td>\n",
       "      <td>d2/d2daaae9.jpg</td>\n",
       "    </tr>\n",
       "    <tr>\n",
       "      <th>3</th>\n",
       "      <td>1168jc-5r1L</td>\n",
       "      <td>186</td>\n",
       "      <td>186</td>\n",
       "      <td>3a/3a4e88e6.jpg</td>\n",
       "    </tr>\n",
       "    <tr>\n",
       "      <th>4</th>\n",
       "      <td>11RUV5Fs65L</td>\n",
       "      <td>30</td>\n",
       "      <td>500</td>\n",
       "      <td>d9/d91ab9cf.jpg</td>\n",
       "    </tr>\n",
       "    <tr>\n",
       "      <th>...</th>\n",
       "      <td>...</td>\n",
       "      <td>...</td>\n",
       "      <td>...</td>\n",
       "      <td>...</td>\n",
       "    </tr>\n",
       "    <tr>\n",
       "      <th>398207</th>\n",
       "      <td>B1zv8OpTkBS</td>\n",
       "      <td>2560</td>\n",
       "      <td>2560</td>\n",
       "      <td>6d/6d49d130.jpg</td>\n",
       "    </tr>\n",
       "    <tr>\n",
       "      <th>398208</th>\n",
       "      <td>B1zwflWhPIS</td>\n",
       "      <td>2560</td>\n",
       "      <td>2560</td>\n",
       "      <td>b1/b163e0ea.jpg</td>\n",
       "    </tr>\n",
       "    <tr>\n",
       "      <th>398209</th>\n",
       "      <td>C1lf45DhhRS</td>\n",
       "      <td>2560</td>\n",
       "      <td>2560</td>\n",
       "      <td>a1/a116d9d1.jpg</td>\n",
       "    </tr>\n",
       "    <tr>\n",
       "      <th>398210</th>\n",
       "      <td>C1pEt6jBLiS</td>\n",
       "      <td>2560</td>\n",
       "      <td>2560</td>\n",
       "      <td>9c/9c3e1158.jpg</td>\n",
       "    </tr>\n",
       "    <tr>\n",
       "      <th>398211</th>\n",
       "      <td>C1sCYAz8NAS</td>\n",
       "      <td>2560</td>\n",
       "      <td>2560</td>\n",
       "      <td>cf/cf112e38.jpg</td>\n",
       "    </tr>\n",
       "  </tbody>\n",
       "</table>\n",
       "<p>398212 rows × 4 columns</p>\n",
       "</div>"
      ],
      "text/plain": [
       "           image_id  height  width             path\n",
       "0       010-mllS7JL     106    106  14/14fe8812.jpg\n",
       "1       01dkn0Gyx0L     122    122  da/daab0cad.jpg\n",
       "2       01sUPg0387L     111    111  d2/d2daaae9.jpg\n",
       "3       1168jc-5r1L     186    186  3a/3a4e88e6.jpg\n",
       "4       11RUV5Fs65L      30    500  d9/d91ab9cf.jpg\n",
       "...             ...     ...    ...              ...\n",
       "398207  B1zv8OpTkBS    2560   2560  6d/6d49d130.jpg\n",
       "398208  B1zwflWhPIS    2560   2560  b1/b163e0ea.jpg\n",
       "398209  C1lf45DhhRS    2560   2560  a1/a116d9d1.jpg\n",
       "398210  C1pEt6jBLiS    2560   2560  9c/9c3e1158.jpg\n",
       "398211  C1sCYAz8NAS    2560   2560  cf/cf112e38.jpg\n",
       "\n",
       "[398212 rows x 4 columns]"
      ]
     },
     "execution_count": 1,
     "metadata": {},
     "output_type": "execute_result"
    }
   ],
   "source": [
    "import pandas as pd\n",
    "df_id = pd.read_csv('/kaggle/input/abo-small/images/metadata/images.csv')\n",
    "df_id"
   ]
  },
  {
   "cell_type": "code",
   "execution_count": 2,
   "id": "065f079b",
   "metadata": {
    "execution": {
     "iopub.execute_input": "2025-04-26T22:38:32.505014Z",
     "iopub.status.busy": "2025-04-26T22:38:32.504651Z",
     "iopub.status.idle": "2025-04-26T22:38:32.743337Z",
     "shell.execute_reply": "2025-04-26T22:38:32.742350Z"
    },
    "papermill": {
     "duration": 0.249199,
     "end_time": "2025-04-26T22:38:32.744847",
     "exception": false,
     "start_time": "2025-04-26T22:38:32.495648",
     "status": "completed"
    },
    "tags": []
   },
   "outputs": [
    {
     "data": {
      "text/html": [
       "<div>\n",
       "<style scoped>\n",
       "    .dataframe tbody tr th:only-of-type {\n",
       "        vertical-align: middle;\n",
       "    }\n",
       "\n",
       "    .dataframe tbody tr th {\n",
       "        vertical-align: top;\n",
       "    }\n",
       "\n",
       "    .dataframe thead th {\n",
       "        text-align: right;\n",
       "    }\n",
       "</style>\n",
       "<table border=\"1\" class=\"dataframe\">\n",
       "  <thead>\n",
       "    <tr style=\"text-align: right;\">\n",
       "      <th></th>\n",
       "      <th>image_id</th>\n",
       "      <th>height</th>\n",
       "      <th>width</th>\n",
       "      <th>path</th>\n",
       "    </tr>\n",
       "  </thead>\n",
       "  <tbody>\n",
       "  </tbody>\n",
       "</table>\n",
       "</div>"
      ],
      "text/plain": [
       "Empty DataFrame\n",
       "Columns: [image_id, height, width, path]\n",
       "Index: []"
      ]
     },
     "execution_count": 2,
     "metadata": {},
     "output_type": "execute_result"
    }
   ],
   "source": [
    "df_id[df_id.duplicated()]"
   ]
  },
  {
   "cell_type": "markdown",
   "id": "5f37d493",
   "metadata": {
    "papermill": {
     "duration": 0.008016,
     "end_time": "2025-04-26T22:38:32.761959",
     "exception": false,
     "start_time": "2025-04-26T22:38:32.753943",
     "status": "completed"
    },
    "tags": []
   },
   "source": [
    "## Merging all the metadata together"
   ]
  },
  {
   "cell_type": "code",
   "execution_count": 3,
   "id": "1d3f859a",
   "metadata": {
    "execution": {
     "iopub.execute_input": "2025-04-26T22:38:32.779831Z",
     "iopub.status.busy": "2025-04-26T22:38:32.779492Z",
     "iopub.status.idle": "2025-04-26T22:38:54.223153Z",
     "shell.execute_reply": "2025-04-26T22:38:54.222297Z"
    },
    "papermill": {
     "duration": 21.454898,
     "end_time": "2025-04-26T22:38:54.224897",
     "exception": false,
     "start_time": "2025-04-26T22:38:32.769999",
     "status": "completed"
    },
    "tags": []
   },
   "outputs": [
    {
     "name": "stdout",
     "output_type": "stream",
     "text": [
      "Found existing CSV, loading from /kaggle/working/all_listings.csv\n",
      "Columns: ['brand', 'bullet_point', 'color', 'item_id', 'item_name', 'item_weight', 'material', 'model_name', 'model_number', 'product_type', 'main_image_id', 'other_image_id', 'item_keywords', 'country', 'marketplace', 'domain_name', 'node', 'style', 'item_dimensions', 'model_year', 'color_code', 'spin_id', '3dmodel_id', 'fabric_type', 'item_shape', 'pattern', 'product_description', 'finish_type']\n"
     ]
    }
   ],
   "source": [
    "import pandas as pd\n",
    "import glob\n",
    "import os\n",
    "\n",
    "# 1. point to your folder of JSONs\n",
    "json_folder = '/kaggle/input/abo-listings/listings/metadata'\n",
    "pattern     = os.path.join(json_folder, '*.json')\n",
    "\n",
    "# 2. decide on output CSV\n",
    "out_csv = '/kaggle/working/all_listings.csv'\n",
    "in_csv =  '/kaggle/input/all-listings/all_listings.csv'\n",
    "if os.path.exists(in_csv):\n",
    "    # CSV already there → just load it\n",
    "    print(f\"Found existing CSV, loading from {out_csv}\")\n",
    "    df = pd.read_csv(in_csv)\n",
    "else:\n",
    "    # CSV missing → read + merge all JSONs\n",
    "    print(\"CSV not found, merging JSON files…\")\n",
    "    json_files = glob.glob(pattern)\n",
    "\n",
    "    dfs = []\n",
    "    for path in json_files:\n",
    "        try:\n",
    "            df_temp = pd.read_json(path, lines=True)\n",
    "        except ValueError:\n",
    "            df_temp = pd.read_json(path, lines=False)\n",
    "        dfs.append(df_temp)\n",
    "\n",
    "    df = pd.concat(dfs, ignore_index=True)\n",
    "    print(\"Merged shape:\", df.shape)\n",
    "\n",
    "    df.to_csv(out_csv, index=False)\n",
    "    print(f\"Wrote merged DataFrame to {out_csv}\")\n",
    "    df = pd.read_csv(out_csv)\n",
    "\n",
    "print(\"Columns:\", df.columns.tolist())\n"
   ]
  },
  {
   "cell_type": "code",
   "execution_count": 4,
   "id": "efb389b8",
   "metadata": {
    "execution": {
     "iopub.execute_input": "2025-04-26T22:38:54.242760Z",
     "iopub.status.busy": "2025-04-26T22:38:54.241752Z",
     "iopub.status.idle": "2025-04-26T22:38:54.249136Z",
     "shell.execute_reply": "2025-04-26T22:38:54.248358Z"
    },
    "papermill": {
     "duration": 0.017505,
     "end_time": "2025-04-26T22:38:54.250461",
     "exception": false,
     "start_time": "2025-04-26T22:38:54.232956",
     "status": "completed"
    },
    "tags": []
   },
   "outputs": [
    {
     "data": {
      "text/plain": [
       "0         [{'value': 'CELLULAR_PHONE_CASE'}]\n",
       "1                       [{'value': 'BENCH'}]\n",
       "2                     [{'value': 'GROCERY'}]\n",
       "3         [{'value': 'CELLULAR_PHONE_CASE'}]\n",
       "4                     [{'value': 'GROCERY'}]\n",
       "                         ...                \n",
       "147697                   [{'value': 'LOCK'}]\n",
       "147698            [{'value': 'DUTCH_OVENS'}]\n",
       "147699                [{'value': 'GROCERY'}]\n",
       "147700     [{'value': 'INKJET_PRINTER_INK'}]\n",
       "147701                [{'value': 'KITCHEN'}]\n",
       "Name: product_type, Length: 147702, dtype: object"
      ]
     },
     "execution_count": 4,
     "metadata": {},
     "output_type": "execute_result"
    }
   ],
   "source": [
    "df['product_type']"
   ]
  },
  {
   "cell_type": "code",
   "execution_count": 5,
   "id": "fa3c1bba",
   "metadata": {
    "execution": {
     "iopub.execute_input": "2025-04-26T22:38:54.268323Z",
     "iopub.status.busy": "2025-04-26T22:38:54.268012Z",
     "iopub.status.idle": "2025-04-26T22:38:56.449951Z",
     "shell.execute_reply": "2025-04-26T22:38:56.449099Z"
    },
    "papermill": {
     "duration": 2.192483,
     "end_time": "2025-04-26T22:38:56.451377",
     "exception": false,
     "start_time": "2025-04-26T22:38:54.258894",
     "status": "completed"
    },
    "tags": []
   },
   "outputs": [
    {
     "data": {
      "text/plain": [
       "0         CELLULAR_PHONE_CASE\n",
       "1                       BENCH\n",
       "2                     GROCERY\n",
       "3         CELLULAR_PHONE_CASE\n",
       "4                     GROCERY\n",
       "                 ...         \n",
       "147697                   LOCK\n",
       "147698            DUTCH_OVENS\n",
       "147699                GROCERY\n",
       "147700     INKJET_PRINTER_INK\n",
       "147701                KITCHEN\n",
       "Name: product_type, Length: 147702, dtype: object"
      ]
     },
     "execution_count": 5,
     "metadata": {},
     "output_type": "execute_result"
    }
   ],
   "source": [
    "import ast\n",
    "df['product_type'] = df['product_type'].apply(ast.literal_eval)\n",
    "df['product_type'] = df['product_type'].str[0].str['value']\n",
    "df['product_type']"
   ]
  },
  {
   "cell_type": "code",
   "execution_count": 6,
   "id": "744af488",
   "metadata": {
    "execution": {
     "iopub.execute_input": "2025-04-26T22:38:56.469490Z",
     "iopub.status.busy": "2025-04-26T22:38:56.469197Z",
     "iopub.status.idle": "2025-04-26T22:38:56.475179Z",
     "shell.execute_reply": "2025-04-26T22:38:56.474298Z"
    },
    "papermill": {
     "duration": 0.016738,
     "end_time": "2025-04-26T22:38:56.476615",
     "exception": false,
     "start_time": "2025-04-26T22:38:56.459877",
     "status": "completed"
    },
    "tags": []
   },
   "outputs": [
    {
     "data": {
      "text/plain": [
       "Index(['brand', 'bullet_point', 'color', 'item_id', 'item_name', 'item_weight',\n",
       "       'material', 'model_name', 'model_number', 'product_type',\n",
       "       'main_image_id', 'other_image_id', 'item_keywords', 'country',\n",
       "       'marketplace', 'domain_name', 'node', 'style', 'item_dimensions',\n",
       "       'model_year', 'color_code', 'spin_id', '3dmodel_id', 'fabric_type',\n",
       "       'item_shape', 'pattern', 'product_description', 'finish_type'],\n",
       "      dtype='object')"
      ]
     },
     "execution_count": 6,
     "metadata": {},
     "output_type": "execute_result"
    }
   ],
   "source": [
    "df.columns"
   ]
  },
  {
   "cell_type": "code",
   "execution_count": 7,
   "id": "c0862aa9",
   "metadata": {
    "execution": {
     "iopub.execute_input": "2025-04-26T22:38:56.494176Z",
     "iopub.status.busy": "2025-04-26T22:38:56.493892Z",
     "iopub.status.idle": "2025-04-26T22:38:56.505322Z",
     "shell.execute_reply": "2025-04-26T22:38:56.504534Z"
    },
    "papermill": {
     "duration": 0.021583,
     "end_time": "2025-04-26T22:38:56.506682",
     "exception": false,
     "start_time": "2025-04-26T22:38:56.485099",
     "status": "completed"
    },
    "tags": []
   },
   "outputs": [
    {
     "data": {
      "text/plain": [
       "142636"
      ]
     },
     "execution_count": 7,
     "metadata": {},
     "output_type": "execute_result"
    }
   ],
   "source": [
    "df['item_shape'].isna().sum()"
   ]
  },
  {
   "cell_type": "code",
   "execution_count": 8,
   "id": "1b52bcde",
   "metadata": {
    "execution": {
     "iopub.execute_input": "2025-04-26T22:38:56.524534Z",
     "iopub.status.busy": "2025-04-26T22:38:56.524198Z",
     "iopub.status.idle": "2025-04-26T22:38:56.535549Z",
     "shell.execute_reply": "2025-04-26T22:38:56.534775Z"
    },
    "papermill": {
     "duration": 0.021835,
     "end_time": "2025-04-26T22:38:56.536840",
     "exception": false,
     "start_time": "2025-04-26T22:38:56.515005",
     "status": "completed"
    },
    "tags": []
   },
   "outputs": [
    {
     "data": {
      "text/plain": [
       "139509"
      ]
     },
     "execution_count": 8,
     "metadata": {},
     "output_type": "execute_result"
    }
   ],
   "source": [
    "df['fabric_type'].isna().sum()"
   ]
  },
  {
   "cell_type": "code",
   "execution_count": 9,
   "id": "7e530a01",
   "metadata": {
    "execution": {
     "iopub.execute_input": "2025-04-26T22:38:56.555217Z",
     "iopub.status.busy": "2025-04-26T22:38:56.554458Z",
     "iopub.status.idle": "2025-04-26T22:38:56.567310Z",
     "shell.execute_reply": "2025-04-26T22:38:56.566554Z"
    },
    "papermill": {
     "duration": 0.023495,
     "end_time": "2025-04-26T22:38:56.568699",
     "exception": false,
     "start_time": "2025-04-26T22:38:56.545204",
     "status": "completed"
    },
    "tags": []
   },
   "outputs": [
    {
     "data": {
      "text/plain": [
       "104514"
      ]
     },
     "execution_count": 9,
     "metadata": {},
     "output_type": "execute_result"
    }
   ],
   "source": [
    "df['style'].isna().sum()"
   ]
  },
  {
   "cell_type": "code",
   "execution_count": 10,
   "id": "da8e6444",
   "metadata": {
    "execution": {
     "iopub.execute_input": "2025-04-26T22:38:56.586719Z",
     "iopub.status.busy": "2025-04-26T22:38:56.586401Z",
     "iopub.status.idle": "2025-04-26T22:38:56.596830Z",
     "shell.execute_reply": "2025-04-26T22:38:56.596082Z"
    },
    "papermill": {
     "duration": 0.020986,
     "end_time": "2025-04-26T22:38:56.598223",
     "exception": false,
     "start_time": "2025-04-26T22:38:56.577237",
     "status": "completed"
    },
    "tags": []
   },
   "outputs": [
    {
     "data": {
      "text/plain": [
       "143112"
      ]
     },
     "execution_count": 10,
     "metadata": {},
     "output_type": "execute_result"
    }
   ],
   "source": [
    "df['pattern'].isna().sum()"
   ]
  },
  {
   "cell_type": "markdown",
   "id": "2df995ff",
   "metadata": {
    "papermill": {
     "duration": 0.008082,
     "end_time": "2025-04-26T22:38:56.615061",
     "exception": false,
     "start_time": "2025-04-26T22:38:56.606979",
     "status": "completed"
    },
    "tags": []
   },
   "source": [
    "## Removing irrelevant columns"
   ]
  },
  {
   "cell_type": "code",
   "execution_count": 11,
   "id": "7458f725",
   "metadata": {
    "execution": {
     "iopub.execute_input": "2025-04-26T22:38:56.633298Z",
     "iopub.status.busy": "2025-04-26T22:38:56.632604Z",
     "iopub.status.idle": "2025-04-26T22:38:56.674501Z",
     "shell.execute_reply": "2025-04-26T22:38:56.673501Z"
    },
    "papermill": {
     "duration": 0.052979,
     "end_time": "2025-04-26T22:38:56.676342",
     "exception": false,
     "start_time": "2025-04-26T22:38:56.623363",
     "status": "completed"
    },
    "tags": []
   },
   "outputs": [],
   "source": [
    "#dropping all the irrelevant columns\n",
    "#Also removing finish_type and pattern columns because of too many nan vlaues\n",
    "df = df.drop(columns = ['brand','item_weight','model_number','country','marketplace','domain_name','node','item_dimensions',\n",
    "       'model_year', 'color_code', 'spin_id', '3dmodel_id','finish_type','item_id','item_weight'])"
   ]
  },
  {
   "cell_type": "code",
   "execution_count": 12,
   "id": "ac562d8e",
   "metadata": {
    "execution": {
     "iopub.execute_input": "2025-04-26T22:38:56.694771Z",
     "iopub.status.busy": "2025-04-26T22:38:56.694473Z",
     "iopub.status.idle": "2025-04-26T22:38:56.707678Z",
     "shell.execute_reply": "2025-04-26T22:38:56.706960Z"
    },
    "papermill": {
     "duration": 0.024469,
     "end_time": "2025-04-26T22:38:56.709298",
     "exception": false,
     "start_time": "2025-04-26T22:38:56.684829",
     "status": "completed"
    },
    "tags": []
   },
   "outputs": [
    {
     "data": {
      "text/plain": [
       "94117"
      ]
     },
     "execution_count": 12,
     "metadata": {},
     "output_type": "execute_result"
    }
   ],
   "source": [
    "df['material'].isna().sum()"
   ]
  },
  {
   "cell_type": "code",
   "execution_count": 13,
   "id": "fb09c423",
   "metadata": {
    "execution": {
     "iopub.execute_input": "2025-04-26T22:38:56.727407Z",
     "iopub.status.busy": "2025-04-26T22:38:56.727110Z",
     "iopub.status.idle": "2025-04-26T22:38:56.757340Z",
     "shell.execute_reply": "2025-04-26T22:38:56.756382Z"
    },
    "papermill": {
     "duration": 0.040961,
     "end_time": "2025-04-26T22:38:56.758748",
     "exception": false,
     "start_time": "2025-04-26T22:38:56.717787",
     "status": "completed"
    },
    "tags": []
   },
   "outputs": [
    {
     "data": {
      "text/html": [
       "<div>\n",
       "<style scoped>\n",
       "    .dataframe tbody tr th:only-of-type {\n",
       "        vertical-align: middle;\n",
       "    }\n",
       "\n",
       "    .dataframe tbody tr th {\n",
       "        vertical-align: top;\n",
       "    }\n",
       "\n",
       "    .dataframe thead th {\n",
       "        text-align: right;\n",
       "    }\n",
       "</style>\n",
       "<table border=\"1\" class=\"dataframe\">\n",
       "  <thead>\n",
       "    <tr style=\"text-align: right;\">\n",
       "      <th></th>\n",
       "      <th>bullet_point</th>\n",
       "      <th>color</th>\n",
       "      <th>item_name</th>\n",
       "      <th>material</th>\n",
       "      <th>model_name</th>\n",
       "      <th>product_type</th>\n",
       "      <th>main_image_id</th>\n",
       "      <th>other_image_id</th>\n",
       "      <th>item_keywords</th>\n",
       "      <th>style</th>\n",
       "      <th>fabric_type</th>\n",
       "      <th>item_shape</th>\n",
       "      <th>pattern</th>\n",
       "      <th>product_description</th>\n",
       "    </tr>\n",
       "  </thead>\n",
       "  <tbody>\n",
       "    <tr>\n",
       "      <th>0</th>\n",
       "      <td>[{'language_tag': 'en_IN', 'value': 'Snug fit ...</td>\n",
       "      <td>[{'language_tag': 'en_IN', 'standardized_value...</td>\n",
       "      <td>[{'language_tag': 'en_IN', 'value': 'Amazon Br...</td>\n",
       "      <td>[{'language_tag': 'en_IN', 'value': 'Silicone'}]</td>\n",
       "      <td>[{'language_tag': 'en_IN', 'value': 'Samsung G...</td>\n",
       "      <td>CELLULAR_PHONE_CASE</td>\n",
       "      <td>71owAzvPFuL</td>\n",
       "      <td>['61+woWTqkwL', '61SE4RTPjdL']</td>\n",
       "      <td>[{'language_tag': 'en_IN', 'value': 'Back Cove...</td>\n",
       "      <td>NaN</td>\n",
       "      <td>NaN</td>\n",
       "      <td>NaN</td>\n",
       "      <td>NaN</td>\n",
       "      <td>NaN</td>\n",
       "    </tr>\n",
       "    <tr>\n",
       "      <th>1</th>\n",
       "      <td>NaN</td>\n",
       "      <td>[{'language_tag': 'en_US', 'value': 'Light Gre...</td>\n",
       "      <td>[{'language_tag': 'en_US', 'value': 'Light Gre...</td>\n",
       "      <td>NaN</td>\n",
       "      <td>NaN</td>\n",
       "      <td>BENCH</td>\n",
       "      <td>A114ZfnM0dL</td>\n",
       "      <td>NaN</td>\n",
       "      <td>NaN</td>\n",
       "      <td>[{'language_tag': 'en_US', 'value': 'Raconteur...</td>\n",
       "      <td>NaN</td>\n",
       "      <td>NaN</td>\n",
       "      <td>NaN</td>\n",
       "      <td>NaN</td>\n",
       "    </tr>\n",
       "    <tr>\n",
       "      <th>2</th>\n",
       "      <td>[{'language_tag': 'en_US', 'value': 'Brought t...</td>\n",
       "      <td>NaN</td>\n",
       "      <td>[{'language_tag': 'en_US', 'value': '365 EVERY...</td>\n",
       "      <td>NaN</td>\n",
       "      <td>NaN</td>\n",
       "      <td>GROCERY</td>\n",
       "      <td>816oDloCY4L</td>\n",
       "      <td>['51u3Lkk-R+L', '71jPhuf7zsL', '71vrYGQp3zL', ...</td>\n",
       "      <td>NaN</td>\n",
       "      <td>NaN</td>\n",
       "      <td>NaN</td>\n",
       "      <td>NaN</td>\n",
       "      <td>NaN</td>\n",
       "      <td>NaN</td>\n",
       "    </tr>\n",
       "    <tr>\n",
       "      <th>3</th>\n",
       "      <td>[{'language_tag': 'en_IN', 'value': 'Snug fit ...</td>\n",
       "      <td>[{'language_tag': 'en_IN', 'standardized_value...</td>\n",
       "      <td>[{'language_tag': 'en_IN', 'value': 'Amazon Br...</td>\n",
       "      <td>[{'language_tag': 'en_IN', 'value': 'Silicon'}]</td>\n",
       "      <td>[{'language_tag': 'en_IN', 'value': 'Oppo A7'}]</td>\n",
       "      <td>CELLULAR_PHONE_CASE</td>\n",
       "      <td>71GmYaibrUL</td>\n",
       "      <td>['61+woWTqkwL', '61SE4RTPjdL']</td>\n",
       "      <td>[{'language_tag': 'en_IN', 'value': 'Back Cove...</td>\n",
       "      <td>NaN</td>\n",
       "      <td>NaN</td>\n",
       "      <td>NaN</td>\n",
       "      <td>NaN</td>\n",
       "      <td>NaN</td>\n",
       "    </tr>\n",
       "    <tr>\n",
       "      <th>4</th>\n",
       "      <td>[{'language_tag': 'en_US', 'value': 'Brought t...</td>\n",
       "      <td>NaN</td>\n",
       "      <td>[{'language_tag': 'en_US', 'value': 'Engine 2,...</td>\n",
       "      <td>NaN</td>\n",
       "      <td>NaN</td>\n",
       "      <td>GROCERY</td>\n",
       "      <td>91w54-A-WFL</td>\n",
       "      <td>['81XfutyF3UL', '61c2N2TghAL', '71aj6Lyz0TL', ...</td>\n",
       "      <td>[{'language_tag': 'en_US', 'value': 'Placehold...</td>\n",
       "      <td>NaN</td>\n",
       "      <td>NaN</td>\n",
       "      <td>NaN</td>\n",
       "      <td>NaN</td>\n",
       "      <td>NaN</td>\n",
       "    </tr>\n",
       "    <tr>\n",
       "      <th>...</th>\n",
       "      <td>...</td>\n",
       "      <td>...</td>\n",
       "      <td>...</td>\n",
       "      <td>...</td>\n",
       "      <td>...</td>\n",
       "      <td>...</td>\n",
       "      <td>...</td>\n",
       "      <td>...</td>\n",
       "      <td>...</td>\n",
       "      <td>...</td>\n",
       "      <td>...</td>\n",
       "      <td>...</td>\n",
       "      <td>...</td>\n",
       "      <td>...</td>\n",
       "    </tr>\n",
       "    <tr>\n",
       "      <th>147697</th>\n",
       "      <td>[{'language_tag': 'sv_SE', 'value': 'Svart och...</td>\n",
       "      <td>[{'language_tag': 'sv_SE', 'value': '4-pack'}]</td>\n",
       "      <td>[{'language_tag': 'sv_SE', 'value': 'AmazonBas...</td>\n",
       "      <td>NaN</td>\n",
       "      <td>NaN</td>\n",
       "      <td>LOCK</td>\n",
       "      <td>61ZGzGxAWIL</td>\n",
       "      <td>['714wTMO8jmL', '71ggEx8YfJL', '71OKuhjXNjL', ...</td>\n",
       "      <td>[{'language_tag': 'sv_SE', 'value': 'antal lås...</td>\n",
       "      <td>NaN</td>\n",
       "      <td>NaN</td>\n",
       "      <td>NaN</td>\n",
       "      <td>NaN</td>\n",
       "      <td>NaN</td>\n",
       "    </tr>\n",
       "    <tr>\n",
       "      <th>147698</th>\n",
       "      <td>[{'language_tag': 'sv_SE', 'value': 'Röd 7,09 ...</td>\n",
       "      <td>[{'language_tag': 'sv_SE', 'value': 'Röd'}]</td>\n",
       "      <td>[{'language_tag': 'sv_SE', 'value': 'AmazonBas...</td>\n",
       "      <td>NaN</td>\n",
       "      <td>NaN</td>\n",
       "      <td>DUTCH_OVENS</td>\n",
       "      <td>81L8PyxZIbL</td>\n",
       "      <td>['81nhm1WWlPL', '31JLf1Uoz-L', '81Xc0Cj4o2L', ...</td>\n",
       "      <td>[{'language_tag': 'sv_SE', 'value': 'staub cas...</td>\n",
       "      <td>[{'language_tag': 'sv_SE', 'value': 'Fältugn'}]</td>\n",
       "      <td>NaN</td>\n",
       "      <td>NaN</td>\n",
       "      <td>[{'language_tag': 'sv_SE', 'value': 'singel'}]</td>\n",
       "      <td>NaN</td>\n",
       "    </tr>\n",
       "    <tr>\n",
       "      <th>147699</th>\n",
       "      <td>[{'language_tag': 'en_US', 'value': 'Brought t...</td>\n",
       "      <td>NaN</td>\n",
       "      <td>[{'language_tag': 'en_US', 'value': '365 EVERY...</td>\n",
       "      <td>NaN</td>\n",
       "      <td>NaN</td>\n",
       "      <td>GROCERY</td>\n",
       "      <td>51Z8EYhVfKL</td>\n",
       "      <td>['81yxsVWLtlL', '81jHRKzShzL', '41gVK80FNuL', ...</td>\n",
       "      <td>[{'language_tag': 'en_US', 'value': 'whole foo...</td>\n",
       "      <td>NaN</td>\n",
       "      <td>NaN</td>\n",
       "      <td>NaN</td>\n",
       "      <td>NaN</td>\n",
       "      <td>NaN</td>\n",
       "    </tr>\n",
       "    <tr>\n",
       "      <th>147700</th>\n",
       "      <td>[{'language_tag': 'es_ES', 'value': 'Cartuchos...</td>\n",
       "      <td>[{'language_tag': 'es_ES', 'value': 'Magenta'}...</td>\n",
       "      <td>[{'language_tag': 'es_ES', 'value': 'AmazonBas...</td>\n",
       "      <td>NaN</td>\n",
       "      <td>NaN</td>\n",
       "      <td>INKJET_PRINTER_INK</td>\n",
       "      <td>71cwmPsvKtL</td>\n",
       "      <td>['71iVAbBa-GL', '71UUa0BImkL', '81XhpdeQfLL', ...</td>\n",
       "      <td>[{'language_tag': 'es_ES', 'value': 'tinta hp ...</td>\n",
       "      <td>[{'language_tag': 'es_ES', 'value': 'Cartucho ...</td>\n",
       "      <td>NaN</td>\n",
       "      <td>NaN</td>\n",
       "      <td>NaN</td>\n",
       "      <td>NaN</td>\n",
       "    </tr>\n",
       "    <tr>\n",
       "      <th>147701</th>\n",
       "      <td>[{'language_tag': 'es_ES', 'value': 'Máquina d...</td>\n",
       "      <td>NaN</td>\n",
       "      <td>[{'language_tag': 'es_ES', 'value': 'AmazonBas...</td>\n",
       "      <td>NaN</td>\n",
       "      <td>NaN</td>\n",
       "      <td>KITCHEN</td>\n",
       "      <td>719i3-7uRYL</td>\n",
       "      <td>['61cNuwHpU7L', '519tPqT-FnL', '71joHmzQ+ZL', ...</td>\n",
       "      <td>[{'language_tag': 'es_ES', 'value': 'Pequeño'}...</td>\n",
       "      <td>NaN</td>\n",
       "      <td>NaN</td>\n",
       "      <td>NaN</td>\n",
       "      <td>NaN</td>\n",
       "      <td>NaN</td>\n",
       "    </tr>\n",
       "  </tbody>\n",
       "</table>\n",
       "<p>147702 rows × 14 columns</p>\n",
       "</div>"
      ],
      "text/plain": [
       "                                             bullet_point  \\\n",
       "0       [{'language_tag': 'en_IN', 'value': 'Snug fit ...   \n",
       "1                                                     NaN   \n",
       "2       [{'language_tag': 'en_US', 'value': 'Brought t...   \n",
       "3       [{'language_tag': 'en_IN', 'value': 'Snug fit ...   \n",
       "4       [{'language_tag': 'en_US', 'value': 'Brought t...   \n",
       "...                                                   ...   \n",
       "147697  [{'language_tag': 'sv_SE', 'value': 'Svart och...   \n",
       "147698  [{'language_tag': 'sv_SE', 'value': 'Röd 7,09 ...   \n",
       "147699  [{'language_tag': 'en_US', 'value': 'Brought t...   \n",
       "147700  [{'language_tag': 'es_ES', 'value': 'Cartuchos...   \n",
       "147701  [{'language_tag': 'es_ES', 'value': 'Máquina d...   \n",
       "\n",
       "                                                    color  \\\n",
       "0       [{'language_tag': 'en_IN', 'standardized_value...   \n",
       "1       [{'language_tag': 'en_US', 'value': 'Light Gre...   \n",
       "2                                                     NaN   \n",
       "3       [{'language_tag': 'en_IN', 'standardized_value...   \n",
       "4                                                     NaN   \n",
       "...                                                   ...   \n",
       "147697     [{'language_tag': 'sv_SE', 'value': '4-pack'}]   \n",
       "147698        [{'language_tag': 'sv_SE', 'value': 'Röd'}]   \n",
       "147699                                                NaN   \n",
       "147700  [{'language_tag': 'es_ES', 'value': 'Magenta'}...   \n",
       "147701                                                NaN   \n",
       "\n",
       "                                                item_name  \\\n",
       "0       [{'language_tag': 'en_IN', 'value': 'Amazon Br...   \n",
       "1       [{'language_tag': 'en_US', 'value': 'Light Gre...   \n",
       "2       [{'language_tag': 'en_US', 'value': '365 EVERY...   \n",
       "3       [{'language_tag': 'en_IN', 'value': 'Amazon Br...   \n",
       "4       [{'language_tag': 'en_US', 'value': 'Engine 2,...   \n",
       "...                                                   ...   \n",
       "147697  [{'language_tag': 'sv_SE', 'value': 'AmazonBas...   \n",
       "147698  [{'language_tag': 'sv_SE', 'value': 'AmazonBas...   \n",
       "147699  [{'language_tag': 'en_US', 'value': '365 EVERY...   \n",
       "147700  [{'language_tag': 'es_ES', 'value': 'AmazonBas...   \n",
       "147701  [{'language_tag': 'es_ES', 'value': 'AmazonBas...   \n",
       "\n",
       "                                                material  \\\n",
       "0       [{'language_tag': 'en_IN', 'value': 'Silicone'}]   \n",
       "1                                                    NaN   \n",
       "2                                                    NaN   \n",
       "3        [{'language_tag': 'en_IN', 'value': 'Silicon'}]   \n",
       "4                                                    NaN   \n",
       "...                                                  ...   \n",
       "147697                                               NaN   \n",
       "147698                                               NaN   \n",
       "147699                                               NaN   \n",
       "147700                                               NaN   \n",
       "147701                                               NaN   \n",
       "\n",
       "                                               model_name  \\\n",
       "0       [{'language_tag': 'en_IN', 'value': 'Samsung G...   \n",
       "1                                                     NaN   \n",
       "2                                                     NaN   \n",
       "3         [{'language_tag': 'en_IN', 'value': 'Oppo A7'}]   \n",
       "4                                                     NaN   \n",
       "...                                                   ...   \n",
       "147697                                                NaN   \n",
       "147698                                                NaN   \n",
       "147699                                                NaN   \n",
       "147700                                                NaN   \n",
       "147701                                                NaN   \n",
       "\n",
       "               product_type main_image_id  \\\n",
       "0       CELLULAR_PHONE_CASE   71owAzvPFuL   \n",
       "1                     BENCH   A114ZfnM0dL   \n",
       "2                   GROCERY   816oDloCY4L   \n",
       "3       CELLULAR_PHONE_CASE   71GmYaibrUL   \n",
       "4                   GROCERY   91w54-A-WFL   \n",
       "...                     ...           ...   \n",
       "147697                 LOCK   61ZGzGxAWIL   \n",
       "147698          DUTCH_OVENS   81L8PyxZIbL   \n",
       "147699              GROCERY   51Z8EYhVfKL   \n",
       "147700   INKJET_PRINTER_INK   71cwmPsvKtL   \n",
       "147701              KITCHEN   719i3-7uRYL   \n",
       "\n",
       "                                           other_image_id  \\\n",
       "0                          ['61+woWTqkwL', '61SE4RTPjdL']   \n",
       "1                                                     NaN   \n",
       "2       ['51u3Lkk-R+L', '71jPhuf7zsL', '71vrYGQp3zL', ...   \n",
       "3                          ['61+woWTqkwL', '61SE4RTPjdL']   \n",
       "4       ['81XfutyF3UL', '61c2N2TghAL', '71aj6Lyz0TL', ...   \n",
       "...                                                   ...   \n",
       "147697  ['714wTMO8jmL', '71ggEx8YfJL', '71OKuhjXNjL', ...   \n",
       "147698  ['81nhm1WWlPL', '31JLf1Uoz-L', '81Xc0Cj4o2L', ...   \n",
       "147699  ['81yxsVWLtlL', '81jHRKzShzL', '41gVK80FNuL', ...   \n",
       "147700  ['71iVAbBa-GL', '71UUa0BImkL', '81XhpdeQfLL', ...   \n",
       "147701  ['61cNuwHpU7L', '519tPqT-FnL', '71joHmzQ+ZL', ...   \n",
       "\n",
       "                                            item_keywords  \\\n",
       "0       [{'language_tag': 'en_IN', 'value': 'Back Cove...   \n",
       "1                                                     NaN   \n",
       "2                                                     NaN   \n",
       "3       [{'language_tag': 'en_IN', 'value': 'Back Cove...   \n",
       "4       [{'language_tag': 'en_US', 'value': 'Placehold...   \n",
       "...                                                   ...   \n",
       "147697  [{'language_tag': 'sv_SE', 'value': 'antal lås...   \n",
       "147698  [{'language_tag': 'sv_SE', 'value': 'staub cas...   \n",
       "147699  [{'language_tag': 'en_US', 'value': 'whole foo...   \n",
       "147700  [{'language_tag': 'es_ES', 'value': 'tinta hp ...   \n",
       "147701  [{'language_tag': 'es_ES', 'value': 'Pequeño'}...   \n",
       "\n",
       "                                                    style fabric_type  \\\n",
       "0                                                     NaN         NaN   \n",
       "1       [{'language_tag': 'en_US', 'value': 'Raconteur...         NaN   \n",
       "2                                                     NaN         NaN   \n",
       "3                                                     NaN         NaN   \n",
       "4                                                     NaN         NaN   \n",
       "...                                                   ...         ...   \n",
       "147697                                                NaN         NaN   \n",
       "147698    [{'language_tag': 'sv_SE', 'value': 'Fältugn'}]         NaN   \n",
       "147699                                                NaN         NaN   \n",
       "147700  [{'language_tag': 'es_ES', 'value': 'Cartucho ...         NaN   \n",
       "147701                                                NaN         NaN   \n",
       "\n",
       "       item_shape                                         pattern  \\\n",
       "0             NaN                                             NaN   \n",
       "1             NaN                                             NaN   \n",
       "2             NaN                                             NaN   \n",
       "3             NaN                                             NaN   \n",
       "4             NaN                                             NaN   \n",
       "...           ...                                             ...   \n",
       "147697        NaN                                             NaN   \n",
       "147698        NaN  [{'language_tag': 'sv_SE', 'value': 'singel'}]   \n",
       "147699        NaN                                             NaN   \n",
       "147700        NaN                                             NaN   \n",
       "147701        NaN                                             NaN   \n",
       "\n",
       "       product_description  \n",
       "0                      NaN  \n",
       "1                      NaN  \n",
       "2                      NaN  \n",
       "3                      NaN  \n",
       "4                      NaN  \n",
       "...                    ...  \n",
       "147697                 NaN  \n",
       "147698                 NaN  \n",
       "147699                 NaN  \n",
       "147700                 NaN  \n",
       "147701                 NaN  \n",
       "\n",
       "[147702 rows x 14 columns]"
      ]
     },
     "execution_count": 13,
     "metadata": {},
     "output_type": "execute_result"
    }
   ],
   "source": [
    "df"
   ]
  },
  {
   "cell_type": "code",
   "execution_count": 14,
   "id": "422b422d",
   "metadata": {
    "execution": {
     "iopub.execute_input": "2025-04-26T22:38:56.778545Z",
     "iopub.status.busy": "2025-04-26T22:38:56.778237Z",
     "iopub.status.idle": "2025-04-26T22:38:57.450239Z",
     "shell.execute_reply": "2025-04-26T22:38:57.449287Z"
    },
    "papermill": {
     "duration": 0.684097,
     "end_time": "2025-04-26T22:38:57.452138",
     "exception": false,
     "start_time": "2025-04-26T22:38:56.768041",
     "status": "completed"
    },
    "tags": []
   },
   "outputs": [],
   "source": [
    "#Checking for duplicatesand dropping them\n",
    "df = df.drop_duplicates()"
   ]
  },
  {
   "cell_type": "markdown",
   "id": "cf5ca7c0",
   "metadata": {
    "papermill": {
     "duration": 0.008914,
     "end_time": "2025-04-26T22:38:57.470779",
     "exception": false,
     "start_time": "2025-04-26T22:38:57.461865",
     "status": "completed"
    },
    "tags": []
   },
   "source": [
    "## For now our goal is to have equal representation for each class(product_type) of object."
   ]
  },
  {
   "cell_type": "code",
   "execution_count": 15,
   "id": "e22bf40c",
   "metadata": {
    "execution": {
     "iopub.execute_input": "2025-04-26T22:38:57.554478Z",
     "iopub.status.busy": "2025-04-26T22:38:57.554212Z",
     "iopub.status.idle": "2025-04-26T22:38:57.792116Z",
     "shell.execute_reply": "2025-04-26T22:38:57.791027Z"
    },
    "papermill": {
     "duration": 0.314149,
     "end_time": "2025-04-26T22:38:57.793934",
     "exception": false,
     "start_time": "2025-04-26T22:38:57.479785",
     "status": "completed"
    },
    "tags": []
   },
   "outputs": [],
   "source": [
    "#Checking for entries in which the main_image_id or product_type is nan and removing them\n",
    "df = df.dropna(subset = ['main_image_id'])\n",
    "df = df.dropna(subset = ['product_type'])"
   ]
  },
  {
   "cell_type": "code",
   "execution_count": 16,
   "id": "17d84d0d",
   "metadata": {
    "execution": {
     "iopub.execute_input": "2025-04-26T22:38:57.814478Z",
     "iopub.status.busy": "2025-04-26T22:38:57.814171Z",
     "iopub.status.idle": "2025-04-26T22:38:57.819852Z",
     "shell.execute_reply": "2025-04-26T22:38:57.818952Z"
    },
    "papermill": {
     "duration": 0.017743,
     "end_time": "2025-04-26T22:38:57.821416",
     "exception": false,
     "start_time": "2025-04-26T22:38:57.803673",
     "status": "completed"
    },
    "tags": []
   },
   "outputs": [
    {
     "data": {
      "text/plain": [
       "(146931, 14)"
      ]
     },
     "execution_count": 16,
     "metadata": {},
     "output_type": "execute_result"
    }
   ],
   "source": [
    "df.shape"
   ]
  },
  {
   "cell_type": "markdown",
   "id": "be3fa11f",
   "metadata": {
    "papermill": {
     "duration": 0.009274,
     "end_time": "2025-04-26T22:38:57.840333",
     "exception": false,
     "start_time": "2025-04-26T22:38:57.831059",
     "status": "completed"
    },
    "tags": []
   },
   "source": [
    "## Handling the metadata and converting it to a single column.Also we keep only the values for which language tag has en to reduce the final prompt size that we will give to Gemini"
   ]
  },
  {
   "cell_type": "code",
   "execution_count": 17,
   "id": "e541505c",
   "metadata": {
    "execution": {
     "iopub.execute_input": "2025-04-26T22:38:57.860916Z",
     "iopub.status.busy": "2025-04-26T22:38:57.860556Z",
     "iopub.status.idle": "2025-04-26T22:41:58.004749Z",
     "shell.execute_reply": "2025-04-26T22:41:58.003902Z"
    },
    "papermill": {
     "duration": 180.156483,
     "end_time": "2025-04-26T22:41:58.006490",
     "exception": false,
     "start_time": "2025-04-26T22:38:57.850007",
     "status": "completed"
    },
    "tags": []
   },
   "outputs": [],
   "source": [
    "import ast\n",
    "import pandas as pd\n",
    "import warnings\n",
    "\n",
    "# columns to keep *inside* metadata\n",
    "meta_cols = [c for c in df.columns\n",
    "             if c not in (\"main_image_id\", \"other_image_id\", \"product_type\")]\n",
    "\n",
    "def keep_en(cell):\n",
    "    # only try to eval strings\n",
    "    if isinstance(cell, str):\n",
    "        with warnings.catch_warnings(record=True) as warn_list:\n",
    "            warnings.simplefilter(\"always\", SyntaxWarning)\n",
    "            try:\n",
    "                val = ast.literal_eval(cell)\n",
    "            except Exception:\n",
    "                return cell\n",
    "        # if any SyntaxWarning was caught, print the offending literal\n",
    "        if warn_list:\n",
    "            print(\"SyntaxWarning parsing literal:\", cell)\n",
    "            for w in warn_list:\n",
    "                print(\"    •\", w.message)\n",
    "    else:\n",
    "        val = cell\n",
    "\n",
    "    # now filter for a list of dicts with language_tag→value\n",
    "    if isinstance(val, list) and all(isinstance(d, dict) for d in val):\n",
    "        en_vals = [\n",
    "            d[\"value\"]\n",
    "            for d in val\n",
    "            if d.get(\"language_tag\", \"\").split(\"_\", 1)[0] == \"en\"\n",
    "        ]\n",
    "        if not en_vals:\n",
    "            return None\n",
    "        return en_vals[0] if len(en_vals) == 1 else en_vals\n",
    "\n",
    "    return cell\n",
    "\n",
    "# apply the filter to every metadata column\n",
    "for c in meta_cols:\n",
    "    df[c] = df[c].apply(keep_en)\n",
    "\n",
    "# collapse into three columns\n",
    "df[\"metadata\"] = df[meta_cols].to_dict(orient=\"records\")\n",
    "df = df[[\"main_image_id\", \"other_image_id\", \"product_type\", \"metadata\"]].reset_index(drop=True)\n"
   ]
  },
  {
   "cell_type": "code",
   "execution_count": 18,
   "id": "1d1f1b76",
   "metadata": {
    "execution": {
     "iopub.execute_input": "2025-04-26T22:41:58.026139Z",
     "iopub.status.busy": "2025-04-26T22:41:58.025795Z",
     "iopub.status.idle": "2025-04-26T22:41:58.032016Z",
     "shell.execute_reply": "2025-04-26T22:41:58.031158Z"
    },
    "papermill": {
     "duration": 0.017657,
     "end_time": "2025-04-26T22:41:58.033521",
     "exception": false,
     "start_time": "2025-04-26T22:41:58.015864",
     "status": "completed"
    },
    "tags": []
   },
   "outputs": [
    {
     "data": {
      "text/plain": [
       "{'bullet_point': ['Snug fit for Samsung Galaxy A10s, with perfect cut-outs for volume buttons, audio and charging ports',\n",
       "  'Compatible with Samsung Galaxy A10s',\n",
       "  'Easy to put & take off with perfect cutouts for volume buttons, audio & charging ports.',\n",
       "  'Stylish design and appearance, express your unique personality.',\n",
       "  'Extreme precision design allows easy access to all buttons and ports while featuring raised bezel to life screen and camera off flat surface.',\n",
       "  'None'],\n",
       " 'color': 'Multicolor',\n",
       " 'item_name': 'Amazon Brand - Solimo Designer Chinnese Yin and Yang UV Printed Soft Back Case Mobile Cover for Samsung Galaxy A10s',\n",
       " 'material': 'Silicone',\n",
       " 'model_name': 'Samsung Galaxy A10s',\n",
       " 'item_keywords': ['Back Cover',\n",
       "  'Designer Case',\n",
       "  'Designer Chinnese Yin and Yang Mobile Cover',\n",
       "  'Flexible Case',\n",
       "  'Printed Cover',\n",
       "  'Samsung Galaxy A10s Case',\n",
       "  'Silicone Case',\n",
       "  'Soft TPU',\n",
       "  'cases and covers',\n",
       "  'fashion case',\n",
       "  'mobile Cover'],\n",
       " 'style': nan,\n",
       " 'fabric_type': nan,\n",
       " 'item_shape': nan,\n",
       " 'pattern': nan,\n",
       " 'product_description': nan}"
      ]
     },
     "execution_count": 18,
     "metadata": {},
     "output_type": "execute_result"
    }
   ],
   "source": [
    "df['metadata'][0]"
   ]
  },
  {
   "cell_type": "markdown",
   "id": "7cea16bf",
   "metadata": {
    "papermill": {
     "duration": 0.008856,
     "end_time": "2025-04-26T22:41:58.051796",
     "exception": false,
     "start_time": "2025-04-26T22:41:58.042940",
     "status": "completed"
    },
    "tags": []
   },
   "source": [
    "## We check for duplicates with subset main_image_is and product_type and then copy the values in other columns if present in the other copy"
   ]
  },
  {
   "cell_type": "code",
   "execution_count": 19,
   "id": "2d81e257",
   "metadata": {
    "execution": {
     "iopub.execute_input": "2025-04-26T22:41:58.071769Z",
     "iopub.status.busy": "2025-04-26T22:41:58.071462Z",
     "iopub.status.idle": "2025-04-26T22:41:58.077035Z",
     "shell.execute_reply": "2025-04-26T22:41:58.076273Z"
    },
    "papermill": {
     "duration": 0.017318,
     "end_time": "2025-04-26T22:41:58.078336",
     "exception": false,
     "start_time": "2025-04-26T22:41:58.061018",
     "status": "completed"
    },
    "tags": []
   },
   "outputs": [
    {
     "data": {
      "text/plain": [
       "(146931, 4)"
      ]
     },
     "execution_count": 19,
     "metadata": {},
     "output_type": "execute_result"
    }
   ],
   "source": [
    "df.shape"
   ]
  },
  {
   "cell_type": "code",
   "execution_count": 20,
   "id": "dd1f1597",
   "metadata": {
    "execution": {
     "iopub.execute_input": "2025-04-26T22:41:58.098824Z",
     "iopub.status.busy": "2025-04-26T22:41:58.098467Z",
     "iopub.status.idle": "2025-04-26T22:42:19.714482Z",
     "shell.execute_reply": "2025-04-26T22:42:19.713527Z"
    },
    "papermill": {
     "duration": 21.628407,
     "end_time": "2025-04-26T22:42:19.716367",
     "exception": false,
     "start_time": "2025-04-26T22:41:58.087960",
     "status": "completed"
    },
    "tags": []
   },
   "outputs": [],
   "source": [
    "\n",
    "#  Define a “first valid” helper that skips NaNs and empty dicts\n",
    "def first_valid(series):\n",
    "    # drop pandas‐NA\n",
    "    nonnull = series.dropna().tolist()\n",
    "    # also skip empty dicts\n",
    "    nonempty = [x for x in nonnull if not (isinstance(x, dict) and len(x)==0)]\n",
    "    return nonempty[0] if nonempty else pd.NA\n",
    "\n",
    "#  Group by the two keys and aggregate\n",
    "df = (\n",
    "    df\n",
    "    .groupby(['main_image_id', 'product_type'], as_index=False)\n",
    "    .agg({\n",
    "        'other_image_id': first_valid,\n",
    "        'metadata'      : first_valid,\n",
    "        # if you have other columns you want to preserve, decide how to agg them here\n",
    "    })\n",
    ")\n"
   ]
  },
  {
   "cell_type": "code",
   "execution_count": 21,
   "id": "51416397",
   "metadata": {
    "execution": {
     "iopub.execute_input": "2025-04-26T22:42:19.736611Z",
     "iopub.status.busy": "2025-04-26T22:42:19.736273Z",
     "iopub.status.idle": "2025-04-26T22:42:19.742499Z",
     "shell.execute_reply": "2025-04-26T22:42:19.741437Z"
    },
    "papermill": {
     "duration": 0.017951,
     "end_time": "2025-04-26T22:42:19.743995",
     "exception": false,
     "start_time": "2025-04-26T22:42:19.726044",
     "status": "completed"
    },
    "tags": []
   },
   "outputs": [
    {
     "data": {
      "text/plain": [
       "(126572, 4)"
      ]
     },
     "execution_count": 21,
     "metadata": {},
     "output_type": "execute_result"
    }
   ],
   "source": [
    "df.shape"
   ]
  },
  {
   "cell_type": "code",
   "execution_count": 22,
   "id": "a8cf8c1e",
   "metadata": {
    "execution": {
     "iopub.execute_input": "2025-04-26T22:42:19.764749Z",
     "iopub.status.busy": "2025-04-26T22:42:19.764367Z",
     "iopub.status.idle": "2025-04-26T22:42:19.778451Z",
     "shell.execute_reply": "2025-04-26T22:42:19.777521Z"
    },
    "papermill": {
     "duration": 0.025917,
     "end_time": "2025-04-26T22:42:19.779901",
     "exception": false,
     "start_time": "2025-04-26T22:42:19.753984",
     "status": "completed"
    },
    "tags": []
   },
   "outputs": [
    {
     "data": {
      "text/html": [
       "<div>\n",
       "<style scoped>\n",
       "    .dataframe tbody tr th:only-of-type {\n",
       "        vertical-align: middle;\n",
       "    }\n",
       "\n",
       "    .dataframe tbody tr th {\n",
       "        vertical-align: top;\n",
       "    }\n",
       "\n",
       "    .dataframe thead th {\n",
       "        text-align: right;\n",
       "    }\n",
       "</style>\n",
       "<table border=\"1\" class=\"dataframe\">\n",
       "  <thead>\n",
       "    <tr style=\"text-align: right;\">\n",
       "      <th></th>\n",
       "      <th>main_image_id</th>\n",
       "      <th>product_type</th>\n",
       "      <th>other_image_id</th>\n",
       "      <th>metadata</th>\n",
       "    </tr>\n",
       "  </thead>\n",
       "  <tbody>\n",
       "    <tr>\n",
       "      <th>0</th>\n",
       "      <td>010-mllS7JL</td>\n",
       "      <td>KITCHEN</td>\n",
       "      <td>&lt;NA&gt;</td>\n",
       "      <td>{'bullet_point': nan, 'color': nan, 'item_name...</td>\n",
       "    </tr>\n",
       "    <tr>\n",
       "      <th>1</th>\n",
       "      <td>01dkn0Gyx0L</td>\n",
       "      <td>KITCHEN</td>\n",
       "      <td>&lt;NA&gt;</td>\n",
       "      <td>{'bullet_point': nan, 'color': nan, 'item_name...</td>\n",
       "    </tr>\n",
       "    <tr>\n",
       "      <th>2</th>\n",
       "      <td>01sUPg0387L</td>\n",
       "      <td>KITCHEN</td>\n",
       "      <td>&lt;NA&gt;</td>\n",
       "      <td>{'bullet_point': nan, 'color': nan, 'item_name...</td>\n",
       "    </tr>\n",
       "    <tr>\n",
       "      <th>3</th>\n",
       "      <td>1168jc-5r1L</td>\n",
       "      <td>KITCHEN</td>\n",
       "      <td>&lt;NA&gt;</td>\n",
       "      <td>{'bullet_point': nan, 'color': nan, 'item_name...</td>\n",
       "    </tr>\n",
       "    <tr>\n",
       "      <th>4</th>\n",
       "      <td>11Y+Xpt1lfL</td>\n",
       "      <td>AV_FURNITURE</td>\n",
       "      <td>&lt;NA&gt;</td>\n",
       "      <td>{'bullet_point': nan, 'color': nan, 'item_name...</td>\n",
       "    </tr>\n",
       "    <tr>\n",
       "      <th>...</th>\n",
       "      <td>...</td>\n",
       "      <td>...</td>\n",
       "      <td>...</td>\n",
       "      <td>...</td>\n",
       "    </tr>\n",
       "    <tr>\n",
       "      <th>126567</th>\n",
       "      <td>B1zaWoxtyUS</td>\n",
       "      <td>OTTOMAN</td>\n",
       "      <td>&lt;NA&gt;</td>\n",
       "      <td>{'bullet_point': nan, 'color': None, 'item_nam...</td>\n",
       "    </tr>\n",
       "    <tr>\n",
       "      <th>126568</th>\n",
       "      <td>B1zaWoxtyUS</td>\n",
       "      <td>SOFA</td>\n",
       "      <td>&lt;NA&gt;</td>\n",
       "      <td>{'bullet_point': nan, 'color': 'Emerald', 'ite...</td>\n",
       "    </tr>\n",
       "    <tr>\n",
       "      <th>126569</th>\n",
       "      <td>B1zcg3T8Y5S</td>\n",
       "      <td>CHAIR</td>\n",
       "      <td>['81-3KL49ykL', 'A1qEy7mgVML', '91nlwGrN+uL', ...</td>\n",
       "      <td>{'bullet_point': ['When it comes to style, you...</td>\n",
       "    </tr>\n",
       "    <tr>\n",
       "      <th>126570</th>\n",
       "      <td>B1zgxPn45QS</td>\n",
       "      <td>SOFA</td>\n",
       "      <td>&lt;NA&gt;</td>\n",
       "      <td>{'bullet_point': nan, 'color': 'Slate', 'item_...</td>\n",
       "    </tr>\n",
       "    <tr>\n",
       "      <th>126571</th>\n",
       "      <td>B1zmBcRLANS</td>\n",
       "      <td>CHAIR</td>\n",
       "      <td>&lt;NA&gt;</td>\n",
       "      <td>{'bullet_point': nan, 'color': None, 'item_nam...</td>\n",
       "    </tr>\n",
       "  </tbody>\n",
       "</table>\n",
       "<p>126572 rows × 4 columns</p>\n",
       "</div>"
      ],
      "text/plain": [
       "       main_image_id  product_type  \\\n",
       "0        010-mllS7JL       KITCHEN   \n",
       "1        01dkn0Gyx0L       KITCHEN   \n",
       "2        01sUPg0387L       KITCHEN   \n",
       "3        1168jc-5r1L       KITCHEN   \n",
       "4        11Y+Xpt1lfL  AV_FURNITURE   \n",
       "...              ...           ...   \n",
       "126567   B1zaWoxtyUS       OTTOMAN   \n",
       "126568   B1zaWoxtyUS          SOFA   \n",
       "126569   B1zcg3T8Y5S         CHAIR   \n",
       "126570   B1zgxPn45QS          SOFA   \n",
       "126571   B1zmBcRLANS         CHAIR   \n",
       "\n",
       "                                           other_image_id  \\\n",
       "0                                                    <NA>   \n",
       "1                                                    <NA>   \n",
       "2                                                    <NA>   \n",
       "3                                                    <NA>   \n",
       "4                                                    <NA>   \n",
       "...                                                   ...   \n",
       "126567                                               <NA>   \n",
       "126568                                               <NA>   \n",
       "126569  ['81-3KL49ykL', 'A1qEy7mgVML', '91nlwGrN+uL', ...   \n",
       "126570                                               <NA>   \n",
       "126571                                               <NA>   \n",
       "\n",
       "                                                 metadata  \n",
       "0       {'bullet_point': nan, 'color': nan, 'item_name...  \n",
       "1       {'bullet_point': nan, 'color': nan, 'item_name...  \n",
       "2       {'bullet_point': nan, 'color': nan, 'item_name...  \n",
       "3       {'bullet_point': nan, 'color': nan, 'item_name...  \n",
       "4       {'bullet_point': nan, 'color': nan, 'item_name...  \n",
       "...                                                   ...  \n",
       "126567  {'bullet_point': nan, 'color': None, 'item_nam...  \n",
       "126568  {'bullet_point': nan, 'color': 'Emerald', 'ite...  \n",
       "126569  {'bullet_point': ['When it comes to style, you...  \n",
       "126570  {'bullet_point': nan, 'color': 'Slate', 'item_...  \n",
       "126571  {'bullet_point': nan, 'color': None, 'item_nam...  \n",
       "\n",
       "[126572 rows x 4 columns]"
      ]
     },
     "execution_count": 22,
     "metadata": {},
     "output_type": "execute_result"
    }
   ],
   "source": [
    "df"
   ]
  },
  {
   "cell_type": "code",
   "execution_count": 23,
   "id": "fff9e345",
   "metadata": {
    "execution": {
     "iopub.execute_input": "2025-04-26T22:42:19.801620Z",
     "iopub.status.busy": "2025-04-26T22:42:19.800565Z",
     "iopub.status.idle": "2025-04-26T22:42:19.831376Z",
     "shell.execute_reply": "2025-04-26T22:42:19.830653Z"
    },
    "papermill": {
     "duration": 0.042618,
     "end_time": "2025-04-26T22:42:19.832683",
     "exception": false,
     "start_time": "2025-04-26T22:42:19.790065",
     "status": "completed"
    },
    "tags": []
   },
   "outputs": [
    {
     "data": {
      "text/plain": [
       "3061"
      ]
     },
     "execution_count": 23,
     "metadata": {},
     "output_type": "execute_result"
    }
   ],
   "source": [
    "df.duplicated(subset = 'main_image_id').sum()"
   ]
  },
  {
   "cell_type": "code",
   "execution_count": 24,
   "id": "3a0ee579",
   "metadata": {
    "execution": {
     "iopub.execute_input": "2025-04-26T22:42:19.854062Z",
     "iopub.status.busy": "2025-04-26T22:42:19.853289Z",
     "iopub.status.idle": "2025-04-26T22:42:19.918260Z",
     "shell.execute_reply": "2025-04-26T22:42:19.917429Z"
    },
    "papermill": {
     "duration": 0.076851,
     "end_time": "2025-04-26T22:42:19.919622",
     "exception": false,
     "start_time": "2025-04-26T22:42:19.842771",
     "status": "completed"
    },
    "tags": []
   },
   "outputs": [
    {
     "data": {
      "text/plain": [
       "0"
      ]
     },
     "execution_count": 24,
     "metadata": {},
     "output_type": "execute_result"
    }
   ],
   "source": [
    "df.duplicated(subset = ['main_image_id','product_type']).sum()"
   ]
  },
  {
   "cell_type": "markdown",
   "id": "3dca21e3",
   "metadata": {
    "papermill": {
     "duration": 0.009641,
     "end_time": "2025-04-26T22:42:19.939686",
     "exception": false,
     "start_time": "2025-04-26T22:42:19.930045",
     "status": "completed"
    },
    "tags": []
   },
   "source": [
    "## There are still duplicates in the main_image_id folder.So we look at the product_type and keep the main_image_id in the product_type with less no of images."
   ]
  },
  {
   "cell_type": "code",
   "execution_count": 25,
   "id": "a14850f3",
   "metadata": {
    "execution": {
     "iopub.execute_input": "2025-04-26T22:42:19.961569Z",
     "iopub.status.busy": "2025-04-26T22:42:19.961304Z",
     "iopub.status.idle": "2025-04-26T22:42:19.994707Z",
     "shell.execute_reply": "2025-04-26T22:42:19.993868Z"
    },
    "papermill": {
     "duration": 0.046353,
     "end_time": "2025-04-26T22:42:19.996290",
     "exception": false,
     "start_time": "2025-04-26T22:42:19.949937",
     "status": "completed"
    },
    "tags": []
   },
   "outputs": [
    {
     "data": {
      "text/html": [
       "<div>\n",
       "<style scoped>\n",
       "    .dataframe tbody tr th:only-of-type {\n",
       "        vertical-align: middle;\n",
       "    }\n",
       "\n",
       "    .dataframe tbody tr th {\n",
       "        vertical-align: top;\n",
       "    }\n",
       "\n",
       "    .dataframe thead th {\n",
       "        text-align: right;\n",
       "    }\n",
       "</style>\n",
       "<table border=\"1\" class=\"dataframe\">\n",
       "  <thead>\n",
       "    <tr style=\"text-align: right;\">\n",
       "      <th></th>\n",
       "      <th>main_image_id</th>\n",
       "      <th>product_type</th>\n",
       "      <th>other_image_id</th>\n",
       "      <th>metadata</th>\n",
       "    </tr>\n",
       "  </thead>\n",
       "  <tbody>\n",
       "    <tr>\n",
       "      <th>116600</th>\n",
       "      <td>91+eX+8qX9L</td>\n",
       "      <td>HOME</td>\n",
       "      <td>['81ZRpTk7e5L', '911AsspoO-L', '81hmezCB02L', ...</td>\n",
       "      <td>{'bullet_point': nan, 'color': nan, 'item_name...</td>\n",
       "    </tr>\n",
       "    <tr>\n",
       "      <th>116601</th>\n",
       "      <td>91+eX+8qX9L</td>\n",
       "      <td>HOME_FURNITURE_AND_DECOR</td>\n",
       "      <td>['91zE309gIwL', '81hmezCB02L', '71-rwhALYIL', ...</td>\n",
       "      <td>{'bullet_point': nan, 'color': nan, 'item_name...</td>\n",
       "    </tr>\n",
       "    <tr>\n",
       "      <th>116602</th>\n",
       "      <td>91+eX+8qX9L</td>\n",
       "      <td>WALL_ART</td>\n",
       "      <td>['91k-ToQf+0L', '91zE309gIwL', '81mIyu81lUL', ...</td>\n",
       "      <td>{'bullet_point': ['The majesty of snow falling...</td>\n",
       "    </tr>\n",
       "  </tbody>\n",
       "</table>\n",
       "</div>"
      ],
      "text/plain": [
       "       main_image_id              product_type  \\\n",
       "116600   91+eX+8qX9L                      HOME   \n",
       "116601   91+eX+8qX9L  HOME_FURNITURE_AND_DECOR   \n",
       "116602   91+eX+8qX9L                  WALL_ART   \n",
       "\n",
       "                                           other_image_id  \\\n",
       "116600  ['81ZRpTk7e5L', '911AsspoO-L', '81hmezCB02L', ...   \n",
       "116601  ['91zE309gIwL', '81hmezCB02L', '71-rwhALYIL', ...   \n",
       "116602  ['91k-ToQf+0L', '91zE309gIwL', '81mIyu81lUL', ...   \n",
       "\n",
       "                                                 metadata  \n",
       "116600  {'bullet_point': nan, 'color': nan, 'item_name...  \n",
       "116601  {'bullet_point': nan, 'color': nan, 'item_name...  \n",
       "116602  {'bullet_point': ['The majesty of snow falling...  "
      ]
     },
     "execution_count": 25,
     "metadata": {},
     "output_type": "execute_result"
    }
   ],
   "source": [
    "df[df['main_image_id'] =='91+eX+8qX9L']\n",
    "# There are some image_ids for which some rows have the metadata and some don't"
   ]
  },
  {
   "cell_type": "code",
   "execution_count": 26,
   "id": "d322cf10",
   "metadata": {
    "execution": {
     "iopub.execute_input": "2025-04-26T22:42:20.018599Z",
     "iopub.status.busy": "2025-04-26T22:42:20.017904Z",
     "iopub.status.idle": "2025-04-26T22:42:50.957908Z",
     "shell.execute_reply": "2025-04-26T22:42:50.956912Z"
    },
    "papermill": {
     "duration": 30.961767,
     "end_time": "2025-04-26T22:42:50.968748",
     "exception": false,
     "start_time": "2025-04-26T22:42:20.006981",
     "status": "completed"
    },
    "tags": []
   },
   "outputs": [
    {
     "name": "stderr",
     "output_type": "stream",
     "text": [
      "/tmp/ipykernel_13/1566737555.py:28: DeprecationWarning: DataFrameGroupBy.apply operated on the grouping columns. This behavior is deprecated, and in a future version of pandas the grouping columns will be excluded from the operation. Either pass `include_groups=False` to exclude the groupings or explicitly select the grouping columns after groupby to silence this warning.\n",
      "  .apply(pick_and_merge)\n"
     ]
    }
   ],
   "source": [
    "import pandas as pd\n",
    "\n",
    "# Compute frequencies and sort by rarity\n",
    "pt_counts = df['product_type'].value_counts()\n",
    "df['pt_freq'] = df['product_type'].map(pt_counts)\n",
    "df_sorted = df.sort_values('pt_freq', ascending=True)\n",
    "\n",
    "# Pick the first row (rarest) and then fills in metadata\n",
    "def pick_and_merge(group):\n",
    "    # copy the chosen row\n",
    "    chosen = group.iloc[0].copy()\n",
    "    # start with its metadata (should be a dict)\n",
    "    merged = dict(chosen['metadata'] or {})\n",
    "    # walk through the rest of the group and fill any missing keys/values\n",
    "    for meta in group['metadata'].iloc[1:]:\n",
    "        if isinstance(meta, dict):\n",
    "            for k, v in meta.items():\n",
    "                # if chosen had no value for k (None/empty), grab v\n",
    "                if (not merged.get(k)) and v:\n",
    "                    merged[k] = v\n",
    "    chosen['metadata'] = merged\n",
    "    return chosen\n",
    "\n",
    "#  Apply per-group, then clean up\n",
    "df = (\n",
    "    df_sorted\n",
    "    .groupby('main_image_id', as_index=False)\n",
    "    .apply(pick_and_merge)\n",
    "    .reset_index(drop=True)\n",
    "    .drop(columns='pt_freq')\n",
    ")\n",
    "\n"
   ]
  },
  {
   "cell_type": "code",
   "execution_count": 27,
   "id": "f3a30d04",
   "metadata": {
    "execution": {
     "iopub.execute_input": "2025-04-26T22:42:50.991004Z",
     "iopub.status.busy": "2025-04-26T22:42:50.990159Z",
     "iopub.status.idle": "2025-04-26T22:42:51.021134Z",
     "shell.execute_reply": "2025-04-26T22:42:51.020311Z"
    },
    "papermill": {
     "duration": 0.043342,
     "end_time": "2025-04-26T22:42:51.022544",
     "exception": false,
     "start_time": "2025-04-26T22:42:50.979202",
     "status": "completed"
    },
    "tags": []
   },
   "outputs": [
    {
     "data": {
      "text/html": [
       "<div>\n",
       "<style scoped>\n",
       "    .dataframe tbody tr th:only-of-type {\n",
       "        vertical-align: middle;\n",
       "    }\n",
       "\n",
       "    .dataframe tbody tr th {\n",
       "        vertical-align: top;\n",
       "    }\n",
       "\n",
       "    .dataframe thead th {\n",
       "        text-align: right;\n",
       "    }\n",
       "</style>\n",
       "<table border=\"1\" class=\"dataframe\">\n",
       "  <thead>\n",
       "    <tr style=\"text-align: right;\">\n",
       "      <th></th>\n",
       "      <th>main_image_id</th>\n",
       "      <th>product_type</th>\n",
       "      <th>other_image_id</th>\n",
       "      <th>metadata</th>\n",
       "    </tr>\n",
       "  </thead>\n",
       "  <tbody>\n",
       "    <tr>\n",
       "      <th>114359</th>\n",
       "      <td>91+eX+8qX9L</td>\n",
       "      <td>WALL_ART</td>\n",
       "      <td>['91k-ToQf+0L', '91zE309gIwL', '81mIyu81lUL', ...</td>\n",
       "      <td>{'bullet_point': ['The majesty of snow falling...</td>\n",
       "    </tr>\n",
       "  </tbody>\n",
       "</table>\n",
       "</div>"
      ],
      "text/plain": [
       "       main_image_id product_type  \\\n",
       "114359   91+eX+8qX9L     WALL_ART   \n",
       "\n",
       "                                           other_image_id  \\\n",
       "114359  ['91k-ToQf+0L', '91zE309gIwL', '81mIyu81lUL', ...   \n",
       "\n",
       "                                                 metadata  \n",
       "114359  {'bullet_point': ['The majesty of snow falling...  "
      ]
     },
     "execution_count": 27,
     "metadata": {},
     "output_type": "execute_result"
    }
   ],
   "source": [
    "df[df['main_image_id'] =='91+eX+8qX9L']"
   ]
  },
  {
   "cell_type": "code",
   "execution_count": 28,
   "id": "4c2d333e",
   "metadata": {
    "execution": {
     "iopub.execute_input": "2025-04-26T22:42:51.044943Z",
     "iopub.status.busy": "2025-04-26T22:42:51.044252Z",
     "iopub.status.idle": "2025-04-26T22:42:51.051397Z",
     "shell.execute_reply": "2025-04-26T22:42:51.050585Z"
    },
    "papermill": {
     "duration": 0.019803,
     "end_time": "2025-04-26T22:42:51.052751",
     "exception": false,
     "start_time": "2025-04-26T22:42:51.032948",
     "status": "completed"
    },
    "tags": []
   },
   "outputs": [
    {
     "data": {
      "text/plain": [
       "main_image_id                                           614KvxqyCbL\n",
       "product_type                                                   LOCK\n",
       "other_image_id    ['81N5z9r8WXL', '71LmS0YpxML', '61L9f+Bt8IL', ...\n",
       "metadata          {'bullet_point': None, 'color': 'Pack of 4', '...\n",
       "Name: 10009, dtype: object"
      ]
     },
     "execution_count": 28,
     "metadata": {},
     "output_type": "execute_result"
    }
   ],
   "source": [
    "df.iloc[10009,:]"
   ]
  },
  {
   "cell_type": "code",
   "execution_count": 29,
   "id": "4f6f1f6b",
   "metadata": {
    "execution": {
     "iopub.execute_input": "2025-04-26T22:42:51.077009Z",
     "iopub.status.busy": "2025-04-26T22:42:51.076679Z",
     "iopub.status.idle": "2025-04-26T22:42:51.082787Z",
     "shell.execute_reply": "2025-04-26T22:42:51.081883Z"
    },
    "papermill": {
     "duration": 0.019006,
     "end_time": "2025-04-26T22:42:51.084137",
     "exception": false,
     "start_time": "2025-04-26T22:42:51.065131",
     "status": "completed"
    },
    "tags": []
   },
   "outputs": [
    {
     "data": {
      "text/plain": [
       "{'bullet_point': None,\n",
       " 'color': 'Pack of 4',\n",
       " 'item_name': 'AmazonBasics - TSA Approved 4 Digit Cable Combination Lock, Pack of 4',\n",
       " 'material': nan,\n",
       " 'model_name': nan,\n",
       " 'item_keywords': None,\n",
       " 'style': None,\n",
       " 'fabric_type': nan,\n",
       " 'item_shape': nan,\n",
       " 'pattern': nan,\n",
       " 'product_description': nan}"
      ]
     },
     "execution_count": 29,
     "metadata": {},
     "output_type": "execute_result"
    }
   ],
   "source": [
    "df['metadata'][10009]"
   ]
  },
  {
   "cell_type": "code",
   "execution_count": 30,
   "id": "f22450f2",
   "metadata": {
    "execution": {
     "iopub.execute_input": "2025-04-26T22:42:51.105995Z",
     "iopub.status.busy": "2025-04-26T22:42:51.105570Z",
     "iopub.status.idle": "2025-04-26T22:42:52.003766Z",
     "shell.execute_reply": "2025-04-26T22:42:52.002873Z"
    },
    "papermill": {
     "duration": 0.911773,
     "end_time": "2025-04-26T22:42:52.006204",
     "exception": false,
     "start_time": "2025-04-26T22:42:51.094431",
     "status": "completed"
    },
    "tags": []
   },
   "outputs": [
    {
     "data": {
      "text/plain": [
       "<matplotlib.image.AxesImage at 0x7c418e5000d0>"
      ]
     },
     "execution_count": 30,
     "metadata": {},
     "output_type": "execute_result"
    },
    {
     "data": {
      "image/png": "[encoded data removed]",
      "text/plain": [
       "<Figure size 640x480 with 1 Axes>"
      ]
     },
     "metadata": {},
     "output_type": "display_data"
    }
   ],
   "source": [
    "import cv2\n",
    "path = os.path.join('/kaggle/input/abo-small/images/small',df_id[df_id['image_id'] == '81N5z9r8WXL']['path'].values[0])\n",
    "img = cv2.imread(path,cv2.IMREAD_UNCHANGED)\n",
    "import matplotlib.pyplot as plt\n",
    "plt.imshow(img)"
   ]
  },
  {
   "cell_type": "markdown",
   "id": "bf348c05",
   "metadata": {
    "papermill": {
     "duration": 0.012081,
     "end_time": "2025-04-26T22:42:52.031073",
     "exception": false,
     "start_time": "2025-04-26T22:42:52.018992",
     "status": "completed"
    },
    "tags": []
   },
   "source": [
    "## Preparing the final dataframe\n",
    "1. Now for categories with less than 53 images,we use their other_image column.\n",
    "2. We will create a new image_id column.It will have main_image_ids and other_images of categories with less images\n",
    "3. Finally the df should have 3 columns : ['image_id','product_type','metadata']\n",
    "4. Each product_type must have the same number of total images.\n"
   ]
  },
  {
   "cell_type": "code",
   "execution_count": 31,
   "id": "37c876e1",
   "metadata": {
    "execution": {
     "iopub.execute_input": "2025-04-26T22:42:52.056648Z",
     "iopub.status.busy": "2025-04-26T22:42:52.056362Z",
     "iopub.status.idle": "2025-04-26T22:42:52.072397Z",
     "shell.execute_reply": "2025-04-26T22:42:52.071294Z"
    },
    "papermill": {
     "duration": 0.030874,
     "end_time": "2025-04-26T22:42:52.074139",
     "exception": false,
     "start_time": "2025-04-26T22:42:52.043265",
     "status": "completed"
    },
    "tags": []
   },
   "outputs": [
    {
     "data": {
      "text/plain": [
       "414"
      ]
     },
     "execution_count": 31,
     "metadata": {},
     "output_type": "execute_result"
    }
   ],
   "source": [
    "(df['product_type'].value_counts() < 53).sum()"
   ]
  },
  {
   "cell_type": "code",
   "execution_count": 32,
   "id": "73c81669",
   "metadata": {
    "execution": {
     "iopub.execute_input": "2025-04-26T22:42:52.100589Z",
     "iopub.status.busy": "2025-04-26T22:42:52.100265Z",
     "iopub.status.idle": "2025-04-26T22:42:55.544270Z",
     "shell.execute_reply": "2025-04-26T22:42:55.543260Z"
    },
    "papermill": {
     "duration": 3.458989,
     "end_time": "2025-04-26T22:42:55.546000",
     "exception": false,
     "start_time": "2025-04-26T22:42:52.087011",
     "status": "completed"
    },
    "tags": []
   },
   "outputs": [],
   "source": [
    "import pandas as pd\n",
    "import random\n",
    "from ast import literal_eval\n",
    "\n",
    "# Make sure other_image_id is an actual list (not a string)\n",
    "def _ensure_list(x):\n",
    "    if pd.isna(x):\n",
    "        return []\n",
    "    if isinstance(x, str):\n",
    "        return literal_eval(x)\n",
    "    return x\n",
    "\n",
    "df['other_image_id'] = df['other_image_id'].apply(_ensure_list)\n",
    "\n",
    "#  Prepare storage\n",
    "output = []\n",
    "\n",
    "#  Process each category\n",
    "for ptype, grp in df.groupby('product_type'):\n",
    "     # shuffle for randomness\n",
    "    grp = grp.sample(frac=1, random_state=42)\n",
    "    \n",
    "    # rename main_image_id → image_id\n",
    "    mains = grp[['main_image_id','metadata']] \\\n",
    "              .rename(columns={'main_image_id':'image_id'})\n",
    "    \n",
    "    if len(mains) >= 53:\n",
    "        # just pick 53 mains\n",
    "        picked = mains.sample(n=53, random_state=42)\n",
    "    else:\n",
    "        # take all mains, then supplement\n",
    "        picked = mains.copy()\n",
    "        needed = 53 - len(picked)\n",
    "        \n",
    "        # flatten other_image_id → (image_id, metadata)\n",
    "        others = []\n",
    "        for _, row in grp.iterrows():\n",
    "            for oid in row['other_image_id']:\n",
    "                others.append({\n",
    "                    'image_id': oid,\n",
    "                    'metadata': row['metadata']\n",
    "                })\n",
    "        if others:\n",
    "            others_df = pd.DataFrame(others).drop_duplicates('image_id')\n",
    "            n_pick = min(needed, len(others_df))\n",
    "            pick_others = others_df.sample(n=n_pick, random_state=42)\n",
    "            picked = pd.concat([picked, pick_others], ignore_index=True)\n",
    "    \n",
    "    # tag with product_type and collect\n",
    "    picked['product_type'] = ptype\n",
    "    output.append(picked)\n",
    "\n",
    "# 4. Concatenate and reorder columns\n",
    "new_df = pd.concat(output, ignore_index=True)[['image_id','product_type','metadata']]\n"
   ]
  },
  {
   "cell_type": "code",
   "execution_count": 33,
   "id": "7dd1d741",
   "metadata": {
    "execution": {
     "iopub.execute_input": "2025-04-26T22:42:55.571789Z",
     "iopub.status.busy": "2025-04-26T22:42:55.571444Z",
     "iopub.status.idle": "2025-04-26T22:42:55.594407Z",
     "shell.execute_reply": "2025-04-26T22:42:55.593439Z"
    },
    "papermill": {
     "duration": 0.037462,
     "end_time": "2025-04-26T22:42:55.595892",
     "exception": false,
     "start_time": "2025-04-26T22:42:55.558430",
     "status": "completed"
    },
    "tags": []
   },
   "outputs": [
    {
     "name": "stdout",
     "output_type": "stream",
     "text": [
      "<class 'pandas.core.frame.DataFrame'>\n",
      "RangeIndex: 22048 entries, 0 to 22047\n",
      "Data columns (total 3 columns):\n",
      " #   Column        Non-Null Count  Dtype \n",
      "---  ------        --------------  ----- \n",
      " 0   image_id      22048 non-null  object\n",
      " 1   product_type  22048 non-null  object\n",
      " 2   metadata      22048 non-null  object\n",
      "dtypes: object(3)\n",
      "memory usage: 516.9+ KB\n"
     ]
    }
   ],
   "source": [
    "new_df.info()"
   ]
  },
  {
   "cell_type": "code",
   "execution_count": 34,
   "id": "5016bb6f",
   "metadata": {
    "execution": {
     "iopub.execute_input": "2025-04-26T22:42:55.622931Z",
     "iopub.status.busy": "2025-04-26T22:42:55.621951Z",
     "iopub.status.idle": "2025-04-26T22:42:55.630855Z",
     "shell.execute_reply": "2025-04-26T22:42:55.630016Z"
    },
    "papermill": {
     "duration": 0.023467,
     "end_time": "2025-04-26T22:42:55.632295",
     "exception": false,
     "start_time": "2025-04-26T22:42:55.608828",
     "status": "completed"
    },
    "tags": []
   },
   "outputs": [
    {
     "data": {
      "text/plain": [
       "251"
      ]
     },
     "execution_count": 34,
     "metadata": {},
     "output_type": "execute_result"
    }
   ],
   "source": [
    "(new_df['product_type'].value_counts() < 53).sum()"
   ]
  },
  {
   "cell_type": "code",
   "execution_count": 35,
   "id": "eb779af5",
   "metadata": {
    "execution": {
     "iopub.execute_input": "2025-04-26T22:42:55.658635Z",
     "iopub.status.busy": "2025-04-26T22:42:55.658321Z",
     "iopub.status.idle": "2025-04-26T22:42:55.664529Z",
     "shell.execute_reply": "2025-04-26T22:42:55.663542Z"
    },
    "papermill": {
     "duration": 0.021231,
     "end_time": "2025-04-26T22:42:55.666172",
     "exception": false,
     "start_time": "2025-04-26T22:42:55.644941",
     "status": "completed"
    },
    "tags": []
   },
   "outputs": [
    {
     "data": {
      "text/plain": [
       "(22048, 3)"
      ]
     },
     "execution_count": 35,
     "metadata": {},
     "output_type": "execute_result"
    }
   ],
   "source": [
    "new_df.shape"
   ]
  },
  {
   "cell_type": "markdown",
   "id": "557d15a2",
   "metadata": {
    "papermill": {
     "duration": 0.012899,
     "end_time": "2025-04-26T22:42:55.691943",
     "exception": false,
     "start_time": "2025-04-26T22:42:55.679044",
     "status": "completed"
    },
    "tags": []
   },
   "source": [
    "There are still 251 categories with less than 53 images\n",
    "From here we can have 2 approached:\n",
    "1. Leave them as they are.\n",
    "2. RandomOversampling of the images by trying to change some things like color etc."
   ]
  },
  {
   "cell_type": "code",
   "execution_count": 36,
   "id": "d4056041",
   "metadata": {
    "execution": {
     "iopub.execute_input": "2025-04-26T22:42:55.718162Z",
     "iopub.status.busy": "2025-04-26T22:42:55.717852Z",
     "iopub.status.idle": "2025-04-26T22:42:55.738832Z",
     "shell.execute_reply": "2025-04-26T22:42:55.737540Z"
    },
    "papermill": {
     "duration": 0.0363,
     "end_time": "2025-04-26T22:42:55.740624",
     "exception": false,
     "start_time": "2025-04-26T22:42:55.704324",
     "status": "completed"
    },
    "tags": []
   },
   "outputs": [],
   "source": [
    "df_id['image_id'] = df_id['image_id'].astype(str)\n",
    "new_df['image_id'] = new_df['image_id'].astype(str)"
   ]
  },
  {
   "cell_type": "code",
   "execution_count": 37,
   "id": "16666bd4",
   "metadata": {
    "execution": {
     "iopub.execute_input": "2025-04-26T22:42:55.767323Z",
     "iopub.status.busy": "2025-04-26T22:42:55.767000Z",
     "iopub.status.idle": "2025-04-26T22:42:56.022154Z",
     "shell.execute_reply": "2025-04-26T22:42:56.021023Z"
    },
    "papermill": {
     "duration": 0.270883,
     "end_time": "2025-04-26T22:42:56.024123",
     "exception": false,
     "start_time": "2025-04-26T22:42:55.753240",
     "status": "completed"
    },
    "tags": []
   },
   "outputs": [],
   "source": [
    "# Joing with df_id to get the paths\n",
    "final_df = new_df.join(df_id.set_index('image_id'),on='image_id',how='left')"
   ]
  },
  {
   "cell_type": "code",
   "execution_count": 38,
   "id": "711fd87e",
   "metadata": {
    "execution": {
     "iopub.execute_input": "2025-04-26T22:42:56.053207Z",
     "iopub.status.busy": "2025-04-26T22:42:56.052896Z",
     "iopub.status.idle": "2025-04-26T22:42:56.062914Z",
     "shell.execute_reply": "2025-04-26T22:42:56.062070Z"
    },
    "papermill": {
     "duration": 0.026118,
     "end_time": "2025-04-26T22:42:56.064399",
     "exception": false,
     "start_time": "2025-04-26T22:42:56.038281",
     "status": "completed"
    },
    "tags": []
   },
   "outputs": [
    {
     "data": {
      "text/plain": [
       "0"
      ]
     },
     "execution_count": 38,
     "metadata": {},
     "output_type": "execute_result"
    }
   ],
   "source": [
    "(final_df['path'].isna()).sum()"
   ]
  },
  {
   "cell_type": "code",
   "execution_count": 39,
   "id": "233069f3",
   "metadata": {
    "execution": {
     "iopub.execute_input": "2025-04-26T22:42:56.092454Z",
     "iopub.status.busy": "2025-04-26T22:42:56.092139Z",
     "iopub.status.idle": "2025-04-26T22:42:56.097885Z",
     "shell.execute_reply": "2025-04-26T22:42:56.097076Z"
    },
    "papermill": {
     "duration": 0.021058,
     "end_time": "2025-04-26T22:42:56.099344",
     "exception": false,
     "start_time": "2025-04-26T22:42:56.078286",
     "status": "completed"
    },
    "tags": []
   },
   "outputs": [
    {
     "data": {
      "text/plain": [
       "(22048, 6)"
      ]
     },
     "execution_count": 39,
     "metadata": {},
     "output_type": "execute_result"
    }
   ],
   "source": [
    "final_df.shape"
   ]
  },
  {
   "cell_type": "markdown",
   "id": "d2c4bfd5",
   "metadata": {
    "papermill": {
     "duration": 0.012472,
     "end_time": "2025-04-26T22:42:56.124604",
     "exception": false,
     "start_time": "2025-04-26T22:42:56.112132",
     "status": "completed"
    },
    "tags": []
   },
   "source": [
    "We split this df into two so we can use 2 apis to curate the data simultaneously."
   ]
  },
  {
   "cell_type": "code",
   "execution_count": 40,
   "id": "f90432c5",
   "metadata": {
    "execution": {
     "iopub.execute_input": "2025-04-26T22:42:56.152079Z",
     "iopub.status.busy": "2025-04-26T22:42:56.151088Z",
     "iopub.status.idle": "2025-04-26T22:42:56.157224Z",
     "shell.execute_reply": "2025-04-26T22:42:56.156274Z"
    },
    "papermill": {
     "duration": 0.021159,
     "end_time": "2025-04-26T22:42:56.158528",
     "exception": false,
     "start_time": "2025-04-26T22:42:56.137369",
     "status": "completed"
    },
    "tags": []
   },
   "outputs": [
    {
     "name": "stdout",
     "output_type": "stream",
     "text": [
      "(11024, 6)\n",
      "(11024, 6)\n"
     ]
    }
   ],
   "source": [
    "n = final_df.shape[0]//2\n",
    "first_half = final_df.iloc[:n]\n",
    "second_half = final_df.iloc[n:]\n",
    "print(first_half.shape)\n",
    "print(second_half.shape)"
   ]
  },
  {
   "cell_type": "code",
   "execution_count": 41,
   "id": "783ca4f9",
   "metadata": {
    "execution": {
     "iopub.execute_input": "2025-04-26T22:42:56.185305Z",
     "iopub.status.busy": "2025-04-26T22:42:56.185020Z",
     "iopub.status.idle": "2025-04-26T22:42:57.431644Z",
     "shell.execute_reply": "2025-04-26T22:42:57.430668Z"
    },
    "papermill": {
     "duration": 1.26203,
     "end_time": "2025-04-26T22:42:57.433332",
     "exception": false,
     "start_time": "2025-04-26T22:42:56.171302",
     "status": "completed"
    },
    "tags": []
   },
   "outputs": [],
   "source": [
    "first_half.to_csv('/kaggle/working/ids_without_oversampling1.csv',index=False)\n",
    "second_half.to_csv('/kaggle/working/ids_without_oversampling2.csv',index=False)"
   ]
  },
  {
   "cell_type": "code",
   "execution_count": null,
   "id": "cd17b7ba",
   "metadata": {
    "papermill": {
     "duration": 0.012402,
     "end_time": "2025-04-26T22:42:57.458442",
     "exception": false,
     "start_time": "2025-04-26T22:42:57.446040",
     "status": "completed"
    },
    "tags": []
   },
   "outputs": [],
   "source": []
  }
 ],
 "metadata": {
  "kaggle": {
   "accelerator": "none",
   "dataSources": [
    {
     "datasetId": 7233922,
     "sourceId": 11533708,
     "sourceType": "datasetVersion"
    },
    {
     "datasetId": 7241605,
     "sourceId": 11547504,
     "sourceType": "datasetVersion"
    },
    {
     "datasetId": 7251068,
     "sourceId": 11564761,
     "sourceType": "datasetVersion"
    }
   ],
   "dockerImageVersionId": 31012,
   "isGpuEnabled": false,
   "isInternetEnabled": true,
   "language": "python",
   "sourceType": "notebook"
  },
  "kernelspec": {
   "display_name": "Python 3",
   "language": "python",
   "name": "python3"
  },
  "language_info": {
   "codemirror_mode": {
    "name": "ipython",
    "version": 3
   },
   "file_extension": ".py",
   "mimetype": "text/x-python",
   "name": "python",
   "nbconvert_exporter": "python",
   "pygments_lexer": "ipython3",
   "version": "3.11.11"
  },
  "papermill": {
   "default_parameters": {},
   "duration": 275.569734,
   "end_time": "2025-04-26T22:42:59.799044",
   "environment_variables": {},
   "exception": null,
   "input_path": "__notebook__.ipynb",
   "output_path": "__notebook__.ipynb",
   "parameters": {},
   "start_time": "2025-04-26T22:38:24.229310",
   "version": "2.6.0"
  }
 },
 "nbformat": 4,
 "nbformat_minor": 5
}
